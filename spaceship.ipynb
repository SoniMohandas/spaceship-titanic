{
 "cells": [
  {
   "cell_type": "code",
   "execution_count": 81,
   "metadata": {},
   "outputs": [],
   "source": [
    "# Dependencies\n",
    "import pandas as pd\n",
    "import numpy as np\n",
    "import warnings\n",
    "from numpy import savetxt\n",
    "warnings.simplefilter('ignore')"
   ]
  },
  {
   "cell_type": "code",
   "execution_count": 82,
   "metadata": {},
   "outputs": [],
   "source": [
    "# Load csv files into dataframe\n",
    "train = pd.read_csv(\"Resources/train.csv\")\n",
    "test = pd.read_csv(\"Resources/test.csv\")"
   ]
  },
  {
   "cell_type": "code",
   "execution_count": 83,
   "metadata": {},
   "outputs": [
    {
     "data": {
      "text/html": [
       "<div>\n",
       "<style scoped>\n",
       "    .dataframe tbody tr th:only-of-type {\n",
       "        vertical-align: middle;\n",
       "    }\n",
       "\n",
       "    .dataframe tbody tr th {\n",
       "        vertical-align: top;\n",
       "    }\n",
       "\n",
       "    .dataframe thead th {\n",
       "        text-align: right;\n",
       "    }\n",
       "</style>\n",
       "<table border=\"1\" class=\"dataframe\">\n",
       "  <thead>\n",
       "    <tr style=\"text-align: right;\">\n",
       "      <th></th>\n",
       "      <th>PassengerId</th>\n",
       "      <th>HomePlanet</th>\n",
       "      <th>CryoSleep</th>\n",
       "      <th>Cabin</th>\n",
       "      <th>Destination</th>\n",
       "      <th>Age</th>\n",
       "      <th>VIP</th>\n",
       "      <th>RoomService</th>\n",
       "      <th>FoodCourt</th>\n",
       "      <th>ShoppingMall</th>\n",
       "      <th>Spa</th>\n",
       "      <th>VRDeck</th>\n",
       "      <th>Name</th>\n",
       "      <th>Transported</th>\n",
       "    </tr>\n",
       "  </thead>\n",
       "  <tbody>\n",
       "    <tr>\n",
       "      <th>0</th>\n",
       "      <td>0001_01</td>\n",
       "      <td>Europa</td>\n",
       "      <td>False</td>\n",
       "      <td>B/0/P</td>\n",
       "      <td>TRAPPIST-1e</td>\n",
       "      <td>39.0</td>\n",
       "      <td>False</td>\n",
       "      <td>0.0</td>\n",
       "      <td>0.0</td>\n",
       "      <td>0.0</td>\n",
       "      <td>0.0</td>\n",
       "      <td>0.0</td>\n",
       "      <td>Maham Ofracculy</td>\n",
       "      <td>False</td>\n",
       "    </tr>\n",
       "    <tr>\n",
       "      <th>1</th>\n",
       "      <td>0002_01</td>\n",
       "      <td>Earth</td>\n",
       "      <td>False</td>\n",
       "      <td>F/0/S</td>\n",
       "      <td>TRAPPIST-1e</td>\n",
       "      <td>24.0</td>\n",
       "      <td>False</td>\n",
       "      <td>109.0</td>\n",
       "      <td>9.0</td>\n",
       "      <td>25.0</td>\n",
       "      <td>549.0</td>\n",
       "      <td>44.0</td>\n",
       "      <td>Juanna Vines</td>\n",
       "      <td>True</td>\n",
       "    </tr>\n",
       "    <tr>\n",
       "      <th>2</th>\n",
       "      <td>0003_01</td>\n",
       "      <td>Europa</td>\n",
       "      <td>False</td>\n",
       "      <td>A/0/S</td>\n",
       "      <td>TRAPPIST-1e</td>\n",
       "      <td>58.0</td>\n",
       "      <td>True</td>\n",
       "      <td>43.0</td>\n",
       "      <td>3576.0</td>\n",
       "      <td>0.0</td>\n",
       "      <td>6715.0</td>\n",
       "      <td>49.0</td>\n",
       "      <td>Altark Susent</td>\n",
       "      <td>False</td>\n",
       "    </tr>\n",
       "    <tr>\n",
       "      <th>3</th>\n",
       "      <td>0003_02</td>\n",
       "      <td>Europa</td>\n",
       "      <td>False</td>\n",
       "      <td>A/0/S</td>\n",
       "      <td>TRAPPIST-1e</td>\n",
       "      <td>33.0</td>\n",
       "      <td>False</td>\n",
       "      <td>0.0</td>\n",
       "      <td>1283.0</td>\n",
       "      <td>371.0</td>\n",
       "      <td>3329.0</td>\n",
       "      <td>193.0</td>\n",
       "      <td>Solam Susent</td>\n",
       "      <td>False</td>\n",
       "    </tr>\n",
       "    <tr>\n",
       "      <th>4</th>\n",
       "      <td>0004_01</td>\n",
       "      <td>Earth</td>\n",
       "      <td>False</td>\n",
       "      <td>F/1/S</td>\n",
       "      <td>TRAPPIST-1e</td>\n",
       "      <td>16.0</td>\n",
       "      <td>False</td>\n",
       "      <td>303.0</td>\n",
       "      <td>70.0</td>\n",
       "      <td>151.0</td>\n",
       "      <td>565.0</td>\n",
       "      <td>2.0</td>\n",
       "      <td>Willy Santantines</td>\n",
       "      <td>True</td>\n",
       "    </tr>\n",
       "  </tbody>\n",
       "</table>\n",
       "</div>"
      ],
      "text/plain": [
       "  PassengerId HomePlanet CryoSleep  Cabin  Destination   Age    VIP  \\\n",
       "0     0001_01     Europa     False  B/0/P  TRAPPIST-1e  39.0  False   \n",
       "1     0002_01      Earth     False  F/0/S  TRAPPIST-1e  24.0  False   \n",
       "2     0003_01     Europa     False  A/0/S  TRAPPIST-1e  58.0   True   \n",
       "3     0003_02     Europa     False  A/0/S  TRAPPIST-1e  33.0  False   \n",
       "4     0004_01      Earth     False  F/1/S  TRAPPIST-1e  16.0  False   \n",
       "\n",
       "   RoomService  FoodCourt  ShoppingMall     Spa  VRDeck               Name  \\\n",
       "0          0.0        0.0           0.0     0.0     0.0    Maham Ofracculy   \n",
       "1        109.0        9.0          25.0   549.0    44.0       Juanna Vines   \n",
       "2         43.0     3576.0           0.0  6715.0    49.0      Altark Susent   \n",
       "3          0.0     1283.0         371.0  3329.0   193.0       Solam Susent   \n",
       "4        303.0       70.0         151.0   565.0     2.0  Willy Santantines   \n",
       "\n",
       "   Transported  \n",
       "0        False  \n",
       "1         True  \n",
       "2        False  \n",
       "3        False  \n",
       "4         True  "
      ]
     },
     "execution_count": 83,
     "metadata": {},
     "output_type": "execute_result"
    }
   ],
   "source": [
    "train.head()"
   ]
  },
  {
   "cell_type": "code",
   "execution_count": 84,
   "metadata": {},
   "outputs": [
    {
     "name": "stdout",
     "output_type": "stream",
     "text": [
      "['BP' 'FS' 'AS' 'FP' 'GS' nan 'GP' 'ES' 'DP' 'CS' 'CP' 'DS' 'BS' 'AP' 'EP'\n",
      " 'TP' 'TS']\n",
      "['GS' 'FS' 'CS' 'FP' 'BP' 'DS' 'DP' 'EP' 'GP' 'BS' nan 'CP' 'AP' 'ES' 'AS'\n",
      " 'TS' 'TP']\n"
     ]
    }
   ],
   "source": [
    "# train['Cabin'] = train['Cabin'].str.replace('[^0-9]','')\n",
    "# test['Cabin'] = test['Cabin'].str.replace('[^0-9]','')\n",
    "# test\n",
    "\n",
    "train['Cabin']=train.Cabin.replace('/','', regex=True)\n",
    "train['Cabin']=train.Cabin.str.replace('\\d+','')\n",
    "print(train.Cabin.unique())\n",
    "test['Cabin']=test.Cabin.replace('/','', regex=True)\n",
    "test['Cabin']=test.Cabin.str.replace('\\d+','')\n",
    "print(test.Cabin.unique())"
   ]
  },
  {
   "cell_type": "code",
   "execution_count": 85,
   "metadata": {
    "tags": []
   },
   "outputs": [
    {
     "name": "stdout",
     "output_type": "stream",
     "text": [
      "<class 'pandas.core.frame.DataFrame'>\n",
      "RangeIndex: 8693 entries, 0 to 8692\n",
      "Data columns (total 14 columns):\n",
      " #   Column        Non-Null Count  Dtype  \n",
      "---  ------        --------------  -----  \n",
      " 0   PassengerId   8693 non-null   object \n",
      " 1   HomePlanet    8492 non-null   object \n",
      " 2   CryoSleep     8476 non-null   object \n",
      " 3   Cabin         8494 non-null   object \n",
      " 4   Destination   8511 non-null   object \n",
      " 5   Age           8514 non-null   float64\n",
      " 6   VIP           8490 non-null   object \n",
      " 7   RoomService   8512 non-null   float64\n",
      " 8   FoodCourt     8510 non-null   float64\n",
      " 9   ShoppingMall  8485 non-null   float64\n",
      " 10  Spa           8510 non-null   float64\n",
      " 11  VRDeck        8505 non-null   float64\n",
      " 12  Name          8493 non-null   object \n",
      " 13  Transported   8693 non-null   bool   \n",
      "dtypes: bool(1), float64(6), object(7)\n",
      "memory usage: 891.5+ KB\n"
     ]
    }
   ],
   "source": [
    "# Find the structure of data set\n",
    "train.info()"
   ]
  },
  {
   "cell_type": "code",
   "execution_count": 86,
   "metadata": {},
   "outputs": [
    {
     "data": {
      "text/html": [
       "<div>\n",
       "<style scoped>\n",
       "    .dataframe tbody tr th:only-of-type {\n",
       "        vertical-align: middle;\n",
       "    }\n",
       "\n",
       "    .dataframe tbody tr th {\n",
       "        vertical-align: top;\n",
       "    }\n",
       "\n",
       "    .dataframe thead th {\n",
       "        text-align: right;\n",
       "    }\n",
       "</style>\n",
       "<table border=\"1\" class=\"dataframe\">\n",
       "  <thead>\n",
       "    <tr style=\"text-align: right;\">\n",
       "      <th></th>\n",
       "      <th>Age</th>\n",
       "      <th>RoomService</th>\n",
       "      <th>FoodCourt</th>\n",
       "      <th>ShoppingMall</th>\n",
       "      <th>Spa</th>\n",
       "      <th>VRDeck</th>\n",
       "    </tr>\n",
       "  </thead>\n",
       "  <tbody>\n",
       "    <tr>\n",
       "      <th>count</th>\n",
       "      <td>8514.000000</td>\n",
       "      <td>8512.000000</td>\n",
       "      <td>8510.000000</td>\n",
       "      <td>8485.000000</td>\n",
       "      <td>8510.000000</td>\n",
       "      <td>8505.000000</td>\n",
       "    </tr>\n",
       "    <tr>\n",
       "      <th>mean</th>\n",
       "      <td>28.827930</td>\n",
       "      <td>224.687617</td>\n",
       "      <td>458.077203</td>\n",
       "      <td>173.729169</td>\n",
       "      <td>311.138778</td>\n",
       "      <td>304.854791</td>\n",
       "    </tr>\n",
       "    <tr>\n",
       "      <th>std</th>\n",
       "      <td>14.489021</td>\n",
       "      <td>666.717663</td>\n",
       "      <td>1611.489240</td>\n",
       "      <td>604.696458</td>\n",
       "      <td>1136.705535</td>\n",
       "      <td>1145.717189</td>\n",
       "    </tr>\n",
       "    <tr>\n",
       "      <th>min</th>\n",
       "      <td>0.000000</td>\n",
       "      <td>0.000000</td>\n",
       "      <td>0.000000</td>\n",
       "      <td>0.000000</td>\n",
       "      <td>0.000000</td>\n",
       "      <td>0.000000</td>\n",
       "    </tr>\n",
       "    <tr>\n",
       "      <th>25%</th>\n",
       "      <td>19.000000</td>\n",
       "      <td>0.000000</td>\n",
       "      <td>0.000000</td>\n",
       "      <td>0.000000</td>\n",
       "      <td>0.000000</td>\n",
       "      <td>0.000000</td>\n",
       "    </tr>\n",
       "    <tr>\n",
       "      <th>50%</th>\n",
       "      <td>27.000000</td>\n",
       "      <td>0.000000</td>\n",
       "      <td>0.000000</td>\n",
       "      <td>0.000000</td>\n",
       "      <td>0.000000</td>\n",
       "      <td>0.000000</td>\n",
       "    </tr>\n",
       "    <tr>\n",
       "      <th>75%</th>\n",
       "      <td>38.000000</td>\n",
       "      <td>47.000000</td>\n",
       "      <td>76.000000</td>\n",
       "      <td>27.000000</td>\n",
       "      <td>59.000000</td>\n",
       "      <td>46.000000</td>\n",
       "    </tr>\n",
       "    <tr>\n",
       "      <th>max</th>\n",
       "      <td>79.000000</td>\n",
       "      <td>14327.000000</td>\n",
       "      <td>29813.000000</td>\n",
       "      <td>23492.000000</td>\n",
       "      <td>22408.000000</td>\n",
       "      <td>24133.000000</td>\n",
       "    </tr>\n",
       "  </tbody>\n",
       "</table>\n",
       "</div>"
      ],
      "text/plain": [
       "               Age   RoomService     FoodCourt  ShoppingMall           Spa  \\\n",
       "count  8514.000000   8512.000000   8510.000000   8485.000000   8510.000000   \n",
       "mean     28.827930    224.687617    458.077203    173.729169    311.138778   \n",
       "std      14.489021    666.717663   1611.489240    604.696458   1136.705535   \n",
       "min       0.000000      0.000000      0.000000      0.000000      0.000000   \n",
       "25%      19.000000      0.000000      0.000000      0.000000      0.000000   \n",
       "50%      27.000000      0.000000      0.000000      0.000000      0.000000   \n",
       "75%      38.000000     47.000000     76.000000     27.000000     59.000000   \n",
       "max      79.000000  14327.000000  29813.000000  23492.000000  22408.000000   \n",
       "\n",
       "             VRDeck  \n",
       "count   8505.000000  \n",
       "mean     304.854791  \n",
       "std     1145.717189  \n",
       "min        0.000000  \n",
       "25%        0.000000  \n",
       "50%        0.000000  \n",
       "75%       46.000000  \n",
       "max    24133.000000  "
      ]
     },
     "execution_count": 86,
     "metadata": {},
     "output_type": "execute_result"
    }
   ],
   "source": [
    "# Find aggregate values of dataset\n",
    "train.describe()"
   ]
  },
  {
   "cell_type": "code",
   "execution_count": 87,
   "metadata": {},
   "outputs": [
    {
     "name": "stdout",
     "output_type": "stream",
     "text": [
      "['TRAPPIST-1e' 'PSO J318.5-22' '55 Cancri e' nan]\n",
      "17\n",
      "['Europa' 'Earth' 'Mars' nan]\n"
     ]
    }
   ],
   "source": [
    "# Find unique values of non-numeric columns\n",
    "print(train.Destination.unique())\n",
    "print(len(train.Cabin.unique()))\n",
    "print(train.HomePlanet.unique())"
   ]
  },
  {
   "cell_type": "code",
   "execution_count": 88,
   "metadata": {},
   "outputs": [
    {
     "name": "stdout",
     "output_type": "stream",
     "text": [
      "PassengerId       0\n",
      "HomePlanet      201\n",
      "CryoSleep       217\n",
      "Cabin           199\n",
      "Destination     182\n",
      "Age             179\n",
      "VIP             203\n",
      "RoomService     181\n",
      "FoodCourt       183\n",
      "ShoppingMall    208\n",
      "Spa             183\n",
      "VRDeck          188\n",
      "Name            200\n",
      "Transported       0\n",
      "dtype: int64\n"
     ]
    }
   ],
   "source": [
    "# Find number of null values in the train data set\n",
    "print(train.isna().sum())"
   ]
  },
  {
   "cell_type": "code",
   "execution_count": 89,
   "metadata": {},
   "outputs": [],
   "source": [
    "train.dropna(inplace=True)"
   ]
  },
  {
   "cell_type": "code",
   "execution_count": 90,
   "metadata": {},
   "outputs": [
    {
     "data": {
      "text/plain": [
       "PassengerId       0\n",
       "HomePlanet       87\n",
       "CryoSleep        93\n",
       "Cabin           100\n",
       "Destination      92\n",
       "Age              91\n",
       "VIP              93\n",
       "RoomService      82\n",
       "FoodCourt       106\n",
       "ShoppingMall     98\n",
       "Spa             101\n",
       "VRDeck           80\n",
       "Name             94\n",
       "dtype: int64"
      ]
     },
     "execution_count": 90,
     "metadata": {},
     "output_type": "execute_result"
    }
   ],
   "source": [
    "# Find number of null values in the test data set\n",
    "test.isna().sum()\n"
   ]
  },
  {
   "cell_type": "code",
   "execution_count": 91,
   "metadata": {},
   "outputs": [],
   "source": [
    "# Remove null values with 0, median value and 'False'\n",
    "age_median = train.Age.median()\n",
    "train.Age.fillna(age_median, inplace = True)\n",
    "train.fillna(0, inplace = True)"
   ]
  },
  {
   "cell_type": "code",
   "execution_count": 92,
   "metadata": {},
   "outputs": [],
   "source": [
    "test_age_median = test.Age.median()\n",
    "test.Age.fillna(test_age_median, inplace = True)\n",
    "test.fillna(0, inplace = True)"
   ]
  },
  {
   "cell_type": "code",
   "execution_count": 93,
   "metadata": {},
   "outputs": [
    {
     "name": "stdout",
     "output_type": "stream",
     "text": [
      "(4277, 11)\n"
     ]
    },
    {
     "data": {
      "text/plain": [
       "(6606, 12)"
      ]
     },
     "execution_count": 93,
     "metadata": {},
     "output_type": "execute_result"
    }
   ],
   "source": [
    "# Remove columns Name, PassengerID which is not relevent \n",
    "train_df = train.drop(columns = ['Name','PassengerId'])\n",
    "test_df = test.drop(columns = ['Name','PassengerId'])\n",
    "print(test_df.shape)\n",
    "train_df.shape"
   ]
  },
  {
   "cell_type": "code",
   "execution_count": 94,
   "metadata": {},
   "outputs": [],
   "source": [
    "# Fill boolean values with 1, 0 in train_df features\n",
    "train_df.CryoSleep.replace({True:1,False:0}, inplace = True)\n",
    "train_df.Transported.replace({True:1,False:0}, inplace = True)\n",
    "\n",
    "train_df.VIP.replace({True:1,False:0}, inplace = True)\n",
    "# Replace categorical destination values with 0 1 2 3\n",
    "train_df.Destination.replace({'TRAPPIST-1e':0, 'PSO J318.5-22':1, \n",
    "                              '55 Cancri e':2}, inplace = True)\n",
    "# Dropping features Destination as it has lesser dependency on target variable\n",
    "# train_df.drop(columns=['RoomService','VRDeck'], inplace = True)\n",
    "\n",
    "# Replace categorical Home planet values with 1 2 3\n",
    "train_df.HomePlanet.replace({'Europa':1,'Earth':0,'Mars':2,\n",
    "                             }, inplace = True)\n"
   ]
  },
  {
   "cell_type": "code",
   "execution_count": 95,
   "metadata": {},
   "outputs": [
    {
     "data": {
      "text/html": [
       "<div>\n",
       "<style scoped>\n",
       "    .dataframe tbody tr th:only-of-type {\n",
       "        vertical-align: middle;\n",
       "    }\n",
       "\n",
       "    .dataframe tbody tr th {\n",
       "        vertical-align: top;\n",
       "    }\n",
       "\n",
       "    .dataframe thead th {\n",
       "        text-align: right;\n",
       "    }\n",
       "</style>\n",
       "<table border=\"1\" class=\"dataframe\">\n",
       "  <thead>\n",
       "    <tr style=\"text-align: right;\">\n",
       "      <th></th>\n",
       "      <th>Transported</th>\n",
       "    </tr>\n",
       "  </thead>\n",
       "  <tbody>\n",
       "    <tr>\n",
       "      <th>HomePlanet</th>\n",
       "      <td>0.111806</td>\n",
       "    </tr>\n",
       "    <tr>\n",
       "      <th>CryoSleep</th>\n",
       "      <td>0.462803</td>\n",
       "    </tr>\n",
       "    <tr>\n",
       "      <th>Destination</th>\n",
       "      <td>0.123773</td>\n",
       "    </tr>\n",
       "    <tr>\n",
       "      <th>Age</th>\n",
       "      <td>-0.082553</td>\n",
       "    </tr>\n",
       "    <tr>\n",
       "      <th>VIP</th>\n",
       "      <td>-0.042260</td>\n",
       "    </tr>\n",
       "    <tr>\n",
       "      <th>RoomService</th>\n",
       "      <td>-0.247291</td>\n",
       "    </tr>\n",
       "    <tr>\n",
       "      <th>FoodCourt</th>\n",
       "      <td>0.055025</td>\n",
       "    </tr>\n",
       "    <tr>\n",
       "      <th>ShoppingMall</th>\n",
       "      <td>0.011602</td>\n",
       "    </tr>\n",
       "    <tr>\n",
       "      <th>Spa</th>\n",
       "      <td>-0.219854</td>\n",
       "    </tr>\n",
       "    <tr>\n",
       "      <th>VRDeck</th>\n",
       "      <td>-0.207950</td>\n",
       "    </tr>\n",
       "    <tr>\n",
       "      <th>Transported</th>\n",
       "      <td>1.000000</td>\n",
       "    </tr>\n",
       "  </tbody>\n",
       "</table>\n",
       "</div>"
      ],
      "text/plain": [
       "              Transported\n",
       "HomePlanet       0.111806\n",
       "CryoSleep        0.462803\n",
       "Destination      0.123773\n",
       "Age             -0.082553\n",
       "VIP             -0.042260\n",
       "RoomService     -0.247291\n",
       "FoodCourt        0.055025\n",
       "ShoppingMall     0.011602\n",
       "Spa             -0.219854\n",
       "VRDeck          -0.207950\n",
       "Transported      1.000000"
      ]
     },
     "execution_count": 95,
     "metadata": {},
     "output_type": "execute_result"
    }
   ],
   "source": [
    "train_df.corr()[['Transported']]"
   ]
  },
  {
   "cell_type": "code",
   "execution_count": 96,
   "metadata": {},
   "outputs": [],
   "source": [
    "# Fill boolean values with 1, 0 in train_df features\n",
    "test_df.CryoSleep.replace({True:1,False:0}, inplace = True)\n",
    "test_df.VIP.replace({True:1,False:0}, inplace = True)\n",
    "\n",
    "# Replace categorical destination values with 0 1 2 3\n",
    "test_df.Destination.replace({'TRAPPIST-1e':0, 'PSO J318.5-22':1, \n",
    "                              '55 Cancri e':2}, inplace = True)\n",
    "# Dropping features Destination as it has lesser dependency on target variable\n",
    "# test_df.drop(columns=['RoomService', 'VRDeck'], inplace = True)\n",
    "\n",
    "# Replace categorical Home planet values with 1 2 3\n",
    "test_df.HomePlanet.replace({'Europa':1,'Earth':0,'Mars':2,\n",
    "                            }, inplace = True)\n"
   ]
  },
  {
   "cell_type": "code",
   "execution_count": 97,
   "metadata": {
    "tags": []
   },
   "outputs": [],
   "source": [
    "train_df=pd.get_dummies(train_df)\n",
    "test_df=pd.get_dummies(test_df)"
   ]
  },
  {
   "cell_type": "code",
   "execution_count": 98,
   "metadata": {},
   "outputs": [
    {
     "data": {
      "text/html": [
       "<div>\n",
       "<style scoped>\n",
       "    .dataframe tbody tr th:only-of-type {\n",
       "        vertical-align: middle;\n",
       "    }\n",
       "\n",
       "    .dataframe tbody tr th {\n",
       "        vertical-align: top;\n",
       "    }\n",
       "\n",
       "    .dataframe thead th {\n",
       "        text-align: right;\n",
       "    }\n",
       "</style>\n",
       "<table border=\"1\" class=\"dataframe\">\n",
       "  <thead>\n",
       "    <tr style=\"text-align: right;\">\n",
       "      <th></th>\n",
       "      <th>HomePlanet</th>\n",
       "      <th>CryoSleep</th>\n",
       "      <th>Destination</th>\n",
       "      <th>Age</th>\n",
       "      <th>VIP</th>\n",
       "      <th>RoomService</th>\n",
       "      <th>FoodCourt</th>\n",
       "      <th>ShoppingMall</th>\n",
       "      <th>Spa</th>\n",
       "      <th>VRDeck</th>\n",
       "      <th>...</th>\n",
       "      <th>Cabin_CS</th>\n",
       "      <th>Cabin_DP</th>\n",
       "      <th>Cabin_DS</th>\n",
       "      <th>Cabin_EP</th>\n",
       "      <th>Cabin_ES</th>\n",
       "      <th>Cabin_FP</th>\n",
       "      <th>Cabin_FS</th>\n",
       "      <th>Cabin_GP</th>\n",
       "      <th>Cabin_GS</th>\n",
       "      <th>Cabin_TP</th>\n",
       "    </tr>\n",
       "  </thead>\n",
       "  <tbody>\n",
       "    <tr>\n",
       "      <th>0</th>\n",
       "      <td>1</td>\n",
       "      <td>0</td>\n",
       "      <td>0</td>\n",
       "      <td>39.0</td>\n",
       "      <td>0</td>\n",
       "      <td>0.0</td>\n",
       "      <td>0.0</td>\n",
       "      <td>0.0</td>\n",
       "      <td>0.0</td>\n",
       "      <td>0.0</td>\n",
       "      <td>...</td>\n",
       "      <td>0</td>\n",
       "      <td>0</td>\n",
       "      <td>0</td>\n",
       "      <td>0</td>\n",
       "      <td>0</td>\n",
       "      <td>0</td>\n",
       "      <td>0</td>\n",
       "      <td>0</td>\n",
       "      <td>0</td>\n",
       "      <td>0</td>\n",
       "    </tr>\n",
       "    <tr>\n",
       "      <th>1</th>\n",
       "      <td>0</td>\n",
       "      <td>0</td>\n",
       "      <td>0</td>\n",
       "      <td>24.0</td>\n",
       "      <td>0</td>\n",
       "      <td>109.0</td>\n",
       "      <td>9.0</td>\n",
       "      <td>25.0</td>\n",
       "      <td>549.0</td>\n",
       "      <td>44.0</td>\n",
       "      <td>...</td>\n",
       "      <td>0</td>\n",
       "      <td>0</td>\n",
       "      <td>0</td>\n",
       "      <td>0</td>\n",
       "      <td>0</td>\n",
       "      <td>0</td>\n",
       "      <td>1</td>\n",
       "      <td>0</td>\n",
       "      <td>0</td>\n",
       "      <td>0</td>\n",
       "    </tr>\n",
       "    <tr>\n",
       "      <th>2</th>\n",
       "      <td>1</td>\n",
       "      <td>0</td>\n",
       "      <td>0</td>\n",
       "      <td>58.0</td>\n",
       "      <td>1</td>\n",
       "      <td>43.0</td>\n",
       "      <td>3576.0</td>\n",
       "      <td>0.0</td>\n",
       "      <td>6715.0</td>\n",
       "      <td>49.0</td>\n",
       "      <td>...</td>\n",
       "      <td>0</td>\n",
       "      <td>0</td>\n",
       "      <td>0</td>\n",
       "      <td>0</td>\n",
       "      <td>0</td>\n",
       "      <td>0</td>\n",
       "      <td>0</td>\n",
       "      <td>0</td>\n",
       "      <td>0</td>\n",
       "      <td>0</td>\n",
       "    </tr>\n",
       "    <tr>\n",
       "      <th>3</th>\n",
       "      <td>1</td>\n",
       "      <td>0</td>\n",
       "      <td>0</td>\n",
       "      <td>33.0</td>\n",
       "      <td>0</td>\n",
       "      <td>0.0</td>\n",
       "      <td>1283.0</td>\n",
       "      <td>371.0</td>\n",
       "      <td>3329.0</td>\n",
       "      <td>193.0</td>\n",
       "      <td>...</td>\n",
       "      <td>0</td>\n",
       "      <td>0</td>\n",
       "      <td>0</td>\n",
       "      <td>0</td>\n",
       "      <td>0</td>\n",
       "      <td>0</td>\n",
       "      <td>0</td>\n",
       "      <td>0</td>\n",
       "      <td>0</td>\n",
       "      <td>0</td>\n",
       "    </tr>\n",
       "    <tr>\n",
       "      <th>4</th>\n",
       "      <td>0</td>\n",
       "      <td>0</td>\n",
       "      <td>0</td>\n",
       "      <td>16.0</td>\n",
       "      <td>0</td>\n",
       "      <td>303.0</td>\n",
       "      <td>70.0</td>\n",
       "      <td>151.0</td>\n",
       "      <td>565.0</td>\n",
       "      <td>2.0</td>\n",
       "      <td>...</td>\n",
       "      <td>0</td>\n",
       "      <td>0</td>\n",
       "      <td>0</td>\n",
       "      <td>0</td>\n",
       "      <td>0</td>\n",
       "      <td>0</td>\n",
       "      <td>1</td>\n",
       "      <td>0</td>\n",
       "      <td>0</td>\n",
       "      <td>0</td>\n",
       "    </tr>\n",
       "    <tr>\n",
       "      <th>...</th>\n",
       "      <td>...</td>\n",
       "      <td>...</td>\n",
       "      <td>...</td>\n",
       "      <td>...</td>\n",
       "      <td>...</td>\n",
       "      <td>...</td>\n",
       "      <td>...</td>\n",
       "      <td>...</td>\n",
       "      <td>...</td>\n",
       "      <td>...</td>\n",
       "      <td>...</td>\n",
       "      <td>...</td>\n",
       "      <td>...</td>\n",
       "      <td>...</td>\n",
       "      <td>...</td>\n",
       "      <td>...</td>\n",
       "      <td>...</td>\n",
       "      <td>...</td>\n",
       "      <td>...</td>\n",
       "      <td>...</td>\n",
       "      <td>...</td>\n",
       "    </tr>\n",
       "    <tr>\n",
       "      <th>8688</th>\n",
       "      <td>1</td>\n",
       "      <td>0</td>\n",
       "      <td>2</td>\n",
       "      <td>41.0</td>\n",
       "      <td>1</td>\n",
       "      <td>0.0</td>\n",
       "      <td>6819.0</td>\n",
       "      <td>0.0</td>\n",
       "      <td>1643.0</td>\n",
       "      <td>74.0</td>\n",
       "      <td>...</td>\n",
       "      <td>0</td>\n",
       "      <td>0</td>\n",
       "      <td>0</td>\n",
       "      <td>0</td>\n",
       "      <td>0</td>\n",
       "      <td>0</td>\n",
       "      <td>0</td>\n",
       "      <td>0</td>\n",
       "      <td>0</td>\n",
       "      <td>0</td>\n",
       "    </tr>\n",
       "    <tr>\n",
       "      <th>8689</th>\n",
       "      <td>0</td>\n",
       "      <td>1</td>\n",
       "      <td>1</td>\n",
       "      <td>18.0</td>\n",
       "      <td>0</td>\n",
       "      <td>0.0</td>\n",
       "      <td>0.0</td>\n",
       "      <td>0.0</td>\n",
       "      <td>0.0</td>\n",
       "      <td>0.0</td>\n",
       "      <td>...</td>\n",
       "      <td>0</td>\n",
       "      <td>0</td>\n",
       "      <td>0</td>\n",
       "      <td>0</td>\n",
       "      <td>0</td>\n",
       "      <td>0</td>\n",
       "      <td>0</td>\n",
       "      <td>0</td>\n",
       "      <td>1</td>\n",
       "      <td>0</td>\n",
       "    </tr>\n",
       "    <tr>\n",
       "      <th>8690</th>\n",
       "      <td>0</td>\n",
       "      <td>0</td>\n",
       "      <td>0</td>\n",
       "      <td>26.0</td>\n",
       "      <td>0</td>\n",
       "      <td>0.0</td>\n",
       "      <td>0.0</td>\n",
       "      <td>1872.0</td>\n",
       "      <td>1.0</td>\n",
       "      <td>0.0</td>\n",
       "      <td>...</td>\n",
       "      <td>0</td>\n",
       "      <td>0</td>\n",
       "      <td>0</td>\n",
       "      <td>0</td>\n",
       "      <td>0</td>\n",
       "      <td>0</td>\n",
       "      <td>0</td>\n",
       "      <td>0</td>\n",
       "      <td>1</td>\n",
       "      <td>0</td>\n",
       "    </tr>\n",
       "    <tr>\n",
       "      <th>8691</th>\n",
       "      <td>1</td>\n",
       "      <td>0</td>\n",
       "      <td>2</td>\n",
       "      <td>32.0</td>\n",
       "      <td>0</td>\n",
       "      <td>0.0</td>\n",
       "      <td>1049.0</td>\n",
       "      <td>0.0</td>\n",
       "      <td>353.0</td>\n",
       "      <td>3235.0</td>\n",
       "      <td>...</td>\n",
       "      <td>0</td>\n",
       "      <td>0</td>\n",
       "      <td>0</td>\n",
       "      <td>0</td>\n",
       "      <td>1</td>\n",
       "      <td>0</td>\n",
       "      <td>0</td>\n",
       "      <td>0</td>\n",
       "      <td>0</td>\n",
       "      <td>0</td>\n",
       "    </tr>\n",
       "    <tr>\n",
       "      <th>8692</th>\n",
       "      <td>1</td>\n",
       "      <td>0</td>\n",
       "      <td>0</td>\n",
       "      <td>44.0</td>\n",
       "      <td>0</td>\n",
       "      <td>126.0</td>\n",
       "      <td>4688.0</td>\n",
       "      <td>0.0</td>\n",
       "      <td>0.0</td>\n",
       "      <td>12.0</td>\n",
       "      <td>...</td>\n",
       "      <td>0</td>\n",
       "      <td>0</td>\n",
       "      <td>0</td>\n",
       "      <td>0</td>\n",
       "      <td>1</td>\n",
       "      <td>0</td>\n",
       "      <td>0</td>\n",
       "      <td>0</td>\n",
       "      <td>0</td>\n",
       "      <td>0</td>\n",
       "    </tr>\n",
       "  </tbody>\n",
       "</table>\n",
       "<p>6606 rows × 26 columns</p>\n",
       "</div>"
      ],
      "text/plain": [
       "      HomePlanet  CryoSleep  Destination   Age  VIP  RoomService  FoodCourt  \\\n",
       "0              1          0            0  39.0    0          0.0        0.0   \n",
       "1              0          0            0  24.0    0        109.0        9.0   \n",
       "2              1          0            0  58.0    1         43.0     3576.0   \n",
       "3              1          0            0  33.0    0          0.0     1283.0   \n",
       "4              0          0            0  16.0    0        303.0       70.0   \n",
       "...          ...        ...          ...   ...  ...          ...        ...   \n",
       "8688           1          0            2  41.0    1          0.0     6819.0   \n",
       "8689           0          1            1  18.0    0          0.0        0.0   \n",
       "8690           0          0            0  26.0    0          0.0        0.0   \n",
       "8691           1          0            2  32.0    0          0.0     1049.0   \n",
       "8692           1          0            0  44.0    0        126.0     4688.0   \n",
       "\n",
       "      ShoppingMall     Spa  VRDeck  ...  Cabin_CS  Cabin_DP  Cabin_DS  \\\n",
       "0              0.0     0.0     0.0  ...         0         0         0   \n",
       "1             25.0   549.0    44.0  ...         0         0         0   \n",
       "2              0.0  6715.0    49.0  ...         0         0         0   \n",
       "3            371.0  3329.0   193.0  ...         0         0         0   \n",
       "4            151.0   565.0     2.0  ...         0         0         0   \n",
       "...            ...     ...     ...  ...       ...       ...       ...   \n",
       "8688           0.0  1643.0    74.0  ...         0         0         0   \n",
       "8689           0.0     0.0     0.0  ...         0         0         0   \n",
       "8690        1872.0     1.0     0.0  ...         0         0         0   \n",
       "8691           0.0   353.0  3235.0  ...         0         0         0   \n",
       "8692           0.0     0.0    12.0  ...         0         0         0   \n",
       "\n",
       "      Cabin_EP  Cabin_ES  Cabin_FP  Cabin_FS  Cabin_GP  Cabin_GS  Cabin_TP  \n",
       "0            0         0         0         0         0         0         0  \n",
       "1            0         0         0         1         0         0         0  \n",
       "2            0         0         0         0         0         0         0  \n",
       "3            0         0         0         0         0         0         0  \n",
       "4            0         0         0         1         0         0         0  \n",
       "...        ...       ...       ...       ...       ...       ...       ...  \n",
       "8688         0         0         0         0         0         0         0  \n",
       "8689         0         0         0         0         0         1         0  \n",
       "8690         0         0         0         0         0         1         0  \n",
       "8691         0         1         0         0         0         0         0  \n",
       "8692         0         1         0         0         0         0         0  \n",
       "\n",
       "[6606 rows x 26 columns]"
      ]
     },
     "execution_count": 98,
     "metadata": {},
     "output_type": "execute_result"
    }
   ],
   "source": [
    "train_df"
   ]
  },
  {
   "cell_type": "code",
   "execution_count": 99,
   "metadata": {},
   "outputs": [
    {
     "name": "stdout",
     "output_type": "stream",
     "text": [
      "<class 'pandas.core.frame.DataFrame'>\n",
      "RangeIndex: 4277 entries, 0 to 4276\n",
      "Data columns (total 27 columns):\n",
      " #   Column        Non-Null Count  Dtype  \n",
      "---  ------        --------------  -----  \n",
      " 0   HomePlanet    4277 non-null   int64  \n",
      " 1   CryoSleep     4277 non-null   int64  \n",
      " 2   Destination   4277 non-null   int64  \n",
      " 3   Age           4277 non-null   float64\n",
      " 4   VIP           4277 non-null   int64  \n",
      " 5   RoomService   4277 non-null   float64\n",
      " 6   FoodCourt     4277 non-null   float64\n",
      " 7   ShoppingMall  4277 non-null   float64\n",
      " 8   Spa           4277 non-null   float64\n",
      " 9   VRDeck        4277 non-null   float64\n",
      " 10  Cabin_0       4277 non-null   uint8  \n",
      " 11  Cabin_AP      4277 non-null   uint8  \n",
      " 12  Cabin_AS      4277 non-null   uint8  \n",
      " 13  Cabin_BP      4277 non-null   uint8  \n",
      " 14  Cabin_BS      4277 non-null   uint8  \n",
      " 15  Cabin_CP      4277 non-null   uint8  \n",
      " 16  Cabin_CS      4277 non-null   uint8  \n",
      " 17  Cabin_DP      4277 non-null   uint8  \n",
      " 18  Cabin_DS      4277 non-null   uint8  \n",
      " 19  Cabin_EP      4277 non-null   uint8  \n",
      " 20  Cabin_ES      4277 non-null   uint8  \n",
      " 21  Cabin_FP      4277 non-null   uint8  \n",
      " 22  Cabin_FS      4277 non-null   uint8  \n",
      " 23  Cabin_GP      4277 non-null   uint8  \n",
      " 24  Cabin_GS      4277 non-null   uint8  \n",
      " 25  Cabin_TP      4277 non-null   uint8  \n",
      " 26  Cabin_TS      4277 non-null   uint8  \n",
      "dtypes: float64(6), int64(4), uint8(17)\n",
      "memory usage: 405.3 KB\n"
     ]
    }
   ],
   "source": [
    "test_df.info()"
   ]
  },
  {
   "cell_type": "code",
   "execution_count": 108,
   "metadata": {},
   "outputs": [],
   "source": [
    "test_df.drop(columns=['Cabin_0', 'Cabin_TS'], inplace=True)"
   ]
  },
  {
   "cell_type": "code",
   "execution_count": 109,
   "metadata": {},
   "outputs": [
    {
     "name": "stdout",
     "output_type": "stream",
     "text": [
      "(6606, 26)\n",
      "(4277, 25)\n"
     ]
    }
   ],
   "source": [
    "print(train_df.shape)\n",
    "print(test_df.shape)"
   ]
  },
  {
   "cell_type": "code",
   "execution_count": 110,
   "metadata": {},
   "outputs": [],
   "source": [
    "# Seperate dependent variables and independent variable\n",
    "y = train_df.loc[:, train_df.columns == 'Transported']\n",
    "X = train_df.loc[:, train_df.columns !='Transported']"
   ]
  },
  {
   "cell_type": "code",
   "execution_count": 111,
   "metadata": {},
   "outputs": [
    {
     "name": "stdout",
     "output_type": "stream",
     "text": [
      "train size X :  (5945, 25)\n",
      "train size y :  (5945, 1)\n",
      "test size X :  (661, 25)\n",
      "test size y :  (661, 1)\n",
      "test_df :  (4277, 25)\n"
     ]
    }
   ],
   "source": [
    "# Split X and y using train test split\n",
    "from sklearn.model_selection import train_test_split\n",
    "X_train, X_test, y_train, y_test = train_test_split(X, y, train_size = 0.90, random_state=70)\n",
    "\n",
    "# Get shape of train test data\n",
    "print(\"train size X : \",X_train.shape)\n",
    "print(\"train size y : \",y_train.shape)\n",
    "print(\"test size X : \",X_test.shape)\n",
    "print(\"test size y : \",y_test.shape)\n",
    "print(\"test_df : \", test_df.shape)\n"
   ]
  },
  {
   "cell_type": "code",
   "execution_count": 112,
   "metadata": {},
   "outputs": [
    {
     "data": {
      "text/plain": [
       "Transported\n",
       "1              0.504289\n",
       "0              0.495711\n",
       "dtype: float64"
      ]
     },
     "execution_count": 112,
     "metadata": {},
     "output_type": "execute_result"
    }
   ],
   "source": [
    "# Check the distribution of labels\n",
    "y_train.value_counts(normalize = True)"
   ]
  },
  {
   "cell_type": "markdown",
   "metadata": {},
   "source": [
    "## Applying Standard Scaler"
   ]
  },
  {
   "cell_type": "code",
   "execution_count": 113,
   "metadata": {},
   "outputs": [],
   "source": [
    "from sklearn.preprocessing import StandardScaler\n",
    " \n",
    "ss = StandardScaler()\n",
    "\n",
    "# Fit and transform the data\n",
    "X_train_scaled = ss.fit_transform(X_train)\n",
    "X_test_scaled = ss.fit_transform(X_test)\n",
    "test_df_scaled=ss.fit_transform(test_df)"
   ]
  },
  {
   "cell_type": "markdown",
   "metadata": {},
   "source": [
    "## Applying Robest Scaler"
   ]
  },
  {
   "cell_type": "code",
   "execution_count": 114,
   "metadata": {},
   "outputs": [],
   "source": [
    "from sklearn.preprocessing import RobustScaler\n",
    "\n",
    "scaler = RobustScaler()\n",
    "\n",
    "X_train_rs = scaler.fit_transform(X_train)\n",
    "X_test_rs = scaler.fit_transform(X_test)\n",
    "test_df_rs = scaler.fit_transform(test_df)"
   ]
  },
  {
   "cell_type": "markdown",
   "metadata": {},
   "source": [
    "## Logistic Regression Model"
   ]
  },
  {
   "cell_type": "code",
   "execution_count": 115,
   "metadata": {},
   "outputs": [
    {
     "name": "stdout",
     "output_type": "stream",
     "text": [
      "Training Data Score: 0.7959629941126998\n",
      "Testing Data Score: 0.8305597579425114\n",
      "[1 0 1 ... 1 1 1]\n"
     ]
    }
   ],
   "source": [
    "# Scaled Logistic Regression Model\n",
    "from sklearn.linear_model import LogisticRegression\n",
    "lr = LogisticRegression(class_weight = 'balanced', solver='liblinear',\n",
    "                       multi_class='auto',C=10, penalty='l1')\n",
    "lr.fit(X_train, y_train)\n",
    "\n",
    "# Model Accuracy\n",
    "print(f\"Training Data Score: {lr.score(X_train, y_train)}\")\n",
    "print(f\"Testing Data Score: {lr.score(X_test, y_test)}\")\n",
    "y_pred = lr.predict(test_df)\n",
    "print(y_pred)\n",
    "spaceship_df = pd.DataFrame({'PassengerId':test.PassengerId, 'Transported':y_pred})\n",
    "spaceship_df['Transported'] = spaceship_df.Transported.map({0:False, 1:True})\n",
    "# save predicted data in csv file\n",
    "# spaceship_df.to_csv('spaceship_lr.csv', index = False)"
   ]
  },
  {
   "cell_type": "markdown",
   "metadata": {},
   "source": [
    "## Confusion Matrix"
   ]
  },
  {
   "cell_type": "code",
   "execution_count": 116,
   "metadata": {},
   "outputs": [
    {
     "data": {
      "text/plain": [
       "array([[267,  65],\n",
       "       [ 47, 282]], dtype=int64)"
      ]
     },
     "execution_count": 116,
     "metadata": {},
     "output_type": "execute_result"
    }
   ],
   "source": [
    "from sklearn.metrics import confusion_matrix\n",
    "\n",
    "# Confusion matrix of logistic regression model\n",
    "y_pred = lr.predict(X_test)\n",
    "confusion = confusion_matrix(y_test, y_pred)\n",
    "confusion"
   ]
  },
  {
   "cell_type": "markdown",
   "metadata": {},
   "source": [
    "\n",
    "\n",
    "\n",
    "\n",
    "\n",
    "\n",
    "\n",
    "\n",
    "\n",
    "\n",
    "\n",
    "\n",
    "\n",
    "\n",
    "\n",
    "\n",
    "\n",
    "\n",
    "\n",
    "\n",
    "\n",
    "\n",
    "\n",
    "\n",
    "\n",
    "\n",
    "\n",
    "\n",
    "\n",
    "\n",
    "\n",
    "\n",
    "\n",
    "\n",
    "\n",
    "\n",
    "\n",
    "\n",
    "\n",
    "\n",
    "\n",
    "\n",
    "\n",
    "\n",
    "\n",
    "\n",
    "\n",
    "\n",
    "\n",
    "\n",
    "\n",
    "\n",
    "\n",
    "\n",
    "\n",
    "\n",
    "\n",
    "\n",
    "\n",
    "\n",
    "\n",
    "\n",
    "\n",
    "\n",
    "\n",
    "\n",
    "\n",
    "\n",
    "\n",
    "\n",
    "\n",
    "\n",
    "\n",
    "\n",
    "\n",
    "\n",
    "\n",
    "\n",
    "\n",
    "\n",
    "\n",
    "\n",
    "\n",
    "\n",
    "\n",
    "\n",
    "\n",
    "\n",
    "\n",
    "\n",
    "\n",
    "\n",
    "\n",
    "\n",
    "\n",
    "\n",
    "\n",
    "\n",
    "\n",
    "\n",
    "\n",
    "\n",
    "\n",
    "\n",
    "\n",
    "\n",
    "\n",
    "\n",
    "\n",
    "\n",
    "\n",
    "\n",
    "\n",
    "\n",
    "\n",
    "\n",
    "\n",
    "\n",
    "\n",
    "\n",
    "\n",
    "\n",
    "\n",
    "\n",
    "\n",
    "\n",
    "\n",
    "\n",
    "\n",
    "\n",
    "\n",
    "\n",
    "\n",
    "\n",
    "\n",
    "\n",
    "\n",
    "\n",
    "\n",
    "\n",
    "\n",
    "\n",
    "\n",
    "\n",
    "\n",
    "\n",
    "\n",
    "\n",
    "\n",
    "\n",
    "\n",
    "\n",
    "\n",
    "\n",
    "\n",
    "\n",
    "\n",
    "\n",
    "\n",
    "\n",
    "\n",
    "\n",
    "\n",
    "\n",
    "\n",
    "## Decision Tree Classifier"
   ]
  },
  {
   "cell_type": "code",
   "execution_count": 117,
   "metadata": {},
   "outputs": [
    {
     "name": "stdout",
     "output_type": "stream",
     "text": [
      "Training score: 0.8026913372582002\n",
      "Testing score: 0.8245083207261724\n",
      "[1 0 1 ... 1 1 1]\n",
      "4277\n"
     ]
    }
   ],
   "source": [
    "from sklearn.tree import DecisionTreeClassifier\n",
    "\n",
    "# Train and fit the model\n",
    "dtc = DecisionTreeClassifier(max_depth=6, random_state=70,\n",
    "                             min_samples_split = 2,min_samples_leaf=6)\n",
    "dtc.fit(X_train, y_train)\n",
    "\n",
    "# Model Accuracy\n",
    "print(f'Training score: {dtc.score(X_train, y_train)}')\n",
    "print(f'Testing score: {dtc.score(X_test, y_test)}')\n",
    "y_pred  =  dtc.predict(test_df)\n",
    "print(y_pred)\n",
    "print(len(y_pred))\n",
    "\n",
    "spaceship_df = pd.DataFrame({'PassengerId':test.PassengerId, 'Transported':y_pred})\n",
    "spaceship_df['Transported'] = spaceship_df.Transported.map({0:False, 1:True})\n",
    "# save predicted data in csv file\n",
    "# spaceship_df.to_csv('spaceship_dtc.csv', index = False)"
   ]
  },
  {
   "cell_type": "markdown",
   "metadata": {},
   "source": [
    "## Random Forest Classification"
   ]
  },
  {
   "cell_type": "code",
   "execution_count": 118,
   "metadata": {},
   "outputs": [
    {
     "name": "stdout",
     "output_type": "stream",
     "text": [
      "Training score: 0.8285954583683768\n",
      "Testing score: 0.8290468986384266\n"
     ]
    },
    {
     "data": {
      "text/plain": [
       "array([1, 0, 1, ..., 1, 1, 1], dtype=int64)"
      ]
     },
     "execution_count": 118,
     "metadata": {},
     "output_type": "execute_result"
    }
   ],
   "source": [
    "from sklearn.ensemble import RandomForestClassifier\n",
    "\n",
    "# Train and fit the model\n",
    "rfc = RandomForestClassifier(n_estimators=100, \n",
    "                             random_state=1,min_samples_leaf=15)\n",
    "\n",
    "rfc.fit(X_train, y_train)\n",
    "\n",
    "importance = rfc.feature_importances_\n",
    "\n",
    "print(f'Training score: {rfc.score(X_train, y_train)}')\n",
    "print(f'Testing score: {rfc.score(X_test, y_test)}')\n",
    "y_pred_rfc  =  rfc.predict(test_df)\n",
    "\n",
    "spaceship_df = pd.DataFrame({'PassengerId':test.PassengerId, 'Transported':y_pred_rfc})\n",
    "spaceship_df['Transported'] = spaceship_df.Transported.map({0:False, 1:True})\n",
    "spaceship_df.to_csv('spaceship_rfc.csv', index = False)\n",
    "y_pred_rfc"
   ]
  },
  {
   "cell_type": "code",
   "execution_count": 119,
   "metadata": {},
   "outputs": [
    {
     "name": "stdout",
     "output_type": "stream",
     "text": [
      "Feature: 0, Score: 0.06081\n",
      "Feature: 1, Score: 0.20126\n",
      "Feature: 2, Score: 0.01559\n",
      "Feature: 3, Score: 0.05656\n",
      "Feature: 4, Score: 0.00023\n",
      "Feature: 5, Score: 0.12574\n",
      "Feature: 6, Score: 0.09917\n",
      "Feature: 7, Score: 0.07899\n",
      "Feature: 8, Score: 0.14770\n",
      "Feature: 9, Score: 0.12986\n",
      "Feature: 10, Score: 0.00012\n",
      "Feature: 11, Score: 0.00031\n",
      "Feature: 12, Score: 0.00177\n",
      "Feature: 13, Score: 0.00656\n",
      "Feature: 14, Score: 0.00105\n",
      "Feature: 15, Score: 0.01166\n",
      "Feature: 16, Score: 0.00029\n",
      "Feature: 17, Score: 0.00044\n",
      "Feature: 18, Score: 0.01198\n",
      "Feature: 19, Score: 0.00509\n",
      "Feature: 20, Score: 0.00989\n",
      "Feature: 21, Score: 0.00629\n",
      "Feature: 22, Score: 0.02083\n",
      "Feature: 23, Score: 0.00781\n",
      "Feature: 24, Score: 0.00000\n"
     ]
    },
    {
     "data": {
      "image/png": "[encoded data removed]",
      "text/plain": [
       "<Figure size 432x288 with 1 Axes>"
      ]
     },
     "metadata": {
      "needs_background": "light"
     },
     "output_type": "display_data"
    }
   ],
   "source": [
    "from matplotlib import pyplot as plt\n",
    "for i,v in enumerate(importance):\n",
    "    print('Feature: %0d, Score: %.5f' % (i,v))\n",
    "# plot feature importance\n",
    "plt.bar([x for x in range(len(importance))], importance)\n",
    "plt.show()"
   ]
  },
  {
   "cell_type": "markdown",
   "metadata": {},
   "source": [
    "## Support Vector Machine"
   ]
  },
  {
   "cell_type": "code",
   "execution_count": 120,
   "metadata": {},
   "outputs": [
    {
     "name": "stdout",
     "output_type": "stream",
     "text": [
      "Training Data Score: 0.7979814970563499\n",
      "Testing Data Score: 0.8229954614220878\n"
     ]
    },
    {
     "data": {
      "text/plain": [
       "array([1, 0, 1, ..., 1, 1, 1], dtype=int64)"
      ]
     },
     "execution_count": 120,
     "metadata": {},
     "output_type": "execute_result"
    }
   ],
   "source": [
    "from sklearn.svm import SVC \n",
    "# Train and fit the model\n",
    "svm_model = SVC(kernel='rbf', C=12)\n",
    "svm_model.fit(X_train, y_train)\n",
    "\n",
    "# importance = svm_model.feature_importances_\n",
    "# Model Accuracy\n",
    "print(f\"Training Data Score: {svm_model.score(X_train, y_train)}\")\n",
    "print(f\"Testing Data Score: {svm_model.score(X_test, y_test)}\")\n",
    "y_pred_svm=svm_model.predict(test_df)\n",
    "\n",
    "spaceship_df = pd.DataFrame({'PassengerId':test.PassengerId, 'Transported':y_pred_svm})\n",
    "spaceship_df['Transported'] = spaceship_df.Transported.map({0:False, 1:True})\n",
    "spaceship_df.to_csv('spaceship_svm.csv', index = False)\n",
    "y_pred_svm"
   ]
  },
  {
   "cell_type": "code",
   "execution_count": 121,
   "metadata": {},
   "outputs": [
    {
     "name": "stdout",
     "output_type": "stream",
     "text": [
      "[13:09:56] WARNING: ..\\src\\learner.cc:1115: Starting in XGBoost 1.3.0, the default evaluation metric used with the objective 'binary:logistic' was changed from 'error' to 'logloss'. Explicitly set eval_metric if you'd like to restore the old behavior.\n",
      "Training Score: 0.8430613961312027\n",
      "Testing Score: 0.8381240544629349\n"
     ]
    },
    {
     "data": {
      "text/plain": [
       "array([1, 0, 1, ..., 1, 1, 1], dtype=int64)"
      ]
     },
     "execution_count": 121,
     "metadata": {},
     "output_type": "execute_result"
    }
   ],
   "source": [
    "from xgboost import XGBClassifier\n",
    "\n",
    "xg_model = XGBClassifier(booster='gbtree',\n",
    "                        learning_rate =0.1, n_estimators = 130, max_depth=6,\n",
    "                        gamma=0.15, subsample = 0.7,colsample_bynode = 0.3,\n",
    "                        nthread=4,reg_lambda=4,\n",
    "                        scale_pos_weight = 1.15, seed = 1000, num_parallel_tree=5\n",
    "                        ).fit(X_train, y_train)\n",
    "\n",
    "# xg_model=XGBClassifier().fit(X_train_scaled, y_train)\n",
    "\n",
    "# from sklearn.metrics import mean_absolute_error\n",
    "print(f'Training Score: {xg_model.score(X_train, y_train)}')\n",
    "print(f'Testing Score: {xg_model.score(X_test, y_test)}')\n",
    "y_pred_xgb=xg_model.predict(test_df)\n",
    "spaceship_df = pd.DataFrame({'PassengerId':test.PassengerId, 'Transported':y_pred_xgb})\n",
    "spaceship_df['Transported'] = spaceship_df.Transported.map({0:False, 1:True})\n",
    "spaceship_df.to_csv('spaceship_xgb.csv', index = False)\n",
    "y_pred_xgb"
   ]
  },
  {
   "cell_type": "code",
   "execution_count": 122,
   "metadata": {},
   "outputs": [
    {
     "data": {
      "text/plain": [
       "(4277, 25)"
      ]
     },
     "execution_count": 122,
     "metadata": {},
     "output_type": "execute_result"
    }
   ],
   "source": [
    "test_df.shape"
   ]
  },
  {
   "cell_type": "markdown",
   "metadata": {},
   "source": [
    "## CatBoostClassifier"
   ]
  },
  {
   "cell_type": "code",
   "execution_count": 123,
   "metadata": {},
   "outputs": [
    {
     "name": "stdout",
     "output_type": "stream",
     "text": [
      "0:\tlearn: 0.6471553\ttotal: 16.9ms\tremaining: 1.68s\n",
      "1:\tlearn: 0.6107404\ttotal: 23.8ms\tremaining: 1.17s\n",
      "2:\tlearn: 0.5892049\ttotal: 30.6ms\tremaining: 989ms\n",
      "3:\tlearn: 0.5644229\ttotal: 35.6ms\tremaining: 855ms\n",
      "4:\tlearn: 0.5468251\ttotal: 41.8ms\tremaining: 794ms\n",
      "5:\tlearn: 0.5288436\ttotal: 46.9ms\tremaining: 734ms\n",
      "6:\tlearn: 0.5121267\ttotal: 51.9ms\tremaining: 690ms\n",
      "7:\tlearn: 0.4978581\ttotal: 59.6ms\tremaining: 685ms\n",
      "8:\tlearn: 0.4897623\ttotal: 65.2ms\tremaining: 660ms\n",
      "9:\tlearn: 0.4804232\ttotal: 71.3ms\tremaining: 642ms\n",
      "10:\tlearn: 0.4734818\ttotal: 76.6ms\tremaining: 620ms\n",
      "11:\tlearn: 0.4677566\ttotal: 83.3ms\tremaining: 611ms\n",
      "12:\tlearn: 0.4623031\ttotal: 88.5ms\tremaining: 593ms\n",
      "13:\tlearn: 0.4552049\ttotal: 93.8ms\tremaining: 576ms\n",
      "14:\tlearn: 0.4515115\ttotal: 99ms\tremaining: 561ms\n",
      "15:\tlearn: 0.4458782\ttotal: 105ms\tremaining: 553ms\n",
      "16:\tlearn: 0.4426531\ttotal: 111ms\tremaining: 540ms\n",
      "17:\tlearn: 0.4395040\ttotal: 115ms\tremaining: 525ms\n",
      "18:\tlearn: 0.4362243\ttotal: 120ms\tremaining: 511ms\n",
      "19:\tlearn: 0.4333390\ttotal: 125ms\tremaining: 499ms\n",
      "20:\tlearn: 0.4308268\ttotal: 129ms\tremaining: 487ms\n",
      "21:\tlearn: 0.4287784\ttotal: 134ms\tremaining: 475ms\n",
      "22:\tlearn: 0.4264343\ttotal: 139ms\tremaining: 465ms\n",
      "23:\tlearn: 0.4233868\ttotal: 144ms\tremaining: 455ms\n",
      "24:\tlearn: 0.4217433\ttotal: 148ms\tremaining: 445ms\n",
      "25:\tlearn: 0.4198879\ttotal: 153ms\tremaining: 435ms\n",
      "26:\tlearn: 0.4178082\ttotal: 158ms\tremaining: 427ms\n",
      "27:\tlearn: 0.4167689\ttotal: 162ms\tremaining: 418ms\n",
      "28:\tlearn: 0.4147248\ttotal: 167ms\tremaining: 409ms\n",
      "29:\tlearn: 0.4130236\ttotal: 172ms\tremaining: 402ms\n",
      "30:\tlearn: 0.4115106\ttotal: 177ms\tremaining: 395ms\n",
      "31:\tlearn: 0.4102051\ttotal: 183ms\tremaining: 388ms\n",
      "32:\tlearn: 0.4086502\ttotal: 188ms\tremaining: 382ms\n",
      "33:\tlearn: 0.4077123\ttotal: 194ms\tremaining: 376ms\n",
      "34:\tlearn: 0.4060430\ttotal: 199ms\tremaining: 370ms\n",
      "35:\tlearn: 0.4045621\ttotal: 205ms\tremaining: 364ms\n",
      "36:\tlearn: 0.4026980\ttotal: 212ms\tremaining: 360ms\n",
      "37:\tlearn: 0.4011977\ttotal: 217ms\tremaining: 355ms\n",
      "38:\tlearn: 0.3997416\ttotal: 222ms\tremaining: 347ms\n",
      "39:\tlearn: 0.3991170\ttotal: 228ms\tremaining: 342ms\n",
      "40:\tlearn: 0.3981241\ttotal: 233ms\tremaining: 335ms\n",
      "41:\tlearn: 0.3971161\ttotal: 237ms\tremaining: 328ms\n",
      "42:\tlearn: 0.3962670\ttotal: 242ms\tremaining: 321ms\n",
      "43:\tlearn: 0.3950392\ttotal: 247ms\tremaining: 314ms\n",
      "44:\tlearn: 0.3939875\ttotal: 251ms\tremaining: 307ms\n",
      "45:\tlearn: 0.3930465\ttotal: 256ms\tremaining: 300ms\n",
      "46:\tlearn: 0.3921010\ttotal: 260ms\tremaining: 293ms\n",
      "47:\tlearn: 0.3916600\ttotal: 265ms\tremaining: 287ms\n",
      "48:\tlearn: 0.3907620\ttotal: 269ms\tremaining: 280ms\n",
      "49:\tlearn: 0.3903388\ttotal: 274ms\tremaining: 274ms\n",
      "50:\tlearn: 0.3897491\ttotal: 278ms\tremaining: 267ms\n",
      "51:\tlearn: 0.3887340\ttotal: 283ms\tremaining: 262ms\n",
      "52:\tlearn: 0.3874429\ttotal: 288ms\tremaining: 255ms\n",
      "53:\tlearn: 0.3865592\ttotal: 293ms\tremaining: 249ms\n",
      "54:\tlearn: 0.3855201\ttotal: 298ms\tremaining: 244ms\n",
      "55:\tlearn: 0.3844327\ttotal: 303ms\tremaining: 238ms\n",
      "56:\tlearn: 0.3839753\ttotal: 307ms\tremaining: 232ms\n",
      "57:\tlearn: 0.3835803\ttotal: 312ms\tremaining: 226ms\n",
      "58:\tlearn: 0.3828685\ttotal: 317ms\tremaining: 220ms\n",
      "59:\tlearn: 0.3820527\ttotal: 321ms\tremaining: 214ms\n",
      "60:\tlearn: 0.3814508\ttotal: 326ms\tremaining: 209ms\n",
      "61:\tlearn: 0.3810054\ttotal: 331ms\tremaining: 203ms\n",
      "62:\tlearn: 0.3805997\ttotal: 336ms\tremaining: 197ms\n",
      "63:\tlearn: 0.3794565\ttotal: 341ms\tremaining: 192ms\n",
      "64:\tlearn: 0.3789671\ttotal: 346ms\tremaining: 186ms\n",
      "65:\tlearn: 0.3782252\ttotal: 351ms\tremaining: 181ms\n",
      "66:\tlearn: 0.3775320\ttotal: 355ms\tremaining: 175ms\n",
      "67:\tlearn: 0.3768864\ttotal: 360ms\tremaining: 169ms\n",
      "68:\tlearn: 0.3763970\ttotal: 365ms\tremaining: 164ms\n",
      "69:\tlearn: 0.3758156\ttotal: 370ms\tremaining: 159ms\n",
      "70:\tlearn: 0.3753037\ttotal: 376ms\tremaining: 153ms\n",
      "71:\tlearn: 0.3749429\ttotal: 381ms\tremaining: 148ms\n",
      "72:\tlearn: 0.3731708\ttotal: 385ms\tremaining: 142ms\n",
      "73:\tlearn: 0.3729072\ttotal: 389ms\tremaining: 137ms\n",
      "74:\tlearn: 0.3722220\ttotal: 394ms\tremaining: 131ms\n",
      "75:\tlearn: 0.3716381\ttotal: 399ms\tremaining: 126ms\n",
      "76:\tlearn: 0.3711238\ttotal: 403ms\tremaining: 120ms\n",
      "77:\tlearn: 0.3707567\ttotal: 407ms\tremaining: 115ms\n",
      "78:\tlearn: 0.3703921\ttotal: 412ms\tremaining: 109ms\n",
      "79:\tlearn: 0.3699249\ttotal: 416ms\tremaining: 104ms\n",
      "80:\tlearn: 0.3695653\ttotal: 421ms\tremaining: 98.7ms\n",
      "81:\tlearn: 0.3691818\ttotal: 425ms\tremaining: 93.4ms\n",
      "82:\tlearn: 0.3687374\ttotal: 430ms\tremaining: 88ms\n",
      "83:\tlearn: 0.3681663\ttotal: 435ms\tremaining: 82.8ms\n",
      "84:\tlearn: 0.3676444\ttotal: 439ms\tremaining: 77.5ms\n",
      "85:\tlearn: 0.3672163\ttotal: 443ms\tremaining: 72.2ms\n",
      "86:\tlearn: 0.3665491\ttotal: 448ms\tremaining: 67ms\n",
      "87:\tlearn: 0.3657522\ttotal: 453ms\tremaining: 61.7ms\n",
      "88:\tlearn: 0.3654161\ttotal: 457ms\tremaining: 56.5ms\n",
      "89:\tlearn: 0.3650499\ttotal: 461ms\tremaining: 51.3ms\n",
      "90:\tlearn: 0.3646601\ttotal: 466ms\tremaining: 46.1ms\n",
      "91:\tlearn: 0.3643828\ttotal: 470ms\tremaining: 40.9ms\n",
      "92:\tlearn: 0.3637744\ttotal: 474ms\tremaining: 35.7ms\n",
      "93:\tlearn: 0.3630881\ttotal: 479ms\tremaining: 30.6ms\n",
      "94:\tlearn: 0.3625514\ttotal: 484ms\tremaining: 25.5ms\n",
      "95:\tlearn: 0.3618036\ttotal: 488ms\tremaining: 20.3ms\n",
      "96:\tlearn: 0.3613019\ttotal: 493ms\tremaining: 15.2ms\n",
      "97:\tlearn: 0.3610036\ttotal: 497ms\tremaining: 10.1ms\n",
      "98:\tlearn: 0.3605169\ttotal: 502ms\tremaining: 5.07ms\n",
      "99:\tlearn: 0.3600916\ttotal: 508ms\tremaining: 0us\n",
      "Training Score: 0.8304457527333894\n",
      "Testing Score: 0.8381240544629349\n",
      "(4277,)\n"
     ]
    }
   ],
   "source": [
    "from catboost import CatBoostClassifier\n",
    "\n",
    "cbc = CatBoostClassifier(iterations=100, learning_rate=0.1)\n",
    "cbc.fit(X_train, y_train)\n",
    "\n",
    "# Model Accuracy\n",
    "print(f'Training Score: {cbc.score(X_train, y_train)}')\n",
    "print(f'Testing Score: {cbc.score(X_test, y_test)}')\n",
    "y_pred_cbc  =  cbc.predict(test_df)\n",
    "print(y_pred_cbc.shape)\n",
    "spaceship_df = pd.DataFrame({'PassengerId':test.PassengerId, 'Transported':y_pred_cbc})\n",
    "spaceship_df['Transported'] = spaceship_df.Transported.map({0:False, 1:True})\n",
    "# save predicted data in csv file\n",
    "spaceship_df.to_csv('spaceship_cbc.csv', index = False)"
   ]
  },
  {
   "cell_type": "markdown",
   "metadata": {},
   "source": [
    "## Ada Boost Classifier"
   ]
  },
  {
   "cell_type": "code",
   "execution_count": 126,
   "metadata": {},
   "outputs": [
    {
     "name": "stdout",
     "output_type": "stream",
     "text": [
      "Training Score: 0.8195121951219512\n",
      "Testing Score: 0.8290468986384266\n",
      "[1 0 1 ... 1 1 1]\n"
     ]
    }
   ],
   "source": [
    "from sklearn.ensemble import AdaBoostClassifier\n",
    "from sklearn.tree import DecisionTreeClassifier\n",
    "\n",
    "# Train and fit the model\n",
    "# abc = AdaBoostClassifier(random_state=19, n_estimators=76, \n",
    "#                          base_estimator=DecisionTreeClassifier(\n",
    "#                              max_depth=2,max_features = 'auto'))\n",
    "\n",
    "abc = AdaBoostClassifier(random_state=70, n_estimators=130, learning_rate=0.1,\n",
    "                         base_estimator=DecisionTreeClassifier(criterion='gini',\n",
    "                             max_depth=3,max_features = 'auto', min_samples_leaf=6))\n",
    "abc.fit(X_train, y_train)\n",
    "\n",
    "# Model accuracy\n",
    "print(f'Training Score: {abc.score(X_train, y_train)}')\n",
    "print(f'Testing Score: {abc.score(X_test, y_test)}')\n",
    "y_pred_ada  =  abc.predict(test_df)\n",
    "print(y_pred_ada)\n",
    "spaceship_df = pd.DataFrame({'PassengerId':test.PassengerId, 'Transported':y_pred_ada})\n",
    "spaceship_df['Transported'] = spaceship_df.Transported.map({0:False, 1:True})\n",
    "# save predicted data in csv file\n",
    "spaceship_df.to_csv('spaceship_ada.csv', index = False)"
   ]
  },
  {
   "cell_type": "markdown",
   "metadata": {},
   "source": [
    "## KNearest Neighbor Classification"
   ]
  },
  {
   "cell_type": "code",
   "execution_count": null,
   "metadata": {},
   "outputs": [],
   "source": [
    "from sklearn.neighbors import KNeighborsClassifier\n",
    "train_scores = []\n",
    "test_scores = []\n",
    "for k in range(1, 20, 2):\n",
    "    knn = KNeighborsClassifier(n_neighbors=k,weights='uniform', metric='minkowski')\n",
    "    knn.fit(X_train_rs, y_train)\n",
    "    train_score = knn.score(X_train_rs, y_train)\n",
    "    test_score = knn.score(X_test_rs, y_test)\n",
    "    train_scores.append(train_score)\n",
    "    test_scores.append(test_score)\n",
    "    print(f\"k: {k}, Train/Test Score: {train_score:.3f}/{test_score:.3f}\")\n",
    "    \n",
    "    \n",
    "plt.plot(range(1, 20, 2), train_scores, marker='o')\n",
    "plt.plot(range(1, 20, 2), test_scores, marker=\"x\")\n",
    "plt.xlabel(\"k neighbors\")\n",
    "plt.ylabel(\"Testing accuracy score\")\n",
    "plt.show()"
   ]
  },
  {
   "cell_type": "markdown",
   "metadata": {},
   "source": [
    "## Robest Scaler in KNN"
   ]
  },
  {
   "cell_type": "code",
   "execution_count": null,
   "metadata": {},
   "outputs": [],
   "source": [
    "\n",
    "knn = KNeighborsClassifier(n_neighbors=18, metric='minkowski', leaf_size=25, p=2, algorithm='auto')\n",
    "knn.fit(X_train_rs, y_train)\n",
    "\n",
    "print(f'Training Score: {knn.score(X_train_rs, y_train)}')\n",
    "print(f'Testing Score: {knn.score(X_test_rs, y_test)}')\n",
    "y_pred_knn = knn.predict(test_df)\n",
    "print(y_pred_knn)\n",
    "# Numpy array to datafram\n",
    "spaceship_df = pd.DataFrame({'PassengerId':test.PassengerId, 'Transported':y_pred_knn})\n",
    "\n",
    "# Change values to True, False\n",
    "spaceship_df['Transported'] = spaceship_df.Transported.map({0:False, 1:True})\n",
    "spaceship_df.to_csv('spaceship_knn.csv', index = False)"
   ]
  },
  {
   "cell_type": "code",
   "execution_count": null,
   "metadata": {},
   "outputs": [],
   "source": [
    "# Automated Neural Network Model\n",
    "import tensorflow as tf\n",
    "\n",
    "# Create a method that creates a new Sequential model with hyperparameter options\n",
    "def create_model(hp):\n",
    "    nn_model = tf.keras.models.Sequential()\n",
    "\n",
    "    # Allow kerastuner to decide which activation function to use in hidden layers\n",
    "    activation = hp.Choice('activation', ['relu','tanh', 'sigmoid'])\n",
    "    \n",
    "    # Allow kerastuner to decide number of neurons in first layer\n",
    "    nn_model.add(tf.keras.layers.Dense(units=hp.Int('first_units',\n",
    "        min_value=1,\n",
    "        max_value=30,\n",
    "        step=5), activation=activation, input_dim=35))\n",
    "\n",
    "    # Allow kerastuner to decide number of hidden layers and neurons in hidden layers\n",
    "    for i in range(hp.Int('num_layers', 1, 5)):\n",
    "        nn_model.add(tf.keras.layers.Dense(units=hp.Int('units_' + str(i),\n",
    "            min_value=1,\n",
    "            max_value=30,\n",
    "            step=5),\n",
    "            activation=activation))\n",
    "    \n",
    "    # Output layer\n",
    "    nn_model.add(tf.keras.layers.Dense(units=1, activation=\"sigmoid\"))\n",
    "\n",
    "    # Compile the model\n",
    "    nn_model.compile(loss=\"binary_crossentropy\", optimizer='adam', metrics=[\"accuracy\"])\n",
    "    \n",
    "    return nn_model\n"
   ]
  },
  {
   "cell_type": "code",
   "execution_count": null,
   "metadata": {},
   "outputs": [],
   "source": [
    "# Import the kerastuner library\n",
    "import keras_tuner as kt\n",
    "\n",
    "tuner = kt.Hyperband(\n",
    "    create_model,\n",
    "    objective=\"val_accuracy\",\n",
    "    factor = 4,\n",
    "    max_epochs=20,\n",
    "    hyperband_iterations=6)"
   ]
  },
  {
   "cell_type": "code",
   "execution_count": null,
   "metadata": {},
   "outputs": [],
   "source": [
    "# # Run the kerastuner search for best hyperparameters\n",
    "tuner.search(X_train_scaled,y_train,epochs=20,validation_data=(X_test_scaled,y_test))"
   ]
  },
  {
   "cell_type": "code",
   "execution_count": null,
   "metadata": {},
   "outputs": [],
   "source": [
    "tuner.results_summary()"
   ]
  },
  {
   "cell_type": "code",
   "execution_count": null,
   "metadata": {},
   "outputs": [],
   "source": [
    "from tensorflow.keras.optimizers import Adam\n",
    "import tensorflow as tf\n",
    "\n",
    "tf.random.set_seed(120)\n",
    "# Create sequential model\n",
    "model = tf.keras.models.Sequential()\n",
    "\n",
    "# Create first layer of input\n",
    "model.add(tf.keras.layers.Dense(units = 26, activation = 'tanh', input_dim=35))\n",
    "\n",
    "# model.add(tf.keras.layers.Dense(units = 21, activation = 'tanh'))\n",
    "\n",
    "# Create hidden layers \n",
    "model.add(tf.keras.layers.Dense(units = 21, activation = 'tanh'))\n",
    "\n",
    "model.add(tf.keras.layers.Dense(units = 1, activation = 'tanh'))\n",
    "\n",
    "model.add(tf.keras.layers.Dense(units = 11, activation = 'tanh'))\n",
    "\n",
    "# Create ouput layers\n",
    "model.add(tf.keras.layers.Dense(units = 1, activation = 'sigmoid'))\n",
    "\n",
    "# Structure of sequential model\n",
    "model.summary()"
   ]
  },
  {
   "cell_type": "code",
   "execution_count": null,
   "metadata": {},
   "outputs": [],
   "source": [
    "# Compile the model\n",
    "# lr = tf.keras.optimizers.Adam(learning_rate=0.001, beta_1=0.9, name='Adam')\n",
    "model.compile(loss = \"binary_crossentropy\", optimizer = \"adam\", metrics = ['accuracy'])\n",
    "\n",
    "# Fit the model\n",
    "fit_model = model.fit(X_train_scaled, y_train, epochs = 20, validation_split=0.03) "
   ]
  },
  {
   "cell_type": "code",
   "execution_count": null,
   "metadata": {},
   "outputs": [],
   "source": [
    "# Evaluate the model using the test data\n",
    "model_loss, model_accuracy = model.evaluate(X_train_scaled,y_train,verbose=2)\n",
    "print(f\"Train Loss: {model_loss}, Train Accuracy: {model_accuracy}\")\n",
    "model_loss, model_accuracy = model.evaluate(X_test_scaled,y_test,verbose=2)\n",
    "print(f\"Test Loss: {model_loss}, Test Accuracy: {model_accuracy}\")"
   ]
  },
  {
   "cell_type": "code",
   "execution_count": null,
   "metadata": {},
   "outputs": [],
   "source": [
    "\n",
    "y_pred_nn = model.predict(test_df_scaled, verbose=2)\n",
    "y_pred_n=np.where(y_pred_nn >= 0.5, 1,0).flatten()\n",
    "print(y_pred_n)\n",
    "# Numpy array to dataframe\n",
    "spaceship_df = pd.DataFrame({'PassengerId':test.PassengerId, 'Transported':y_pred_n})\n",
    "\n",
    "# Change values to True, False\n",
    "spaceship_df['Transported'] = spaceship_df.Transported.map({0:False, 1:True})\n",
    "spaceship_df.to_csv('spaceship_nn.csv', index = False)"
   ]
  },
  {
   "cell_type": "code",
   "execution_count": null,
   "metadata": {},
   "outputs": [],
   "source": [
    "# Create a DataFrame containing training history\n",
    "history_df = pd.DataFrame(fit_model.history, index=range(1,len(fit_model.history[\"loss\"])+1))\n",
    "\n",
    "# Plot the accuracy\n",
    "history_df.plot(y=\"accuracy\")"
   ]
  },
  {
   "cell_type": "code",
   "execution_count": null,
   "metadata": {},
   "outputs": [],
   "source": []
  }
 ],
 "metadata": {
  "kernelspec": {
   "display_name": "Python 3",
   "language": "python",
   "name": "python3"
  },
  "language_info": {
   "codemirror_mode": {
    "name": "ipython",
    "version": 3
   },
   "file_extension": ".py",
   "mimetype": "text/x-python",
   "name": "python",
   "nbconvert_exporter": "python",
   "pygments_lexer": "ipython3",
   "version": "3.8.5"
  }
 },
 "nbformat": 4,
 "nbformat_minor": 4
}
