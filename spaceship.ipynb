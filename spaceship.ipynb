{
 "cells": [
  {
   "cell_type": "code",
   "execution_count": 1,
   "metadata": {},
   "outputs": [],
   "source": [
    "# Dependencies\n",
    "import pandas as pd\n",
    "import numpy as np\n",
    "import warnings\n",
    "from numpy import savetxt\n",
    "warnings.simplefilter('ignore')"
   ]
  },
  {
   "cell_type": "code",
   "execution_count": 2,
   "metadata": {},
   "outputs": [],
   "source": [
    "# Load csv files into dataframe\n",
    "train = pd.read_csv(\"Resources/train.csv\")\n",
    "test = pd.read_csv(\"Resources/test.csv\")"
   ]
  },
  {
   "cell_type": "code",
   "execution_count": 3,
   "metadata": {},
   "outputs": [
    {
     "data": {
      "text/html": [
       "<div>\n",
       "<style scoped>\n",
       "    .dataframe tbody tr th:only-of-type {\n",
       "        vertical-align: middle;\n",
       "    }\n",
       "\n",
       "    .dataframe tbody tr th {\n",
       "        vertical-align: top;\n",
       "    }\n",
       "\n",
       "    .dataframe thead th {\n",
       "        text-align: right;\n",
       "    }\n",
       "</style>\n",
       "<table border=\"1\" class=\"dataframe\">\n",
       "  <thead>\n",
       "    <tr style=\"text-align: right;\">\n",
       "      <th></th>\n",
       "      <th>PassengerId</th>\n",
       "      <th>HomePlanet</th>\n",
       "      <th>CryoSleep</th>\n",
       "      <th>Cabin</th>\n",
       "      <th>Destination</th>\n",
       "      <th>Age</th>\n",
       "      <th>VIP</th>\n",
       "      <th>RoomService</th>\n",
       "      <th>FoodCourt</th>\n",
       "      <th>ShoppingMall</th>\n",
       "      <th>Spa</th>\n",
       "      <th>VRDeck</th>\n",
       "      <th>Name</th>\n",
       "      <th>Transported</th>\n",
       "    </tr>\n",
       "  </thead>\n",
       "  <tbody>\n",
       "    <tr>\n",
       "      <th>0</th>\n",
       "      <td>0001_01</td>\n",
       "      <td>Europa</td>\n",
       "      <td>False</td>\n",
       "      <td>B/0/P</td>\n",
       "      <td>TRAPPIST-1e</td>\n",
       "      <td>39.0</td>\n",
       "      <td>False</td>\n",
       "      <td>0.0</td>\n",
       "      <td>0.0</td>\n",
       "      <td>0.0</td>\n",
       "      <td>0.0</td>\n",
       "      <td>0.0</td>\n",
       "      <td>Maham Ofracculy</td>\n",
       "      <td>False</td>\n",
       "    </tr>\n",
       "    <tr>\n",
       "      <th>1</th>\n",
       "      <td>0002_01</td>\n",
       "      <td>Earth</td>\n",
       "      <td>False</td>\n",
       "      <td>F/0/S</td>\n",
       "      <td>TRAPPIST-1e</td>\n",
       "      <td>24.0</td>\n",
       "      <td>False</td>\n",
       "      <td>109.0</td>\n",
       "      <td>9.0</td>\n",
       "      <td>25.0</td>\n",
       "      <td>549.0</td>\n",
       "      <td>44.0</td>\n",
       "      <td>Juanna Vines</td>\n",
       "      <td>True</td>\n",
       "    </tr>\n",
       "    <tr>\n",
       "      <th>2</th>\n",
       "      <td>0003_01</td>\n",
       "      <td>Europa</td>\n",
       "      <td>False</td>\n",
       "      <td>A/0/S</td>\n",
       "      <td>TRAPPIST-1e</td>\n",
       "      <td>58.0</td>\n",
       "      <td>True</td>\n",
       "      <td>43.0</td>\n",
       "      <td>3576.0</td>\n",
       "      <td>0.0</td>\n",
       "      <td>6715.0</td>\n",
       "      <td>49.0</td>\n",
       "      <td>Altark Susent</td>\n",
       "      <td>False</td>\n",
       "    </tr>\n",
       "    <tr>\n",
       "      <th>3</th>\n",
       "      <td>0003_02</td>\n",
       "      <td>Europa</td>\n",
       "      <td>False</td>\n",
       "      <td>A/0/S</td>\n",
       "      <td>TRAPPIST-1e</td>\n",
       "      <td>33.0</td>\n",
       "      <td>False</td>\n",
       "      <td>0.0</td>\n",
       "      <td>1283.0</td>\n",
       "      <td>371.0</td>\n",
       "      <td>3329.0</td>\n",
       "      <td>193.0</td>\n",
       "      <td>Solam Susent</td>\n",
       "      <td>False</td>\n",
       "    </tr>\n",
       "    <tr>\n",
       "      <th>4</th>\n",
       "      <td>0004_01</td>\n",
       "      <td>Earth</td>\n",
       "      <td>False</td>\n",
       "      <td>F/1/S</td>\n",
       "      <td>TRAPPIST-1e</td>\n",
       "      <td>16.0</td>\n",
       "      <td>False</td>\n",
       "      <td>303.0</td>\n",
       "      <td>70.0</td>\n",
       "      <td>151.0</td>\n",
       "      <td>565.0</td>\n",
       "      <td>2.0</td>\n",
       "      <td>Willy Santantines</td>\n",
       "      <td>True</td>\n",
       "    </tr>\n",
       "  </tbody>\n",
       "</table>\n",
       "</div>"
      ],
      "text/plain": [
       "  PassengerId HomePlanet CryoSleep  Cabin  Destination   Age    VIP  \\\n",
       "0     0001_01     Europa     False  B/0/P  TRAPPIST-1e  39.0  False   \n",
       "1     0002_01      Earth     False  F/0/S  TRAPPIST-1e  24.0  False   \n",
       "2     0003_01     Europa     False  A/0/S  TRAPPIST-1e  58.0   True   \n",
       "3     0003_02     Europa     False  A/0/S  TRAPPIST-1e  33.0  False   \n",
       "4     0004_01      Earth     False  F/1/S  TRAPPIST-1e  16.0  False   \n",
       "\n",
       "   RoomService  FoodCourt  ShoppingMall     Spa  VRDeck               Name  \\\n",
       "0          0.0        0.0           0.0     0.0     0.0    Maham Ofracculy   \n",
       "1        109.0        9.0          25.0   549.0    44.0       Juanna Vines   \n",
       "2         43.0     3576.0           0.0  6715.0    49.0      Altark Susent   \n",
       "3          0.0     1283.0         371.0  3329.0   193.0       Solam Susent   \n",
       "4        303.0       70.0         151.0   565.0     2.0  Willy Santantines   \n",
       "\n",
       "   Transported  \n",
       "0        False  \n",
       "1         True  \n",
       "2        False  \n",
       "3        False  \n",
       "4         True  "
      ]
     },
     "execution_count": 3,
     "metadata": {},
     "output_type": "execute_result"
    }
   ],
   "source": [
    "train.head()"
   ]
  },
  {
   "cell_type": "code",
   "execution_count": 4,
   "metadata": {},
   "outputs": [
    {
     "data": {
      "text/html": [
       "<div>\n",
       "<style scoped>\n",
       "    .dataframe tbody tr th:only-of-type {\n",
       "        vertical-align: middle;\n",
       "    }\n",
       "\n",
       "    .dataframe tbody tr th {\n",
       "        vertical-align: top;\n",
       "    }\n",
       "\n",
       "    .dataframe thead th {\n",
       "        text-align: right;\n",
       "    }\n",
       "</style>\n",
       "<table border=\"1\" class=\"dataframe\">\n",
       "  <thead>\n",
       "    <tr style=\"text-align: right;\">\n",
       "      <th></th>\n",
       "      <th>PassengerId</th>\n",
       "      <th>HomePlanet</th>\n",
       "      <th>CryoSleep</th>\n",
       "      <th>Cabin</th>\n",
       "      <th>Destination</th>\n",
       "      <th>Age</th>\n",
       "      <th>VIP</th>\n",
       "      <th>RoomService</th>\n",
       "      <th>FoodCourt</th>\n",
       "      <th>ShoppingMall</th>\n",
       "      <th>Spa</th>\n",
       "      <th>VRDeck</th>\n",
       "      <th>Name</th>\n",
       "    </tr>\n",
       "  </thead>\n",
       "  <tbody>\n",
       "    <tr>\n",
       "      <th>0</th>\n",
       "      <td>0013_01</td>\n",
       "      <td>Earth</td>\n",
       "      <td>True</td>\n",
       "      <td>3</td>\n",
       "      <td>TRAPPIST-1e</td>\n",
       "      <td>27.0</td>\n",
       "      <td>False</td>\n",
       "      <td>0.0</td>\n",
       "      <td>0.0</td>\n",
       "      <td>0.0</td>\n",
       "      <td>0.0</td>\n",
       "      <td>0.0</td>\n",
       "      <td>Nelly Carsoning</td>\n",
       "    </tr>\n",
       "    <tr>\n",
       "      <th>1</th>\n",
       "      <td>0018_01</td>\n",
       "      <td>Earth</td>\n",
       "      <td>False</td>\n",
       "      <td>4</td>\n",
       "      <td>TRAPPIST-1e</td>\n",
       "      <td>19.0</td>\n",
       "      <td>False</td>\n",
       "      <td>0.0</td>\n",
       "      <td>9.0</td>\n",
       "      <td>0.0</td>\n",
       "      <td>2823.0</td>\n",
       "      <td>0.0</td>\n",
       "      <td>Lerome Peckers</td>\n",
       "    </tr>\n",
       "    <tr>\n",
       "      <th>2</th>\n",
       "      <td>0019_01</td>\n",
       "      <td>Europa</td>\n",
       "      <td>True</td>\n",
       "      <td>0</td>\n",
       "      <td>55 Cancri e</td>\n",
       "      <td>31.0</td>\n",
       "      <td>False</td>\n",
       "      <td>0.0</td>\n",
       "      <td>0.0</td>\n",
       "      <td>0.0</td>\n",
       "      <td>0.0</td>\n",
       "      <td>0.0</td>\n",
       "      <td>Sabih Unhearfus</td>\n",
       "    </tr>\n",
       "    <tr>\n",
       "      <th>3</th>\n",
       "      <td>0021_01</td>\n",
       "      <td>Europa</td>\n",
       "      <td>False</td>\n",
       "      <td>1</td>\n",
       "      <td>TRAPPIST-1e</td>\n",
       "      <td>38.0</td>\n",
       "      <td>False</td>\n",
       "      <td>0.0</td>\n",
       "      <td>6652.0</td>\n",
       "      <td>0.0</td>\n",
       "      <td>181.0</td>\n",
       "      <td>585.0</td>\n",
       "      <td>Meratz Caltilter</td>\n",
       "    </tr>\n",
       "    <tr>\n",
       "      <th>4</th>\n",
       "      <td>0023_01</td>\n",
       "      <td>Earth</td>\n",
       "      <td>False</td>\n",
       "      <td>5</td>\n",
       "      <td>TRAPPIST-1e</td>\n",
       "      <td>20.0</td>\n",
       "      <td>False</td>\n",
       "      <td>10.0</td>\n",
       "      <td>0.0</td>\n",
       "      <td>635.0</td>\n",
       "      <td>0.0</td>\n",
       "      <td>0.0</td>\n",
       "      <td>Brence Harperez</td>\n",
       "    </tr>\n",
       "    <tr>\n",
       "      <th>...</th>\n",
       "      <td>...</td>\n",
       "      <td>...</td>\n",
       "      <td>...</td>\n",
       "      <td>...</td>\n",
       "      <td>...</td>\n",
       "      <td>...</td>\n",
       "      <td>...</td>\n",
       "      <td>...</td>\n",
       "      <td>...</td>\n",
       "      <td>...</td>\n",
       "      <td>...</td>\n",
       "      <td>...</td>\n",
       "      <td>...</td>\n",
       "    </tr>\n",
       "    <tr>\n",
       "      <th>4272</th>\n",
       "      <td>9266_02</td>\n",
       "      <td>Earth</td>\n",
       "      <td>True</td>\n",
       "      <td>1496</td>\n",
       "      <td>TRAPPIST-1e</td>\n",
       "      <td>34.0</td>\n",
       "      <td>False</td>\n",
       "      <td>0.0</td>\n",
       "      <td>0.0</td>\n",
       "      <td>0.0</td>\n",
       "      <td>0.0</td>\n",
       "      <td>0.0</td>\n",
       "      <td>Jeron Peter</td>\n",
       "    </tr>\n",
       "    <tr>\n",
       "      <th>4273</th>\n",
       "      <td>9269_01</td>\n",
       "      <td>Earth</td>\n",
       "      <td>False</td>\n",
       "      <td>NaN</td>\n",
       "      <td>TRAPPIST-1e</td>\n",
       "      <td>42.0</td>\n",
       "      <td>False</td>\n",
       "      <td>0.0</td>\n",
       "      <td>847.0</td>\n",
       "      <td>17.0</td>\n",
       "      <td>10.0</td>\n",
       "      <td>144.0</td>\n",
       "      <td>Matty Scheron</td>\n",
       "    </tr>\n",
       "    <tr>\n",
       "      <th>4274</th>\n",
       "      <td>9271_01</td>\n",
       "      <td>Mars</td>\n",
       "      <td>True</td>\n",
       "      <td>296</td>\n",
       "      <td>55 Cancri e</td>\n",
       "      <td>NaN</td>\n",
       "      <td>False</td>\n",
       "      <td>0.0</td>\n",
       "      <td>0.0</td>\n",
       "      <td>0.0</td>\n",
       "      <td>0.0</td>\n",
       "      <td>0.0</td>\n",
       "      <td>Jayrin Pore</td>\n",
       "    </tr>\n",
       "    <tr>\n",
       "      <th>4275</th>\n",
       "      <td>9273_01</td>\n",
       "      <td>Europa</td>\n",
       "      <td>False</td>\n",
       "      <td>297</td>\n",
       "      <td>NaN</td>\n",
       "      <td>NaN</td>\n",
       "      <td>False</td>\n",
       "      <td>0.0</td>\n",
       "      <td>2680.0</td>\n",
       "      <td>0.0</td>\n",
       "      <td>0.0</td>\n",
       "      <td>523.0</td>\n",
       "      <td>Kitakan Conale</td>\n",
       "    </tr>\n",
       "    <tr>\n",
       "      <th>4276</th>\n",
       "      <td>9277_01</td>\n",
       "      <td>Earth</td>\n",
       "      <td>True</td>\n",
       "      <td>1498</td>\n",
       "      <td>PSO J318.5-22</td>\n",
       "      <td>43.0</td>\n",
       "      <td>False</td>\n",
       "      <td>0.0</td>\n",
       "      <td>0.0</td>\n",
       "      <td>0.0</td>\n",
       "      <td>0.0</td>\n",
       "      <td>0.0</td>\n",
       "      <td>Lilace Leonzaley</td>\n",
       "    </tr>\n",
       "  </tbody>\n",
       "</table>\n",
       "<p>4277 rows × 13 columns</p>\n",
       "</div>"
      ],
      "text/plain": [
       "     PassengerId HomePlanet CryoSleep Cabin    Destination   Age    VIP  \\\n",
       "0        0013_01      Earth      True     3    TRAPPIST-1e  27.0  False   \n",
       "1        0018_01      Earth     False     4    TRAPPIST-1e  19.0  False   \n",
       "2        0019_01     Europa      True     0    55 Cancri e  31.0  False   \n",
       "3        0021_01     Europa     False     1    TRAPPIST-1e  38.0  False   \n",
       "4        0023_01      Earth     False     5    TRAPPIST-1e  20.0  False   \n",
       "...          ...        ...       ...   ...            ...   ...    ...   \n",
       "4272     9266_02      Earth      True  1496    TRAPPIST-1e  34.0  False   \n",
       "4273     9269_01      Earth     False   NaN    TRAPPIST-1e  42.0  False   \n",
       "4274     9271_01       Mars      True   296    55 Cancri e   NaN  False   \n",
       "4275     9273_01     Europa     False   297            NaN   NaN  False   \n",
       "4276     9277_01      Earth      True  1498  PSO J318.5-22  43.0  False   \n",
       "\n",
       "      RoomService  FoodCourt  ShoppingMall     Spa  VRDeck              Name  \n",
       "0             0.0        0.0           0.0     0.0     0.0   Nelly Carsoning  \n",
       "1             0.0        9.0           0.0  2823.0     0.0    Lerome Peckers  \n",
       "2             0.0        0.0           0.0     0.0     0.0   Sabih Unhearfus  \n",
       "3             0.0     6652.0           0.0   181.0   585.0  Meratz Caltilter  \n",
       "4            10.0        0.0         635.0     0.0     0.0   Brence Harperez  \n",
       "...           ...        ...           ...     ...     ...               ...  \n",
       "4272          0.0        0.0           0.0     0.0     0.0       Jeron Peter  \n",
       "4273          0.0      847.0          17.0    10.0   144.0     Matty Scheron  \n",
       "4274          0.0        0.0           0.0     0.0     0.0       Jayrin Pore  \n",
       "4275          0.0     2680.0           0.0     0.0   523.0    Kitakan Conale  \n",
       "4276          0.0        0.0           0.0     0.0     0.0  Lilace Leonzaley  \n",
       "\n",
       "[4277 rows x 13 columns]"
      ]
     },
     "execution_count": 4,
     "metadata": {},
     "output_type": "execute_result"
    }
   ],
   "source": [
    "train['Cabin'] = train['Cabin'].str.replace('[^0-9]','')\n",
    "test['Cabin'] = test['Cabin'].str.replace('[^0-9]','')\n",
    "test"
   ]
  },
  {
   "cell_type": "code",
   "execution_count": 5,
   "metadata": {
    "tags": []
   },
   "outputs": [
    {
     "name": "stdout",
     "output_type": "stream",
     "text": [
      "<class 'pandas.core.frame.DataFrame'>\n",
      "RangeIndex: 8693 entries, 0 to 8692\n",
      "Data columns (total 14 columns):\n",
      " #   Column        Non-Null Count  Dtype  \n",
      "---  ------        --------------  -----  \n",
      " 0   PassengerId   8693 non-null   object \n",
      " 1   HomePlanet    8492 non-null   object \n",
      " 2   CryoSleep     8476 non-null   object \n",
      " 3   Cabin         8494 non-null   object \n",
      " 4   Destination   8511 non-null   object \n",
      " 5   Age           8514 non-null   float64\n",
      " 6   VIP           8490 non-null   object \n",
      " 7   RoomService   8512 non-null   float64\n",
      " 8   FoodCourt     8510 non-null   float64\n",
      " 9   ShoppingMall  8485 non-null   float64\n",
      " 10  Spa           8510 non-null   float64\n",
      " 11  VRDeck        8505 non-null   float64\n",
      " 12  Name          8493 non-null   object \n",
      " 13  Transported   8693 non-null   bool   \n",
      "dtypes: bool(1), float64(6), object(7)\n",
      "memory usage: 891.5+ KB\n"
     ]
    }
   ],
   "source": [
    "# Find the structure of data set\n",
    "train.info()"
   ]
  },
  {
   "cell_type": "code",
   "execution_count": 6,
   "metadata": {},
   "outputs": [
    {
     "data": {
      "text/html": [
       "<div>\n",
       "<style scoped>\n",
       "    .dataframe tbody tr th:only-of-type {\n",
       "        vertical-align: middle;\n",
       "    }\n",
       "\n",
       "    .dataframe tbody tr th {\n",
       "        vertical-align: top;\n",
       "    }\n",
       "\n",
       "    .dataframe thead th {\n",
       "        text-align: right;\n",
       "    }\n",
       "</style>\n",
       "<table border=\"1\" class=\"dataframe\">\n",
       "  <thead>\n",
       "    <tr style=\"text-align: right;\">\n",
       "      <th></th>\n",
       "      <th>Age</th>\n",
       "      <th>RoomService</th>\n",
       "      <th>FoodCourt</th>\n",
       "      <th>ShoppingMall</th>\n",
       "      <th>Spa</th>\n",
       "      <th>VRDeck</th>\n",
       "    </tr>\n",
       "  </thead>\n",
       "  <tbody>\n",
       "    <tr>\n",
       "      <th>count</th>\n",
       "      <td>8514.000000</td>\n",
       "      <td>8512.000000</td>\n",
       "      <td>8510.000000</td>\n",
       "      <td>8485.000000</td>\n",
       "      <td>8510.000000</td>\n",
       "      <td>8505.000000</td>\n",
       "    </tr>\n",
       "    <tr>\n",
       "      <th>mean</th>\n",
       "      <td>28.827930</td>\n",
       "      <td>224.687617</td>\n",
       "      <td>458.077203</td>\n",
       "      <td>173.729169</td>\n",
       "      <td>311.138778</td>\n",
       "      <td>304.854791</td>\n",
       "    </tr>\n",
       "    <tr>\n",
       "      <th>std</th>\n",
       "      <td>14.489021</td>\n",
       "      <td>666.717663</td>\n",
       "      <td>1611.489240</td>\n",
       "      <td>604.696458</td>\n",
       "      <td>1136.705535</td>\n",
       "      <td>1145.717189</td>\n",
       "    </tr>\n",
       "    <tr>\n",
       "      <th>min</th>\n",
       "      <td>0.000000</td>\n",
       "      <td>0.000000</td>\n",
       "      <td>0.000000</td>\n",
       "      <td>0.000000</td>\n",
       "      <td>0.000000</td>\n",
       "      <td>0.000000</td>\n",
       "    </tr>\n",
       "    <tr>\n",
       "      <th>25%</th>\n",
       "      <td>19.000000</td>\n",
       "      <td>0.000000</td>\n",
       "      <td>0.000000</td>\n",
       "      <td>0.000000</td>\n",
       "      <td>0.000000</td>\n",
       "      <td>0.000000</td>\n",
       "    </tr>\n",
       "    <tr>\n",
       "      <th>50%</th>\n",
       "      <td>27.000000</td>\n",
       "      <td>0.000000</td>\n",
       "      <td>0.000000</td>\n",
       "      <td>0.000000</td>\n",
       "      <td>0.000000</td>\n",
       "      <td>0.000000</td>\n",
       "    </tr>\n",
       "    <tr>\n",
       "      <th>75%</th>\n",
       "      <td>38.000000</td>\n",
       "      <td>47.000000</td>\n",
       "      <td>76.000000</td>\n",
       "      <td>27.000000</td>\n",
       "      <td>59.000000</td>\n",
       "      <td>46.000000</td>\n",
       "    </tr>\n",
       "    <tr>\n",
       "      <th>max</th>\n",
       "      <td>79.000000</td>\n",
       "      <td>14327.000000</td>\n",
       "      <td>29813.000000</td>\n",
       "      <td>23492.000000</td>\n",
       "      <td>22408.000000</td>\n",
       "      <td>24133.000000</td>\n",
       "    </tr>\n",
       "  </tbody>\n",
       "</table>\n",
       "</div>"
      ],
      "text/plain": [
       "               Age   RoomService     FoodCourt  ShoppingMall           Spa  \\\n",
       "count  8514.000000   8512.000000   8510.000000   8485.000000   8510.000000   \n",
       "mean     28.827930    224.687617    458.077203    173.729169    311.138778   \n",
       "std      14.489021    666.717663   1611.489240    604.696458   1136.705535   \n",
       "min       0.000000      0.000000      0.000000      0.000000      0.000000   \n",
       "25%      19.000000      0.000000      0.000000      0.000000      0.000000   \n",
       "50%      27.000000      0.000000      0.000000      0.000000      0.000000   \n",
       "75%      38.000000     47.000000     76.000000     27.000000     59.000000   \n",
       "max      79.000000  14327.000000  29813.000000  23492.000000  22408.000000   \n",
       "\n",
       "             VRDeck  \n",
       "count   8505.000000  \n",
       "mean     304.854791  \n",
       "std     1145.717189  \n",
       "min        0.000000  \n",
       "25%        0.000000  \n",
       "50%        0.000000  \n",
       "75%       46.000000  \n",
       "max    24133.000000  "
      ]
     },
     "execution_count": 6,
     "metadata": {},
     "output_type": "execute_result"
    }
   ],
   "source": [
    "# Find aggregate values of dataset\n",
    "train.describe()"
   ]
  },
  {
   "cell_type": "code",
   "execution_count": 7,
   "metadata": {},
   "outputs": [
    {
     "name": "stdout",
     "output_type": "stream",
     "text": [
      "['TRAPPIST-1e' 'PSO J318.5-22' '55 Cancri e' nan]\n",
      "1818\n",
      "['Europa' 'Earth' 'Mars' nan]\n"
     ]
    }
   ],
   "source": [
    "# Find unique values of non-numeric columns\n",
    "print(train.Destination.unique())\n",
    "print(len(train.Cabin.unique()))\n",
    "print(train.HomePlanet.unique())"
   ]
  },
  {
   "cell_type": "code",
   "execution_count": 8,
   "metadata": {},
   "outputs": [
    {
     "data": {
      "text/plain": [
       "PassengerId       0\n",
       "HomePlanet      201\n",
       "CryoSleep       217\n",
       "Cabin           199\n",
       "Destination     182\n",
       "Age             179\n",
       "VIP             203\n",
       "RoomService     181\n",
       "FoodCourt       183\n",
       "ShoppingMall    208\n",
       "Spa             183\n",
       "VRDeck          188\n",
       "Name            200\n",
       "Transported       0\n",
       "dtype: int64"
      ]
     },
     "execution_count": 8,
     "metadata": {},
     "output_type": "execute_result"
    }
   ],
   "source": [
    "# Find number of null values in the train data set\n",
    "train.isna().sum()"
   ]
  },
  {
   "cell_type": "code",
   "execution_count": 9,
   "metadata": {},
   "outputs": [
    {
     "data": {
      "text/plain": [
       "PassengerId       0\n",
       "HomePlanet       87\n",
       "CryoSleep        93\n",
       "Cabin           100\n",
       "Destination      92\n",
       "Age              91\n",
       "VIP              93\n",
       "RoomService      82\n",
       "FoodCourt       106\n",
       "ShoppingMall     98\n",
       "Spa             101\n",
       "VRDeck           80\n",
       "Name             94\n",
       "dtype: int64"
      ]
     },
     "execution_count": 9,
     "metadata": {},
     "output_type": "execute_result"
    }
   ],
   "source": [
    "# Find number of null values in the test data set\n",
    "test.isna().sum()"
   ]
  },
  {
   "cell_type": "code",
   "execution_count": 10,
   "metadata": {},
   "outputs": [],
   "source": [
    "# Remove null values with 0, median value and 'False'\n",
    "age_median = train.Age.median()\n",
    "train.Age.fillna(age_median, inplace = True)\n",
    "train.fillna(0, inplace = True)"
   ]
  },
  {
   "cell_type": "code",
   "execution_count": 11,
   "metadata": {},
   "outputs": [],
   "source": [
    "test_age_median = test.Age.median()\n",
    "test.Age.fillna(test_age_median, inplace = True)\n",
    "test.fillna(0, inplace = True)"
   ]
  },
  {
   "cell_type": "code",
   "execution_count": 12,
   "metadata": {},
   "outputs": [],
   "source": [
    "# Remove columns Name, PassengerID which is not relevent \n",
    "train_df = train.drop(columns = ['Name','PassengerId'])\n",
    "test_df = test.drop(columns = ['Name','PassengerId'])"
   ]
  },
  {
   "cell_type": "code",
   "execution_count": 13,
   "metadata": {},
   "outputs": [
    {
     "data": {
      "text/html": [
       "<div>\n",
       "<style scoped>\n",
       "    .dataframe tbody tr th:only-of-type {\n",
       "        vertical-align: middle;\n",
       "    }\n",
       "\n",
       "    .dataframe tbody tr th {\n",
       "        vertical-align: top;\n",
       "    }\n",
       "\n",
       "    .dataframe thead th {\n",
       "        text-align: right;\n",
       "    }\n",
       "</style>\n",
       "<table border=\"1\" class=\"dataframe\">\n",
       "  <thead>\n",
       "    <tr style=\"text-align: right;\">\n",
       "      <th></th>\n",
       "      <th>HomePlanet</th>\n",
       "      <th>CryoSleep</th>\n",
       "      <th>Cabin</th>\n",
       "      <th>Age</th>\n",
       "      <th>RoomService</th>\n",
       "      <th>FoodCourt</th>\n",
       "      <th>ShoppingMall</th>\n",
       "      <th>Spa</th>\n",
       "      <th>VRDeck</th>\n",
       "      <th>Transported</th>\n",
       "    </tr>\n",
       "  </thead>\n",
       "  <tbody>\n",
       "    <tr>\n",
       "      <th>0</th>\n",
       "      <td>1</td>\n",
       "      <td>0</td>\n",
       "      <td>0</td>\n",
       "      <td>39.0</td>\n",
       "      <td>0.0</td>\n",
       "      <td>0.0</td>\n",
       "      <td>0.0</td>\n",
       "      <td>0.0</td>\n",
       "      <td>0.0</td>\n",
       "      <td>0</td>\n",
       "    </tr>\n",
       "    <tr>\n",
       "      <th>1</th>\n",
       "      <td>3</td>\n",
       "      <td>0</td>\n",
       "      <td>0</td>\n",
       "      <td>24.0</td>\n",
       "      <td>109.0</td>\n",
       "      <td>9.0</td>\n",
       "      <td>25.0</td>\n",
       "      <td>549.0</td>\n",
       "      <td>44.0</td>\n",
       "      <td>1</td>\n",
       "    </tr>\n",
       "    <tr>\n",
       "      <th>2</th>\n",
       "      <td>1</td>\n",
       "      <td>0</td>\n",
       "      <td>0</td>\n",
       "      <td>58.0</td>\n",
       "      <td>43.0</td>\n",
       "      <td>3576.0</td>\n",
       "      <td>0.0</td>\n",
       "      <td>6715.0</td>\n",
       "      <td>49.0</td>\n",
       "      <td>0</td>\n",
       "    </tr>\n",
       "    <tr>\n",
       "      <th>3</th>\n",
       "      <td>1</td>\n",
       "      <td>0</td>\n",
       "      <td>0</td>\n",
       "      <td>33.0</td>\n",
       "      <td>0.0</td>\n",
       "      <td>1283.0</td>\n",
       "      <td>371.0</td>\n",
       "      <td>3329.0</td>\n",
       "      <td>193.0</td>\n",
       "      <td>0</td>\n",
       "    </tr>\n",
       "    <tr>\n",
       "      <th>4</th>\n",
       "      <td>3</td>\n",
       "      <td>0</td>\n",
       "      <td>1</td>\n",
       "      <td>16.0</td>\n",
       "      <td>303.0</td>\n",
       "      <td>70.0</td>\n",
       "      <td>151.0</td>\n",
       "      <td>565.0</td>\n",
       "      <td>2.0</td>\n",
       "      <td>1</td>\n",
       "    </tr>\n",
       "  </tbody>\n",
       "</table>\n",
       "</div>"
      ],
      "text/plain": [
       "   HomePlanet  CryoSleep Cabin   Age  RoomService  FoodCourt  ShoppingMall  \\\n",
       "0           1          0     0  39.0          0.0        0.0           0.0   \n",
       "1           3          0     0  24.0        109.0        9.0          25.0   \n",
       "2           1          0     0  58.0         43.0     3576.0           0.0   \n",
       "3           1          0     0  33.0          0.0     1283.0         371.0   \n",
       "4           3          0     1  16.0        303.0       70.0         151.0   \n",
       "\n",
       "      Spa  VRDeck  Transported  \n",
       "0     0.0     0.0            0  \n",
       "1   549.0    44.0            1  \n",
       "2  6715.0    49.0            0  \n",
       "3  3329.0   193.0            0  \n",
       "4   565.0     2.0            1  "
      ]
     },
     "execution_count": 13,
     "metadata": {},
     "output_type": "execute_result"
    }
   ],
   "source": [
    "# Fill boolean values with 1, 0 in train_df features\n",
    "train_df.CryoSleep.replace({True:1,False:0}, inplace = True)\n",
    "train_df.Transported.replace({True:1,False:0}, inplace = True)\n",
    "\n",
    "# train_df.VIP.replace({True:1,False:0}, inplace = True)\n",
    "# Replace categorical destination values with 0 1 2 3\n",
    "# train_df.Destination.replace({'TRAPPIST-1e':2, 'PSO J318.5-22':3, \n",
    "#                               '55 Cancri e':1,None:4}, inplace = True)\n",
    "# Dropping features Destination and VIP as it has lesser dependency on target variable\n",
    "train_df.drop(columns=['Destination','VIP'], inplace = True)\n",
    "\n",
    "# Replace categorical Home planet values with 0 1 2 3\n",
    "train_df.HomePlanet.replace({'Europa':1,'Earth':3,'Mars':2,\n",
    "                             None:0}, inplace = True)\n",
    "\n",
    "\n",
    "train_df['Transported']=train_df[\"Transported\"].astype(\"int\")\n",
    "train_df.head()"
   ]
  },
  {
   "cell_type": "code",
   "execution_count": 14,
   "metadata": {},
   "outputs": [
    {
     "data": {
      "text/html": [
       "<div>\n",
       "<style scoped>\n",
       "    .dataframe tbody tr th:only-of-type {\n",
       "        vertical-align: middle;\n",
       "    }\n",
       "\n",
       "    .dataframe tbody tr th {\n",
       "        vertical-align: top;\n",
       "    }\n",
       "\n",
       "    .dataframe thead th {\n",
       "        text-align: right;\n",
       "    }\n",
       "</style>\n",
       "<table border=\"1\" class=\"dataframe\">\n",
       "  <thead>\n",
       "    <tr style=\"text-align: right;\">\n",
       "      <th></th>\n",
       "      <th>HomePlanet</th>\n",
       "      <th>CryoSleep</th>\n",
       "      <th>Cabin</th>\n",
       "      <th>Age</th>\n",
       "      <th>RoomService</th>\n",
       "      <th>FoodCourt</th>\n",
       "      <th>ShoppingMall</th>\n",
       "      <th>Spa</th>\n",
       "      <th>VRDeck</th>\n",
       "    </tr>\n",
       "  </thead>\n",
       "  <tbody>\n",
       "    <tr>\n",
       "      <th>0</th>\n",
       "      <td>3</td>\n",
       "      <td>1</td>\n",
       "      <td>3</td>\n",
       "      <td>27.0</td>\n",
       "      <td>0.0</td>\n",
       "      <td>0.0</td>\n",
       "      <td>0.0</td>\n",
       "      <td>0.0</td>\n",
       "      <td>0.0</td>\n",
       "    </tr>\n",
       "    <tr>\n",
       "      <th>1</th>\n",
       "      <td>3</td>\n",
       "      <td>0</td>\n",
       "      <td>4</td>\n",
       "      <td>19.0</td>\n",
       "      <td>0.0</td>\n",
       "      <td>9.0</td>\n",
       "      <td>0.0</td>\n",
       "      <td>2823.0</td>\n",
       "      <td>0.0</td>\n",
       "    </tr>\n",
       "    <tr>\n",
       "      <th>2</th>\n",
       "      <td>1</td>\n",
       "      <td>1</td>\n",
       "      <td>0</td>\n",
       "      <td>31.0</td>\n",
       "      <td>0.0</td>\n",
       "      <td>0.0</td>\n",
       "      <td>0.0</td>\n",
       "      <td>0.0</td>\n",
       "      <td>0.0</td>\n",
       "    </tr>\n",
       "    <tr>\n",
       "      <th>3</th>\n",
       "      <td>1</td>\n",
       "      <td>0</td>\n",
       "      <td>1</td>\n",
       "      <td>38.0</td>\n",
       "      <td>0.0</td>\n",
       "      <td>6652.0</td>\n",
       "      <td>0.0</td>\n",
       "      <td>181.0</td>\n",
       "      <td>585.0</td>\n",
       "    </tr>\n",
       "    <tr>\n",
       "      <th>4</th>\n",
       "      <td>3</td>\n",
       "      <td>0</td>\n",
       "      <td>5</td>\n",
       "      <td>20.0</td>\n",
       "      <td>10.0</td>\n",
       "      <td>0.0</td>\n",
       "      <td>635.0</td>\n",
       "      <td>0.0</td>\n",
       "      <td>0.0</td>\n",
       "    </tr>\n",
       "  </tbody>\n",
       "</table>\n",
       "</div>"
      ],
      "text/plain": [
       "   HomePlanet  CryoSleep Cabin   Age  RoomService  FoodCourt  ShoppingMall  \\\n",
       "0           3          1     3  27.0          0.0        0.0           0.0   \n",
       "1           3          0     4  19.0          0.0        9.0           0.0   \n",
       "2           1          1     0  31.0          0.0        0.0           0.0   \n",
       "3           1          0     1  38.0          0.0     6652.0           0.0   \n",
       "4           3          0     5  20.0         10.0        0.0         635.0   \n",
       "\n",
       "      Spa  VRDeck  \n",
       "0     0.0     0.0  \n",
       "1  2823.0     0.0  \n",
       "2     0.0     0.0  \n",
       "3   181.0   585.0  \n",
       "4     0.0     0.0  "
      ]
     },
     "execution_count": 14,
     "metadata": {},
     "output_type": "execute_result"
    }
   ],
   "source": [
    "# Fill boolean values with 1, 0 in train_df features\n",
    "test_df.CryoSleep.replace({True:1,False:0}, inplace = True)\n",
    "# test_df.VIP.replace({True:1,False:0}, inplace = True)\n",
    "\n",
    "# Replace categorical destination values with 0 1 2 3\n",
    "# test_df.Destination.replace({'TRAPPIST-1e':2, 'PSO J318.5-22':3, \n",
    "#                               '55 Cancri e':1,None:4}, inplace = True)\n",
    "# Dropping features Destination and VIP as it has lesser dependency on target variable\n",
    "test_df.drop(columns=['Destination', 'VIP'], inplace = True)\n",
    "\n",
    "# Replace categorical Home planet values with 0 1 2 4\n",
    "test_df.HomePlanet.replace({'Europa':1,'Earth':3,'Mars':2,\n",
    "                             None:0}, inplace = True)\n",
    "test_df.head()"
   ]
  },
  {
   "cell_type": "code",
   "execution_count": 15,
   "metadata": {},
   "outputs": [
    {
     "data": {
      "text/plain": [
       "<AxesSubplot:>"
      ]
     },
     "execution_count": 15,
     "metadata": {},
     "output_type": "execute_result"
    },
    {
     "data": {
      "image/png": "[encoded data removed]",
      "text/plain": [
       "<Figure size 720x576 with 2 Axes>"
      ]
     },
     "metadata": {
      "needs_background": "light"
     },
     "output_type": "display_data"
    }
   ],
   "source": [
    "import plotly.express as px\n",
    "import seaborn as sns\n",
    "import matplotlib.pyplot as plt\n",
    "\n",
    "# plot correlation matrix graph\n",
    "plt.figure(figsize=(10, 8))\n",
    "sns.heatmap(train_df.corr(), annot = True, \n",
    "            linewidth = 2, cmap=\"YlGnBu\")"
   ]
  },
  {
   "cell_type": "code",
   "execution_count": 16,
   "metadata": {},
   "outputs": [
    {
     "name": "stdout",
     "output_type": "stream",
     "text": [
      "(8693, 9)\n",
      "(4277, 9)\n"
     ]
    }
   ],
   "source": [
    "# Seperate dependent variables and independent variable\n",
    "y = train_df.loc[:, train_df.columns == 'Transported']\n",
    "X = train_df.loc[:, train_df.columns !='Transported']\n",
    "print(X.shape)\n",
    "print(test_df.shape)"
   ]
  },
  {
   "cell_type": "code",
   "execution_count": 17,
   "metadata": {},
   "outputs": [
    {
     "name": "stdout",
     "output_type": "stream",
     "text": [
      "train size X :  (5215, 9)\n",
      "train size y :  (5215, 1)\n",
      "test size X :  (3478, 9)\n",
      "test size y :  (3478, 1)\n"
     ]
    }
   ],
   "source": [
    "# Split X and y using train test split\n",
    "from sklearn.model_selection import train_test_split\n",
    "X_train, X_test, y_train, y_test = train_test_split(X, y, train_size = 0.60, random_state=30)\n",
    "\n",
    "# Get shape of train test data\n",
    "print(\"train size X : \",X_train.shape)\n",
    "print(\"train size y : \",y_train.shape)\n",
    "print(\"test size X : \",X_test.shape)\n",
    "print(\"test size y : \",y_test.shape)"
   ]
  },
  {
   "cell_type": "code",
   "execution_count": 18,
   "metadata": {},
   "outputs": [
    {
     "data": {
      "text/plain": [
       "Transported\n",
       "1              0.502013\n",
       "0              0.497987\n",
       "dtype: float64"
      ]
     },
     "execution_count": 18,
     "metadata": {},
     "output_type": "execute_result"
    }
   ],
   "source": [
    "# Check the distribution of labels\n",
    "y_train.value_counts(normalize = True)"
   ]
  },
  {
   "cell_type": "code",
   "execution_count": 19,
   "metadata": {},
   "outputs": [],
   "source": [
    "# from xgboost import XGBClassifier\n",
    "\n",
    "# xg_model = XGBClassifier(booster='gbtree', enable_categorical=True,\n",
    "#                         learning_rate = 1, n_estimators = 1000, max_depth=5,\n",
    "#                         gamma=0, subsample = 0.8,colsample_bynode = 0.8,\n",
    "#                         objective = 'binary:logistic', nthread=4,\n",
    "#                         scale_pos_weight = 1, seed = 27, num_parallel_tree=0.7,\n",
    "#                         num_boost_round=1, objective = 'binary:logistic' )\n",
    "# X_train=X_train.astype(\"category\")\n",
    "# xg_model.fit(X_train, y_train)\n",
    "\n",
    "# from sklearn.metrics import mean_absolute_error\n",
    "\n",
    "# predictions = xg_model.predict(X_test)\n",
    "# print(\"Mean Absolute Error: \" + str(mean_absolute_error(predictions, y_test)))"
   ]
  },
  {
   "cell_type": "markdown",
   "metadata": {},
   "source": [
    "## Applying Standard Scaler"
   ]
  },
  {
   "cell_type": "code",
   "execution_count": 20,
   "metadata": {},
   "outputs": [],
   "source": [
    "from sklearn.preprocessing import StandardScaler\n",
    " \n",
    "ss = StandardScaler()\n",
    "\n",
    "# Fit and transform the data\n",
    "X_train_scaled = ss.fit_transform(X_train)\n",
    "X_test_scaled = ss.fit_transform(X_test)"
   ]
  },
  {
   "cell_type": "markdown",
   "metadata": {},
   "source": [
    "## Applying Robest Scaler"
   ]
  },
  {
   "cell_type": "code",
   "execution_count": 37,
   "metadata": {},
   "outputs": [],
   "source": [
    "from sklearn.preprocessing import RobustScaler\n",
    "\n",
    "scaler = RobustScaler()\n",
    "\n",
    "X_train_rs = scaler.fit_transform(X_train)\n",
    "X_test_rs = scaler.fit_transform(X_test)"
   ]
  },
  {
   "cell_type": "markdown",
   "metadata": {},
   "source": [
    "## Logistic Regression Model"
   ]
  },
  {
   "cell_type": "code",
   "execution_count": 38,
   "metadata": {},
   "outputs": [
    {
     "name": "stdout",
     "output_type": "stream",
     "text": [
      "[-0.35153794]\n",
      "[[-0.62688502  0.67748331  0.01592778 -0.10469959 -0.91602248  0.9780764\n",
      "   0.38983885 -1.83830108 -1.90115334]]\n",
      "Training Data Score: 0.7789069990412272\n",
      "Testing Data Score: 0.7852213916043703\n"
     ]
    }
   ],
   "source": [
    "# Scaled Logistic Regression Model\n",
    "from sklearn.linear_model import LogisticRegression\n",
    "lr = LogisticRegression(class_weight = 'balanced', solver='liblinear',\n",
    "                       multi_class='auto',C=10, penalty='l1')\n",
    "lr.fit(X_train_scaled, y_train)\n",
    "print(lr.intercept_)\n",
    "print(lr.coef_)\n",
    "# Model Accuracy\n",
    "print(f\"Training Data Score: {lr.score(X_train_scaled, y_train)}\")\n",
    "print(f\"Testing Data Score: {lr.score(X_test_scaled, y_test)}\")\n",
    "y_pred = lr.predict(test_df)\n",
    "\n",
    "spaceship_df = pd.DataFrame({'PassengerId':test.PassengerId, 'Transported':y_pred})\n",
    "spaceship_df['Transported'] = spaceship_df.Transported.map({0:False, 1:True})\n",
    "# save predicted data in csv file\n",
    "spaceship_df.to_csv('spaceship_lr.csv', index = False)"
   ]
  },
  {
   "cell_type": "markdown",
   "metadata": {},
   "source": [
    "## Confusion Matrix"
   ]
  },
  {
   "cell_type": "code",
   "execution_count": 39,
   "metadata": {},
   "outputs": [
    {
     "data": {
      "text/plain": [
       "array([[1302,  416],\n",
       "       [ 331, 1429]], dtype=int64)"
      ]
     },
     "execution_count": 39,
     "metadata": {},
     "output_type": "execute_result"
    }
   ],
   "source": [
    "from sklearn.metrics import confusion_matrix\n",
    "\n",
    "# Confusion matrix of logistic regression model\n",
    "y_pred = lr.predict(X_test_scaled)\n",
    "confusion = confusion_matrix(y_test, y_pred)\n",
    "confusion"
   ]
  },
  {
   "cell_type": "markdown",
   "metadata": {},
   "source": [
    "## Decision Tree Classifier"
   ]
  },
  {
   "cell_type": "code",
   "execution_count": 44,
   "metadata": {},
   "outputs": [
    {
     "name": "stdout",
     "output_type": "stream",
     "text": [
      "Training score: 0.7858101629913711\n",
      "Testing score: 0.7725704427832087\n",
      "[0 0 1 ... 0 1 0]\n"
     ]
    }
   ],
   "source": [
    "from sklearn.tree import DecisionTreeClassifier\n",
    "\n",
    "# Train and fit the model\n",
    "dtc = DecisionTreeClassifier(max_depth=6, random_state=1,\n",
    "                             min_samples_split = 5,min_samples_leaf=12)\n",
    "dtc.fit(X_train_rs, y_train)\n",
    "\n",
    "# Model Accuracy\n",
    "print(f'Training score: {dtc.score(X_train_rs, y_train)}')\n",
    "print(f'Testing score: {dtc.score(X_test_rs, y_test)}')\n",
    "y_pred  =  dtc.predict(test_df)\n",
    "print(y_pred)\n",
    "\n",
    "spaceship_df = pd.DataFrame({'PassengerId':test.PassengerId, 'Transported':y_pred})\n",
    "spaceship_df['Transported'] = spaceship_df.Transported.map({0:False, 1:True})\n",
    "# save predicted data in csv file\n",
    "spaceship_df.to_csv('spaceship_dtc.csv', index = False)"
   ]
  },
  {
   "cell_type": "markdown",
   "metadata": {},
   "source": [
    "## Random Forest Classification"
   ]
  },
  {
   "cell_type": "code",
   "execution_count": 48,
   "metadata": {},
   "outputs": [
    {
     "name": "stdout",
     "output_type": "stream",
     "text": [
      "Training score: 0.8299137104506232\n",
      "Testing score: 0.8001725129384704\n"
     ]
    },
    {
     "data": {
      "text/plain": [
       "array([1, 0, 1, ..., 1, 1, 0])"
      ]
     },
     "execution_count": 48,
     "metadata": {},
     "output_type": "execute_result"
    }
   ],
   "source": [
    "from sklearn.ensemble import RandomForestClassifier\n",
    "\n",
    "# Train and fit the model\n",
    "rfc = RandomForestClassifier(n_estimators=81, \n",
    "                             random_state=1,min_samples_leaf=12)\n",
    "\n",
    "rfc.fit(X_train, y_train)\n",
    "\n",
    "importance = rfc.feature_importances_\n",
    "\n",
    "print(f'Training score: {rfc.score(X_train, y_train)}')\n",
    "print(f'Testing score: {rfc.score(X_test, y_test)}')\n",
    "y_pred_rfc  =  rfc.predict(test_df)\n",
    "\n",
    "spaceship_df = pd.DataFrame({'PassengerId':test.PassengerId, 'Transported':y_pred_rfc})\n",
    "spaceship_df['Transported'] = spaceship_df.Transported.map({0:False, 1:True})\n",
    "spaceship_df.to_csv('spaceship_rfc.csv', index = False)\n",
    "y_pred_rfc"
   ]
  },
  {
   "cell_type": "code",
   "execution_count": 49,
   "metadata": {},
   "outputs": [
    {
     "name": "stdout",
     "output_type": "stream",
     "text": [
      "Feature: 0, Score: 0.08040\n",
      "Feature: 1, Score: 0.18389\n",
      "Feature: 2, Score: 0.07739\n",
      "Feature: 3, Score: 0.06717\n",
      "Feature: 4, Score: 0.14035\n",
      "Feature: 5, Score: 0.09941\n",
      "Feature: 6, Score: 0.07867\n",
      "Feature: 7, Score: 0.13703\n",
      "Feature: 8, Score: 0.13569\n"
     ]
    },
    {
     "data": {
      "image/png": "[encoded data removed]",
      "text/plain": [
       "<Figure size 432x288 with 1 Axes>"
      ]
     },
     "metadata": {
      "needs_background": "light"
     },
     "output_type": "display_data"
    }
   ],
   "source": [
    "for i,v in enumerate(importance):\n",
    "    print('Feature: %0d, Score: %.5f' % (i,v))\n",
    "# plot feature importance\n",
    "plt.bar([x for x in range(len(importance))], importance)\n",
    "plt.show()"
   ]
  },
  {
   "cell_type": "markdown",
   "metadata": {},
   "source": [
    "## Support Vector Machine"
   ]
  },
  {
   "cell_type": "code",
   "execution_count": 54,
   "metadata": {},
   "outputs": [
    {
     "name": "stdout",
     "output_type": "stream",
     "text": [
      "Training Data Score: 0.7921380632790028\n",
      "Testing Data Score: 0.7938470385278896\n"
     ]
    },
    {
     "data": {
      "text/plain": [
       "array([0, 0, 1, ..., 0, 1, 0])"
      ]
     },
     "execution_count": 54,
     "metadata": {},
     "output_type": "execute_result"
    }
   ],
   "source": [
    "from sklearn.svm import SVC \n",
    "# Train and fit the model\n",
    "svm_model = SVC(kernel='rbf', C=9)\n",
    "svm_model.fit(X_train_rs, y_train)\n",
    "\n",
    "# importance = svm_model.feature_importances_\n",
    "# Model Accuracy\n",
    "print(f\"Training Data Score: {svm_model.score(X_train_rs, y_train)}\")\n",
    "print(f\"Testing Data Score: {svm_model.score(X_test_rs, y_test)}\")\n",
    "y_pred_svm=svm_model.predict(test_df)\n",
    "\n",
    "spaceship_df = pd.DataFrame({'PassengerId':test.PassengerId, 'Transported':y_pred_svm})\n",
    "spaceship_df['Transported'] = spaceship_df.Transported.map({0:False, 1:True})\n",
    "spaceship_df.to_csv('spaceship_svm.csv', index = False)\n",
    "y_pred"
   ]
  },
  {
   "cell_type": "markdown",
   "metadata": {},
   "source": [
    "## CatBoostClassifier"
   ]
  },
  {
   "cell_type": "code",
   "execution_count": 74,
   "metadata": {},
   "outputs": [
    {
     "name": "stdout",
     "output_type": "stream",
     "text": [
      "Learning rate set to 0.172267\n",
      "0:\tlearn: 0.6403367\ttotal: 19.4ms\tremaining: 1.92s\n",
      "1:\tlearn: 0.6078634\ttotal: 31.2ms\tremaining: 1.53s\n",
      "2:\tlearn: 0.5767654\ttotal: 38.2ms\tremaining: 1.23s\n",
      "3:\tlearn: 0.5522762\ttotal: 45.4ms\tremaining: 1.09s\n",
      "4:\tlearn: 0.5358810\ttotal: 48.7ms\tremaining: 925ms\n",
      "5:\tlearn: 0.5206408\ttotal: 52.9ms\tremaining: 829ms\n",
      "6:\tlearn: 0.5103702\ttotal: 58ms\tremaining: 771ms\n",
      "7:\tlearn: 0.4988829\ttotal: 61.8ms\tremaining: 711ms\n",
      "8:\tlearn: 0.4896620\ttotal: 66.3ms\tremaining: 670ms\n",
      "9:\tlearn: 0.4826401\ttotal: 71.7ms\tremaining: 645ms\n",
      "10:\tlearn: 0.4762357\ttotal: 75.2ms\tremaining: 608ms\n",
      "11:\tlearn: 0.4719769\ttotal: 77.9ms\tremaining: 571ms\n",
      "12:\tlearn: 0.4674474\ttotal: 81.5ms\tremaining: 545ms\n",
      "13:\tlearn: 0.4647107\ttotal: 84.5ms\tremaining: 519ms\n",
      "14:\tlearn: 0.4600090\ttotal: 87.4ms\tremaining: 495ms\n",
      "15:\tlearn: 0.4568880\ttotal: 90.3ms\tremaining: 474ms\n",
      "16:\tlearn: 0.4550133\ttotal: 93.2ms\tremaining: 455ms\n",
      "17:\tlearn: 0.4524759\ttotal: 96.8ms\tremaining: 441ms\n",
      "18:\tlearn: 0.4508818\ttotal: 100ms\tremaining: 427ms\n",
      "19:\tlearn: 0.4492350\ttotal: 104ms\tremaining: 414ms\n",
      "20:\tlearn: 0.4466360\ttotal: 107ms\tremaining: 403ms\n",
      "21:\tlearn: 0.4439691\ttotal: 110ms\tremaining: 391ms\n",
      "22:\tlearn: 0.4421555\ttotal: 113ms\tremaining: 379ms\n",
      "23:\tlearn: 0.4407750\ttotal: 117ms\tremaining: 369ms\n",
      "24:\tlearn: 0.4395161\ttotal: 127ms\tremaining: 380ms\n",
      "25:\tlearn: 0.4384270\ttotal: 130ms\tremaining: 370ms\n",
      "26:\tlearn: 0.4368842\ttotal: 134ms\tremaining: 362ms\n",
      "27:\tlearn: 0.4358669\ttotal: 137ms\tremaining: 352ms\n",
      "28:\tlearn: 0.4348357\ttotal: 140ms\tremaining: 344ms\n",
      "29:\tlearn: 0.4338545\ttotal: 143ms\tremaining: 335ms\n",
      "30:\tlearn: 0.4328807\ttotal: 148ms\tremaining: 329ms\n",
      "31:\tlearn: 0.4312882\ttotal: 158ms\tremaining: 335ms\n",
      "32:\tlearn: 0.4301657\ttotal: 163ms\tremaining: 330ms\n",
      "33:\tlearn: 0.4294072\ttotal: 168ms\tremaining: 326ms\n",
      "34:\tlearn: 0.4285405\ttotal: 171ms\tremaining: 317ms\n",
      "35:\tlearn: 0.4279626\ttotal: 174ms\tremaining: 309ms\n",
      "36:\tlearn: 0.4267960\ttotal: 178ms\tremaining: 303ms\n",
      "37:\tlearn: 0.4260688\ttotal: 181ms\tremaining: 295ms\n",
      "38:\tlearn: 0.4255155\ttotal: 184ms\tremaining: 288ms\n",
      "39:\tlearn: 0.4248902\ttotal: 188ms\tremaining: 282ms\n",
      "40:\tlearn: 0.4243752\ttotal: 191ms\tremaining: 275ms\n",
      "41:\tlearn: 0.4234745\ttotal: 194ms\tremaining: 268ms\n",
      "42:\tlearn: 0.4228427\ttotal: 198ms\tremaining: 262ms\n",
      "43:\tlearn: 0.4216552\ttotal: 200ms\tremaining: 255ms\n",
      "44:\tlearn: 0.4209014\ttotal: 203ms\tremaining: 249ms\n",
      "45:\tlearn: 0.4203796\ttotal: 206ms\tremaining: 242ms\n",
      "46:\tlearn: 0.4198276\ttotal: 209ms\tremaining: 235ms\n",
      "47:\tlearn: 0.4187028\ttotal: 211ms\tremaining: 229ms\n",
      "48:\tlearn: 0.4182950\ttotal: 214ms\tremaining: 223ms\n",
      "49:\tlearn: 0.4178775\ttotal: 217ms\tremaining: 217ms\n",
      "50:\tlearn: 0.4173963\ttotal: 219ms\tremaining: 211ms\n",
      "51:\tlearn: 0.4167659\ttotal: 223ms\tremaining: 206ms\n",
      "52:\tlearn: 0.4161308\ttotal: 226ms\tremaining: 200ms\n",
      "53:\tlearn: 0.4155430\ttotal: 228ms\tremaining: 194ms\n",
      "54:\tlearn: 0.4150437\ttotal: 231ms\tremaining: 189ms\n",
      "55:\tlearn: 0.4145977\ttotal: 233ms\tremaining: 183ms\n",
      "56:\tlearn: 0.4141941\ttotal: 236ms\tremaining: 178ms\n",
      "57:\tlearn: 0.4136218\ttotal: 239ms\tremaining: 173ms\n",
      "58:\tlearn: 0.4131360\ttotal: 241ms\tremaining: 168ms\n",
      "59:\tlearn: 0.4126927\ttotal: 244ms\tremaining: 162ms\n",
      "60:\tlearn: 0.4121781\ttotal: 246ms\tremaining: 157ms\n",
      "61:\tlearn: 0.4108462\ttotal: 249ms\tremaining: 152ms\n",
      "62:\tlearn: 0.4101994\ttotal: 252ms\tremaining: 148ms\n",
      "63:\tlearn: 0.4086346\ttotal: 255ms\tremaining: 143ms\n",
      "64:\tlearn: 0.4083222\ttotal: 257ms\tremaining: 138ms\n",
      "65:\tlearn: 0.4080488\ttotal: 259ms\tremaining: 134ms\n",
      "66:\tlearn: 0.4072398\ttotal: 262ms\tremaining: 129ms\n",
      "67:\tlearn: 0.4068095\ttotal: 265ms\tremaining: 125ms\n",
      "68:\tlearn: 0.4061959\ttotal: 267ms\tremaining: 120ms\n",
      "69:\tlearn: 0.4058570\ttotal: 270ms\tremaining: 116ms\n",
      "70:\tlearn: 0.4047532\ttotal: 272ms\tremaining: 111ms\n",
      "71:\tlearn: 0.4042735\ttotal: 275ms\tremaining: 107ms\n",
      "72:\tlearn: 0.4037368\ttotal: 277ms\tremaining: 103ms\n",
      "73:\tlearn: 0.4033412\ttotal: 280ms\tremaining: 98.4ms\n",
      "74:\tlearn: 0.4030212\ttotal: 283ms\tremaining: 94.2ms\n",
      "75:\tlearn: 0.4017762\ttotal: 285ms\tremaining: 90.1ms\n",
      "76:\tlearn: 0.4012524\ttotal: 288ms\tremaining: 85.9ms\n",
      "77:\tlearn: 0.4006257\ttotal: 290ms\tremaining: 81.8ms\n",
      "78:\tlearn: 0.3994822\ttotal: 292ms\tremaining: 77.7ms\n",
      "79:\tlearn: 0.3986120\ttotal: 295ms\tremaining: 73.7ms\n",
      "80:\tlearn: 0.3975688\ttotal: 297ms\tremaining: 69.8ms\n",
      "81:\tlearn: 0.3970532\ttotal: 300ms\tremaining: 65.8ms\n",
      "82:\tlearn: 0.3966319\ttotal: 302ms\tremaining: 61.9ms\n",
      "83:\tlearn: 0.3959148\ttotal: 305ms\tremaining: 58.1ms\n",
      "84:\tlearn: 0.3955581\ttotal: 308ms\tremaining: 54.3ms\n",
      "85:\tlearn: 0.3953552\ttotal: 310ms\tremaining: 50.5ms\n",
      "86:\tlearn: 0.3948836\ttotal: 312ms\tremaining: 46.7ms\n",
      "87:\tlearn: 0.3946804\ttotal: 315ms\tremaining: 43ms\n",
      "88:\tlearn: 0.3944220\ttotal: 318ms\tremaining: 39.3ms\n",
      "89:\tlearn: 0.3942252\ttotal: 320ms\tremaining: 35.6ms\n",
      "90:\tlearn: 0.3938189\ttotal: 323ms\tremaining: 31.9ms\n",
      "91:\tlearn: 0.3932035\ttotal: 325ms\tremaining: 28.3ms\n",
      "92:\tlearn: 0.3925295\ttotal: 328ms\tremaining: 24.7ms\n",
      "93:\tlearn: 0.3920357\ttotal: 331ms\tremaining: 21.1ms\n",
      "94:\tlearn: 0.3911219\ttotal: 334ms\tremaining: 17.6ms\n",
      "95:\tlearn: 0.3905945\ttotal: 336ms\tremaining: 14ms\n",
      "96:\tlearn: 0.3901756\ttotal: 339ms\tremaining: 10.5ms\n",
      "97:\tlearn: 0.3897900\ttotal: 342ms\tremaining: 6.97ms\n",
      "98:\tlearn: 0.3896340\ttotal: 345ms\tremaining: 3.48ms\n",
      "99:\tlearn: 0.3893173\ttotal: 348ms\tremaining: 0us\n",
      "Training Score: 0.815340364333653\n",
      "Testing Score: 0.8067855089131685\n"
     ]
    }
   ],
   "source": [
    "from catboost import CatBoostClassifier\n",
    "\n",
    "cbc = CatBoostClassifier(iterations=100)\n",
    "cbc.fit(X_train, y_train)\n",
    "\n",
    "# Model Accuracy\n",
    "print(f'Training Score: {cbc.score(X_train, y_train)}')\n",
    "print(f'Testing Score: {cbc.score(X_test, y_test)}')\n",
    "y_pred_ada  =  cbc.predict(test_df)\n",
    "y_pred_ada.shape\n",
    "spaceship_df = pd.DataFrame({'PassengerId':test.PassengerId, 'Transported':y_pred_ada})\n",
    "spaceship_df['Transported'] = spaceship_df.Transported.map({0:False, 1:True})\n",
    "# save predicted data in csv file\n",
    "spaceship_df.to_csv('spaceship_cbc.csv', index = False)"
   ]
  },
  {
   "cell_type": "markdown",
   "metadata": {},
   "source": [
    "## Ada Boost Classifier"
   ]
  },
  {
   "cell_type": "code",
   "execution_count": 93,
   "metadata": {},
   "outputs": [
    {
     "name": "stdout",
     "output_type": "stream",
     "text": [
      "Training Score: 0.8260786193672099\n",
      "Testing Score: 0.8090856814261069\n",
      "[1 0 1 ... 1 1 1]\n"
     ]
    }
   ],
   "source": [
    "from sklearn.ensemble import AdaBoostClassifier\n",
    "from sklearn.tree import DecisionTreeClassifier\n",
    "\n",
    "# Train and fit the model\n",
    "# abc = AdaBoostClassifier(random_state=19, n_estimators=76, \n",
    "#                          base_estimator=DecisionTreeClassifier(\n",
    "#                              max_depth=2,max_features = 'auto'))\n",
    "\n",
    "abc = AdaBoostClassifier(random_state=1, n_estimators=86, learning_rate=0.1,\n",
    "                         base_estimator=DecisionTreeClassifier(\n",
    "                             max_depth=6,max_features = 'auto', min_samples_leaf=70))\n",
    "abc.fit(X_train, y_train)\n",
    "\n",
    "# Model accuracy\n",
    "print(f'Training Score: {abc.score(X_train, y_train)}')\n",
    "print(f'Testing Score: {abc.score(X_test, y_test)}')\n",
    "y_pred_ada  =  abc.predict(test_df)\n",
    "print(y_pred_ada)\n",
    "spaceship_df = pd.DataFrame({'PassengerId':test.PassengerId, 'Transported':y_pred_ada})\n",
    "spaceship_df['Transported'] = spaceship_df.Transported.map({0:False, 1:True})\n",
    "# save predicted data in csv file\n",
    "spaceship_df.to_csv('spaceship_ada.csv', index = False)"
   ]
  },
  {
   "cell_type": "markdown",
   "metadata": {},
   "source": [
    "## KNearest Neighbor Classification"
   ]
  },
  {
   "cell_type": "code",
   "execution_count": 78,
   "metadata": {},
   "outputs": [
    {
     "name": "stdout",
     "output_type": "stream",
     "text": [
      "k: 1, Train/Test Score: 0.998/0.729\n",
      "k: 3, Train/Test Score: 0.860/0.763\n",
      "k: 5, Train/Test Score: 0.830/0.780\n",
      "k: 7, Train/Test Score: 0.812/0.785\n",
      "k: 9, Train/Test Score: 0.810/0.791\n",
      "k: 11, Train/Test Score: 0.802/0.792\n",
      "k: 13, Train/Test Score: 0.803/0.793\n",
      "k: 15, Train/Test Score: 0.798/0.790\n",
      "k: 17, Train/Test Score: 0.797/0.792\n",
      "k: 19, Train/Test Score: 0.797/0.788\n"
     ]
    },
    {
     "data": {
      "image/png": "[encoded data removed]",
      "text/plain": [
       "<Figure size 432x288 with 1 Axes>"
      ]
     },
     "metadata": {
      "needs_background": "light"
     },
     "output_type": "display_data"
    }
   ],
   "source": [
    "from sklearn.neighbors import KNeighborsClassifier\n",
    "train_scores = []\n",
    "test_scores = []\n",
    "for k in range(1, 20, 2):\n",
    "    knn = KNeighborsClassifier(n_neighbors=k,weights='uniform', metric='minkowski')\n",
    "    knn.fit(X_train_scaled, y_train)\n",
    "    train_score = knn.score(X_train_scaled, y_train)\n",
    "    test_score = knn.score(X_test_scaled, y_test)\n",
    "    train_scores.append(train_score)\n",
    "    test_scores.append(test_score)\n",
    "    print(f\"k: {k}, Train/Test Score: {train_score:.3f}/{test_score:.3f}\")\n",
    "    \n",
    "    \n",
    "plt.plot(range(1, 20, 2), train_scores, marker='o')\n",
    "plt.plot(range(1, 20, 2), test_scores, marker=\"x\")\n",
    "plt.xlabel(\"k neighbors\")\n",
    "plt.ylabel(\"Testing accuracy score\")\n",
    "plt.show()"
   ]
  },
  {
   "cell_type": "code",
   "execution_count": 94,
   "metadata": {},
   "outputs": [
    {
     "name": "stdout",
     "output_type": "stream",
     "text": [
      "Training Score: 0.8030680728667305\n",
      "Testing Score: 0.7929844738355377\n"
     ]
    }
   ],
   "source": [
    "#Import knearest neighbors Classifier model\n",
    "from sklearn.neighbors import KNeighborsClassifier\n",
    "\n",
    "#Train and fit the model using the training sets\n",
    "knn = KNeighborsClassifier(n_neighbors=13, weights='uniform', metric='minkowski')\n",
    "knn.fit(X_train_scaled, y_train)\n",
    "\n",
    "#Predict the response for test dataset\n",
    "print(f'Training Score: {knn.score(X_train_scaled, y_train)}')\n",
    "print(f'Testing Score: {knn.score(X_test_scaled, y_test)}')\n",
    "y_pred_knn = knn.predict(test_df)\n",
    "y_pred_knn.shape\n",
    "\n",
    "# Numpy array to datafram\n",
    "spaceship_df = pd.DataFrame({'PassengerId':test.PassengerId, 'Transported':y_pred_knn})\n",
    "\n",
    "# Change values to True, False\n",
    "spaceship_df['Transported'] = spaceship_df.Transported.map({0:False, 1:True})\n",
    "spaceship_df.to_csv('spaceship_knn.csv', index = False)"
   ]
  },
  {
   "cell_type": "markdown",
   "metadata": {},
   "source": [
    "## Robest Scaler in KNN"
   ]
  },
  {
   "cell_type": "code",
   "execution_count": 96,
   "metadata": {},
   "outputs": [
    {
     "name": "stdout",
     "output_type": "stream",
     "text": [
      "Training Score: 0.8017257909875359\n",
      "Testing Score: 0.7935595169637722\n"
     ]
    }
   ],
   "source": [
    "\n",
    "knn = KNeighborsClassifier(n_neighbors=22, weights='uniform', metric='minkowski')\n",
    "knn.fit(X_train_rs, y_train)\n",
    "\n",
    "print(f'Training Score: {knn.score(X_train_rs, y_train)}')\n",
    "print(f'Testing Score: {knn.score(X_test_rs, y_test)}')\n",
    "y_pred = knn.predict(test_df)\n",
    "\n",
    "# Numpy array to datafram\n",
    "spaceship_df = pd.DataFrame({'PassengerId':test.PassengerId, 'Transported':y_pred_knn})\n",
    "\n",
    "# Change values to True, False\n",
    "spaceship_df['Transported'] = spaceship_df.Transported.map({0:False, 1:True})\n",
    "spaceship_df.to_csv('spaceship_knn.csv', index = False)"
   ]
  },
  {
   "cell_type": "code",
   "execution_count": null,
   "metadata": {},
   "outputs": [],
   "source": [
    "# Automated Neural Network Model\n",
    "import tensorflow as tf\n",
    "\n",
    "# Create a method that creates a new Sequential model with hyperparameter options\n",
    "def create_model(hp):\n",
    "    nn_model = tf.keras.models.Sequential()\n",
    "\n",
    "    # Allow kerastuner to decide which activation function to use in hidden layers\n",
    "    activation = hp.Choice('activation', ['relu','tanh', 'sigmoid'])\n",
    "    \n",
    "    # Allow kerastuner to decide number of neurons in first layer\n",
    "    nn_model.add(tf.keras.layers.Dense(units=hp.Int('first_units',\n",
    "        min_value=1,\n",
    "        max_value=30,\n",
    "        step=5), activation=activation, input_dim=9))\n",
    "\n",
    "    # Allow kerastuner to decide number of hidden layers and neurons in hidden layers\n",
    "    for i in range(hp.Int('num_layers', 1, 5)):\n",
    "        nn_model.add(tf.keras.layers.Dense(units=hp.Int('units_' + str(i),\n",
    "            min_value=1,\n",
    "            max_value=30,\n",
    "            step=5),\n",
    "            activation=activation))\n",
    "    \n",
    "    # Output layer\n",
    "    nn_model.add(tf.keras.layers.Dense(units=1, activation=\"sigmoid\"))\n",
    "\n",
    "    # Compile the model\n",
    "    nn_model.compile(loss=\"binary_crossentropy\", optimizer='adam', metrics=[\"accuracy\"])\n",
    "    \n",
    "    return nn_model\n"
   ]
  },
  {
   "cell_type": "code",
   "execution_count": null,
   "metadata": {},
   "outputs": [],
   "source": [
    "# Import the kerastuner library\n",
    "import keras_tuner as kt\n",
    "\n",
    "tuner = kt.Hyperband(\n",
    "    create_model,\n",
    "    objective=\"val_accuracy\",\n",
    "    factor = 4,\n",
    "    max_epochs=20,\n",
    "    hyperband_iterations=6)"
   ]
  },
  {
   "cell_type": "code",
   "execution_count": null,
   "metadata": {},
   "outputs": [],
   "source": [
    "# # Run the kerastuner search for best hyperparameters\n",
    "tuner.search(X_train_scaled,y_train,epochs=20,validation_data=(X_test_scaled,y_test))"
   ]
  },
  {
   "cell_type": "code",
   "execution_count": null,
   "metadata": {},
   "outputs": [],
   "source": [
    "tuner.results_summary()"
   ]
  },
  {
   "cell_type": "code",
   "execution_count": null,
   "metadata": {},
   "outputs": [],
   "source": [
    "from tensorflow.keras.optimizers import Adam\n",
    "import tensorflow as tf\n",
    "\n",
    "# Create sequential model\n",
    "model = tf.keras.models.Sequential()\n",
    "\n",
    "# Create first layer of input\n",
    "model.add(tf.keras.layers.Dense(units = 13, activation = 'relu', input_dim=9))\n",
    "\n",
    "# Create hidden layers \n",
    "model.add(tf.keras.layers.Dense(units = 11, activation = 'relu'))\n",
    "\n",
    "model.add(tf.keras.layers.Dense(units = 6, activation = 'relu'))\n",
    "\n",
    "# model.add(tf.keras.layers.Dense(units = 11, activation = 'relu'))\n",
    "\n",
    "# Create ouput layers\n",
    "model.add(tf.keras.layers.Dense(units = 1, activation = 'sigmoid'))\n",
    "\n",
    "# Structure of sequential model\n",
    "model.summary()"
   ]
  },
  {
   "cell_type": "code",
   "execution_count": null,
   "metadata": {},
   "outputs": [],
   "source": [
    "# Compile the model\n",
    "# lr = tf.keras.optimizers.Adam(learning_rate=0.001, beta_1=0.9, name='Adam')\n",
    "model.compile(loss = \"binary_crossentropy\", optimizer = \"adam\", metrics = ['accuracy'])\n",
    "\n",
    "# Fit the model\n",
    "fit_model = model.fit(X_train_scaled, y_train, epochs = 20, validation_split=0.02) "
   ]
  },
  {
   "cell_type": "code",
   "execution_count": null,
   "metadata": {},
   "outputs": [],
   "source": [
    "# Evaluate the model using the test data\n",
    "model_loss, model_accuracy = model.evaluate(X_train_scaled,y_train,verbose=2)\n",
    "print(f\"Train Loss: {model_loss}, Train Accuracy: {model_accuracy}\")\n",
    "model_loss, model_accuracy = model.evaluate(X_test_scaled,y_test,verbose=2)\n",
    "print(f\"Test Loss: {model_loss}, Test Accuracy: {model_accuracy}\")"
   ]
  },
  {
   "cell_type": "code",
   "execution_count": null,
   "metadata": {},
   "outputs": [],
   "source": [
    "# Create a DataFrame containing training history\n",
    "history_df = pd.DataFrame(fit_model.history, index=range(1,len(fit_model.history[\"loss\"])+1))\n",
    "\n",
    "# Plot the accuracy\n",
    "history_df.plot(y=\"accuracy\")"
   ]
  },
  {
   "cell_type": "code",
   "execution_count": null,
   "metadata": {},
   "outputs": [],
   "source": []
  }
 ],
 "metadata": {
  "kernelspec": {
   "display_name": "Python 3",
   "language": "python",
   "name": "python3"
  },
  "language_info": {
   "codemirror_mode": {
    "name": "ipython",
    "version": 3
   },
   "file_extension": ".py",
   "mimetype": "text/x-python",
   "name": "python",
   "nbconvert_exporter": "python",
   "pygments_lexer": "ipython3",
   "version": "3.8.5"
  }
 },
 "nbformat": 4,
 "nbformat_minor": 4
}
