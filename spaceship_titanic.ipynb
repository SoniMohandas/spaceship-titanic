{
 "cells": [
  {
   "cell_type": "code",
   "execution_count": 89,
   "metadata": {},
   "outputs": [],
   "source": [
    "import warnings\n",
    "import pandas as pd\n",
    "import numpy as np\n",
    "from string import digits\n",
    "warnings.simplefilter('ignore')"
   ]
  },
  {
   "cell_type": "code",
   "execution_count": 90,
   "metadata": {},
   "outputs": [],
   "source": [
    "# Load csv files into dataframe\n",
    "train = pd.read_csv(\"Resources/train.csv\")\n",
    "test = pd.read_csv(\"Resources/test.csv\")"
   ]
  },
  {
   "cell_type": "code",
   "execution_count": 91,
   "metadata": {},
   "outputs": [
    {
     "data": {
      "text/html": [
       "<div>\n",
       "<style scoped>\n",
       "    .dataframe tbody tr th:only-of-type {\n",
       "        vertical-align: middle;\n",
       "    }\n",
       "\n",
       "    .dataframe tbody tr th {\n",
       "        vertical-align: top;\n",
       "    }\n",
       "\n",
       "    .dataframe thead th {\n",
       "        text-align: right;\n",
       "    }\n",
       "</style>\n",
       "<table border=\"1\" class=\"dataframe\">\n",
       "  <thead>\n",
       "    <tr style=\"text-align: right;\">\n",
       "      <th></th>\n",
       "      <th>PassengerId</th>\n",
       "      <th>HomePlanet</th>\n",
       "      <th>CryoSleep</th>\n",
       "      <th>Cabin</th>\n",
       "      <th>Destination</th>\n",
       "      <th>Age</th>\n",
       "      <th>VIP</th>\n",
       "      <th>RoomService</th>\n",
       "      <th>FoodCourt</th>\n",
       "      <th>ShoppingMall</th>\n",
       "      <th>Spa</th>\n",
       "      <th>VRDeck</th>\n",
       "      <th>Name</th>\n",
       "    </tr>\n",
       "  </thead>\n",
       "  <tbody>\n",
       "    <tr>\n",
       "      <th>0</th>\n",
       "      <td>0013_01</td>\n",
       "      <td>Earth</td>\n",
       "      <td>True</td>\n",
       "      <td>G/3/S</td>\n",
       "      <td>TRAPPIST-1e</td>\n",
       "      <td>27.0</td>\n",
       "      <td>False</td>\n",
       "      <td>0.0</td>\n",
       "      <td>0.0</td>\n",
       "      <td>0.0</td>\n",
       "      <td>0.0</td>\n",
       "      <td>0.0</td>\n",
       "      <td>Nelly Carsoning</td>\n",
       "    </tr>\n",
       "    <tr>\n",
       "      <th>1</th>\n",
       "      <td>0018_01</td>\n",
       "      <td>Earth</td>\n",
       "      <td>False</td>\n",
       "      <td>F/4/S</td>\n",
       "      <td>TRAPPIST-1e</td>\n",
       "      <td>19.0</td>\n",
       "      <td>False</td>\n",
       "      <td>0.0</td>\n",
       "      <td>9.0</td>\n",
       "      <td>0.0</td>\n",
       "      <td>2823.0</td>\n",
       "      <td>0.0</td>\n",
       "      <td>Lerome Peckers</td>\n",
       "    </tr>\n",
       "    <tr>\n",
       "      <th>2</th>\n",
       "      <td>0019_01</td>\n",
       "      <td>Europa</td>\n",
       "      <td>True</td>\n",
       "      <td>C/0/S</td>\n",
       "      <td>55 Cancri e</td>\n",
       "      <td>31.0</td>\n",
       "      <td>False</td>\n",
       "      <td>0.0</td>\n",
       "      <td>0.0</td>\n",
       "      <td>0.0</td>\n",
       "      <td>0.0</td>\n",
       "      <td>0.0</td>\n",
       "      <td>Sabih Unhearfus</td>\n",
       "    </tr>\n",
       "    <tr>\n",
       "      <th>3</th>\n",
       "      <td>0021_01</td>\n",
       "      <td>Europa</td>\n",
       "      <td>False</td>\n",
       "      <td>C/1/S</td>\n",
       "      <td>TRAPPIST-1e</td>\n",
       "      <td>38.0</td>\n",
       "      <td>False</td>\n",
       "      <td>0.0</td>\n",
       "      <td>6652.0</td>\n",
       "      <td>0.0</td>\n",
       "      <td>181.0</td>\n",
       "      <td>585.0</td>\n",
       "      <td>Meratz Caltilter</td>\n",
       "    </tr>\n",
       "    <tr>\n",
       "      <th>4</th>\n",
       "      <td>0023_01</td>\n",
       "      <td>Earth</td>\n",
       "      <td>False</td>\n",
       "      <td>F/5/S</td>\n",
       "      <td>TRAPPIST-1e</td>\n",
       "      <td>20.0</td>\n",
       "      <td>False</td>\n",
       "      <td>10.0</td>\n",
       "      <td>0.0</td>\n",
       "      <td>635.0</td>\n",
       "      <td>0.0</td>\n",
       "      <td>0.0</td>\n",
       "      <td>Brence Harperez</td>\n",
       "    </tr>\n",
       "  </tbody>\n",
       "</table>\n",
       "</div>"
      ],
      "text/plain": [
       "  PassengerId HomePlanet CryoSleep  Cabin  Destination   Age    VIP  \\\n",
       "0     0013_01      Earth      True  G/3/S  TRAPPIST-1e  27.0  False   \n",
       "1     0018_01      Earth     False  F/4/S  TRAPPIST-1e  19.0  False   \n",
       "2     0019_01     Europa      True  C/0/S  55 Cancri e  31.0  False   \n",
       "3     0021_01     Europa     False  C/1/S  TRAPPIST-1e  38.0  False   \n",
       "4     0023_01      Earth     False  F/5/S  TRAPPIST-1e  20.0  False   \n",
       "\n",
       "   RoomService  FoodCourt  ShoppingMall     Spa  VRDeck              Name  \n",
       "0          0.0        0.0           0.0     0.0     0.0   Nelly Carsoning  \n",
       "1          0.0        9.0           0.0  2823.0     0.0    Lerome Peckers  \n",
       "2          0.0        0.0           0.0     0.0     0.0   Sabih Unhearfus  \n",
       "3          0.0     6652.0           0.0   181.0   585.0  Meratz Caltilter  \n",
       "4         10.0        0.0         635.0     0.0     0.0   Brence Harperez  "
      ]
     },
     "execution_count": 91,
     "metadata": {},
     "output_type": "execute_result"
    }
   ],
   "source": [
    "test_df=test.copy()\n",
    "test.head()"
   ]
  },
  {
   "cell_type": "code",
   "execution_count": 92,
   "metadata": {},
   "outputs": [],
   "source": [
    "train['Cabin']=train.Cabin.replace('/','', regex=True)\n",
    "train['Cabin']=train.Cabin.str.replace('\\d+','')\n",
    "# train.Cabin.unique()\n",
    "test['Cabin']=test.Cabin.replace('/','', regex=True)\n",
    "test['Cabin']=test.Cabin.str.replace('\\d+','')"
   ]
  },
  {
   "cell_type": "code",
   "execution_count": 93,
   "metadata": {},
   "outputs": [],
   "source": [
    "drop_cols = [\"PassengerId\", \"Name\"]\n",
    "train.drop(columns=drop_cols, inplace=True)\n",
    "test.drop(columns=drop_cols, inplace=True)"
   ]
  },
  {
   "cell_type": "code",
   "execution_count": 94,
   "metadata": {},
   "outputs": [],
   "source": [
    "# Remove null values with 0, median value and 'False'\n",
    "age_median = train.Age.median()\n",
    "train.Age.fillna(age_median, inplace = True)\n",
    "train.fillna(0, inplace = True)\n",
    "\n",
    "test_age_median = test.Age.median()\n",
    "test.Age.fillna(test_age_median, inplace = True)\n",
    "test.fillna(0, inplace = True)"
   ]
  },
  {
   "cell_type": "code",
   "execution_count": 95,
   "metadata": {},
   "outputs": [],
   "source": [
    "train.CryoSleep.replace({True:1,False:0}, inplace = True)\n",
    "train.Transported.replace({True:1,False:0}, inplace = True)\n",
    "# train.drop(columns=['Destination','VIP'], inplace = True)\n",
    "\n",
    "test.CryoSleep.replace({True:1,False:0}, inplace = True)\n",
    "# test.drop(columns=['Destination','VIP'], inplace = True)"
   ]
  },
  {
   "cell_type": "code",
   "execution_count": 96,
   "metadata": {},
   "outputs": [],
   "source": [
    "test = pd.get_dummies(test)\n",
    "\n",
    "train=pd.get_dummies(train)"
   ]
  },
  {
   "cell_type": "code",
   "execution_count": 97,
   "metadata": {},
   "outputs": [],
   "source": [
    "X=train.drop(columns='Transported')\n",
    "y=train.Transported"
   ]
  },
  {
   "cell_type": "code",
   "execution_count": 98,
   "metadata": {},
   "outputs": [
    {
     "name": "stdout",
     "output_type": "stream",
     "text": [
      "(8693, 34)\n",
      "(4277, 34)\n"
     ]
    }
   ],
   "source": [
    "print(X.shape)\n",
    "print(test.shape)"
   ]
  },
  {
   "cell_type": "code",
   "execution_count": 109,
   "metadata": {},
   "outputs": [
    {
     "name": "stdout",
     "output_type": "stream",
     "text": [
      "train size X :  (6085, 34)\n",
      "train size y :  (6085,)\n",
      "test size X :  (2608, 34)\n",
      "test size y :  (2608,)\n"
     ]
    }
   ],
   "source": [
    "# Split X and y using train test split\n",
    "from sklearn.model_selection import train_test_split\n",
    "X_train, X_test, y_train, y_test = train_test_split(X, y, train_size = 0.70, random_state=30)\n",
    "\n",
    "# Get shape of train test data\n",
    "print(\"train size X : \",X_train.shape)\n",
    "print(\"train size y : \",y_train.shape)\n",
    "print(\"test size X : \",X_test.shape)\n",
    "print(\"test size y : \",y_test.shape)"
   ]
  },
  {
   "cell_type": "code",
   "execution_count": 110,
   "metadata": {},
   "outputs": [],
   "source": [
    "from sklearn.preprocessing import StandardScaler\n",
    " \n",
    "ss = StandardScaler()\n",
    "\n",
    "# Fit and transform the data\n",
    "X_train_scaled = ss.fit_transform(X_train)\n",
    "X_test_scaled = ss.fit_transform(X_test)"
   ]
  },
  {
   "cell_type": "code",
   "execution_count": 111,
   "metadata": {},
   "outputs": [],
   "source": [
    "from sklearn.preprocessing import RobustScaler\n",
    "\n",
    "scaler = RobustScaler()\n",
    "\n",
    "X_train_rs = scaler.fit_transform(X_train)\n",
    "X_test_rs = scaler.fit_transform(X_test)"
   ]
  },
  {
   "cell_type": "code",
   "execution_count": 112,
   "metadata": {},
   "outputs": [
    {
     "name": "stdout",
     "output_type": "stream",
     "text": [
      "Training score: 0.8279375513557929\n",
      "Testing score: 0.8059815950920245\n"
     ]
    },
    {
     "data": {
      "text/plain": [
       "array([1, 0, 1, ..., 1, 1, 1], dtype=int64)"
      ]
     },
     "execution_count": 112,
     "metadata": {},
     "output_type": "execute_result"
    }
   ],
   "source": [
    "from sklearn.ensemble import RandomForestClassifier\n",
    "\n",
    "# Train and fit the model\n",
    "rfc = RandomForestClassifier(n_estimators=125, \n",
    "                             random_state=1,min_samples_leaf=8)\n",
    "\n",
    "rfc.fit(X_train, y_train)\n",
    "\n",
    "importance = rfc.feature_importances_\n",
    "\n",
    "print(f'Training score: {rfc.score(X_train, y_train)}')\n",
    "print(f'Testing score: {rfc.score(X_test, y_test)}')\n",
    "y_pred_rfc  =  rfc.predict(test)\n",
    "\n",
    "spaceship_df = pd.DataFrame({'PassengerId':test_df.PassengerId, 'Transported':y_pred_rfc})\n",
    "spaceship_df['Transported'] = spaceship_df.Transported.map({0:False, 1:True})\n",
    "spaceship_df.to_csv('spaceship_rfc.csv', index = False)\n",
    "y_pred_rfc"
   ]
  },
  {
   "cell_type": "code",
   "execution_count": 113,
   "metadata": {},
   "outputs": [
    {
     "name": "stdout",
     "output_type": "stream",
     "text": [
      "0:\tlearn: 0.6507275\ttotal: 5.5ms\tremaining: 710ms\n",
      "1:\tlearn: 0.6143960\ttotal: 11.8ms\tremaining: 755ms\n",
      "2:\tlearn: 0.5826983\ttotal: 17.6ms\tremaining: 745ms\n",
      "3:\tlearn: 0.5603092\ttotal: 24ms\tremaining: 755ms\n",
      "4:\tlearn: 0.5451975\ttotal: 32ms\tremaining: 801ms\n",
      "5:\tlearn: 0.5302293\ttotal: 38ms\tremaining: 785ms\n",
      "6:\tlearn: 0.5165656\ttotal: 45.5ms\tremaining: 799ms\n",
      "7:\tlearn: 0.5068629\ttotal: 50.6ms\tremaining: 772ms\n",
      "8:\tlearn: 0.4966525\ttotal: 56.7ms\tremaining: 763ms\n",
      "9:\tlearn: 0.4878146\ttotal: 61.7ms\tremaining: 740ms\n",
      "10:\tlearn: 0.4810808\ttotal: 66.2ms\tremaining: 717ms\n",
      "11:\tlearn: 0.4740226\ttotal: 71.2ms\tremaining: 700ms\n",
      "12:\tlearn: 0.4684418\ttotal: 76.2ms\tremaining: 686ms\n",
      "13:\tlearn: 0.4639113\ttotal: 81.2ms\tremaining: 673ms\n",
      "14:\tlearn: 0.4591584\ttotal: 86.6ms\tremaining: 664ms\n",
      "15:\tlearn: 0.4551928\ttotal: 91.4ms\tremaining: 651ms\n",
      "16:\tlearn: 0.4517686\ttotal: 96.2ms\tremaining: 640ms\n",
      "17:\tlearn: 0.4486392\ttotal: 101ms\tremaining: 630ms\n",
      "18:\tlearn: 0.4449632\ttotal: 108ms\tremaining: 632ms\n",
      "19:\tlearn: 0.4432028\ttotal: 113ms\tremaining: 622ms\n",
      "20:\tlearn: 0.4410991\ttotal: 118ms\tremaining: 614ms\n",
      "21:\tlearn: 0.4386728\ttotal: 124ms\tremaining: 608ms\n",
      "22:\tlearn: 0.4363102\ttotal: 129ms\tremaining: 600ms\n",
      "23:\tlearn: 0.4348285\ttotal: 135ms\tremaining: 595ms\n",
      "24:\tlearn: 0.4327212\ttotal: 140ms\tremaining: 586ms\n",
      "25:\tlearn: 0.4302018\ttotal: 145ms\tremaining: 580ms\n",
      "26:\tlearn: 0.4289451\ttotal: 150ms\tremaining: 573ms\n",
      "27:\tlearn: 0.4275541\ttotal: 156ms\tremaining: 569ms\n",
      "28:\tlearn: 0.4261279\ttotal: 162ms\tremaining: 564ms\n",
      "29:\tlearn: 0.4239856\ttotal: 167ms\tremaining: 557ms\n",
      "30:\tlearn: 0.4228283\ttotal: 173ms\tremaining: 553ms\n",
      "31:\tlearn: 0.4214393\ttotal: 179ms\tremaining: 547ms\n",
      "32:\tlearn: 0.4204063\ttotal: 184ms\tremaining: 540ms\n",
      "33:\tlearn: 0.4193069\ttotal: 188ms\tremaining: 532ms\n",
      "34:\tlearn: 0.4173364\ttotal: 194ms\tremaining: 525ms\n",
      "35:\tlearn: 0.4164637\ttotal: 198ms\tremaining: 517ms\n",
      "36:\tlearn: 0.4158610\ttotal: 203ms\tremaining: 509ms\n",
      "37:\tlearn: 0.4146771\ttotal: 208ms\tremaining: 504ms\n",
      "38:\tlearn: 0.4138726\ttotal: 213ms\tremaining: 496ms\n",
      "39:\tlearn: 0.4128654\ttotal: 217ms\tremaining: 488ms\n",
      "40:\tlearn: 0.4120373\ttotal: 221ms\tremaining: 480ms\n",
      "41:\tlearn: 0.4113060\ttotal: 226ms\tremaining: 473ms\n",
      "42:\tlearn: 0.4104864\ttotal: 230ms\tremaining: 465ms\n",
      "43:\tlearn: 0.4100982\ttotal: 234ms\tremaining: 457ms\n",
      "44:\tlearn: 0.4095642\ttotal: 238ms\tremaining: 450ms\n",
      "45:\tlearn: 0.4080648\ttotal: 243ms\tremaining: 443ms\n",
      "46:\tlearn: 0.4073718\ttotal: 248ms\tremaining: 437ms\n",
      "47:\tlearn: 0.4064910\ttotal: 252ms\tremaining: 431ms\n",
      "48:\tlearn: 0.4055027\ttotal: 257ms\tremaining: 424ms\n",
      "49:\tlearn: 0.4048697\ttotal: 261ms\tremaining: 418ms\n",
      "50:\tlearn: 0.4037034\ttotal: 266ms\tremaining: 411ms\n",
      "51:\tlearn: 0.4030622\ttotal: 270ms\tremaining: 405ms\n",
      "52:\tlearn: 0.4026862\ttotal: 274ms\tremaining: 398ms\n",
      "53:\tlearn: 0.4023380\ttotal: 279ms\tremaining: 392ms\n",
      "54:\tlearn: 0.4012191\ttotal: 292ms\tremaining: 398ms\n",
      "55:\tlearn: 0.4007175\ttotal: 296ms\tremaining: 392ms\n",
      "56:\tlearn: 0.4000211\ttotal: 300ms\tremaining: 385ms\n",
      "57:\tlearn: 0.3994578\ttotal: 305ms\tremaining: 378ms\n",
      "58:\tlearn: 0.3988401\ttotal: 309ms\tremaining: 372ms\n",
      "59:\tlearn: 0.3978448\ttotal: 313ms\tremaining: 365ms\n",
      "60:\tlearn: 0.3965332\ttotal: 318ms\tremaining: 359ms\n",
      "61:\tlearn: 0.3960262\ttotal: 322ms\tremaining: 353ms\n",
      "62:\tlearn: 0.3957663\ttotal: 325ms\tremaining: 346ms\n",
      "63:\tlearn: 0.3944222\ttotal: 330ms\tremaining: 340ms\n",
      "64:\tlearn: 0.3937000\ttotal: 334ms\tremaining: 334ms\n",
      "65:\tlearn: 0.3931383\ttotal: 340ms\tremaining: 329ms\n",
      "66:\tlearn: 0.3923595\ttotal: 345ms\tremaining: 324ms\n",
      "67:\tlearn: 0.3920046\ttotal: 350ms\tremaining: 319ms\n",
      "68:\tlearn: 0.3916871\ttotal: 355ms\tremaining: 314ms\n",
      "69:\tlearn: 0.3913968\ttotal: 360ms\tremaining: 308ms\n",
      "70:\tlearn: 0.3909242\ttotal: 364ms\tremaining: 303ms\n",
      "71:\tlearn: 0.3899780\ttotal: 369ms\tremaining: 297ms\n",
      "72:\tlearn: 0.3888717\ttotal: 374ms\tremaining: 292ms\n",
      "73:\tlearn: 0.3883123\ttotal: 378ms\tremaining: 286ms\n",
      "74:\tlearn: 0.3876058\ttotal: 383ms\tremaining: 281ms\n",
      "75:\tlearn: 0.3869858\ttotal: 387ms\tremaining: 275ms\n",
      "76:\tlearn: 0.3863992\ttotal: 392ms\tremaining: 270ms\n",
      "77:\tlearn: 0.3855558\ttotal: 396ms\tremaining: 264ms\n",
      "78:\tlearn: 0.3849039\ttotal: 401ms\tremaining: 259ms\n",
      "79:\tlearn: 0.3845539\ttotal: 405ms\tremaining: 253ms\n",
      "80:\tlearn: 0.3839610\ttotal: 410ms\tremaining: 248ms\n",
      "81:\tlearn: 0.3827367\ttotal: 414ms\tremaining: 242ms\n",
      "82:\tlearn: 0.3821853\ttotal: 419ms\tremaining: 237ms\n",
      "83:\tlearn: 0.3815623\ttotal: 423ms\tremaining: 232ms\n",
      "84:\tlearn: 0.3808440\ttotal: 428ms\tremaining: 226ms\n",
      "85:\tlearn: 0.3803352\ttotal: 432ms\tremaining: 221ms\n",
      "86:\tlearn: 0.3795372\ttotal: 437ms\tremaining: 216ms\n",
      "87:\tlearn: 0.3791799\ttotal: 441ms\tremaining: 211ms\n",
      "88:\tlearn: 0.3788148\ttotal: 446ms\tremaining: 205ms\n",
      "89:\tlearn: 0.3782627\ttotal: 450ms\tremaining: 200ms\n",
      "90:\tlearn: 0.3772980\ttotal: 454ms\tremaining: 195ms\n",
      "91:\tlearn: 0.3767666\ttotal: 459ms\tremaining: 190ms\n",
      "92:\tlearn: 0.3763822\ttotal: 464ms\tremaining: 185ms\n",
      "93:\tlearn: 0.3760926\ttotal: 468ms\tremaining: 179ms\n",
      "94:\tlearn: 0.3756225\ttotal: 473ms\tremaining: 174ms\n",
      "95:\tlearn: 0.3750012\ttotal: 478ms\tremaining: 169ms\n",
      "96:\tlearn: 0.3747515\ttotal: 482ms\tremaining: 164ms\n",
      "97:\tlearn: 0.3741420\ttotal: 486ms\tremaining: 159ms\n",
      "98:\tlearn: 0.3730651\ttotal: 491ms\tremaining: 154ms\n",
      "99:\tlearn: 0.3725541\ttotal: 496ms\tremaining: 149ms\n",
      "100:\tlearn: 0.3721763\ttotal: 500ms\tremaining: 144ms\n",
      "101:\tlearn: 0.3719413\ttotal: 504ms\tremaining: 138ms\n",
      "102:\tlearn: 0.3714104\ttotal: 509ms\tremaining: 134ms\n",
      "103:\tlearn: 0.3709526\ttotal: 514ms\tremaining: 129ms\n",
      "104:\tlearn: 0.3705141\ttotal: 519ms\tremaining: 123ms\n",
      "105:\tlearn: 0.3701695\ttotal: 524ms\tremaining: 119ms\n",
      "106:\tlearn: 0.3696133\ttotal: 528ms\tremaining: 114ms\n",
      "107:\tlearn: 0.3692319\ttotal: 534ms\tremaining: 109ms\n",
      "108:\tlearn: 0.3687043\ttotal: 539ms\tremaining: 104ms\n",
      "109:\tlearn: 0.3681955\ttotal: 543ms\tremaining: 98.7ms\n",
      "110:\tlearn: 0.3678932\ttotal: 547ms\tremaining: 93.7ms\n",
      "111:\tlearn: 0.3673702\ttotal: 552ms\tremaining: 88.8ms\n",
      "112:\tlearn: 0.3668626\ttotal: 557ms\tremaining: 83.8ms\n",
      "113:\tlearn: 0.3659858\ttotal: 561ms\tremaining: 78.8ms\n",
      "114:\tlearn: 0.3655483\ttotal: 566ms\tremaining: 73.8ms\n",
      "115:\tlearn: 0.3651433\ttotal: 570ms\tremaining: 68.9ms\n",
      "116:\tlearn: 0.3646675\ttotal: 575ms\tremaining: 63.9ms\n",
      "117:\tlearn: 0.3644602\ttotal: 579ms\tremaining: 58.9ms\n",
      "118:\tlearn: 0.3638248\ttotal: 584ms\tremaining: 54ms\n",
      "119:\tlearn: 0.3627069\ttotal: 589ms\tremaining: 49ms\n",
      "120:\tlearn: 0.3620356\ttotal: 593ms\tremaining: 44.1ms\n",
      "121:\tlearn: 0.3612432\ttotal: 597ms\tremaining: 39.2ms\n",
      "122:\tlearn: 0.3610608\ttotal: 602ms\tremaining: 34.3ms\n",
      "123:\tlearn: 0.3604534\ttotal: 606ms\tremaining: 29.3ms\n",
      "124:\tlearn: 0.3597741\ttotal: 611ms\tremaining: 24.4ms\n",
      "125:\tlearn: 0.3593304\ttotal: 615ms\tremaining: 19.5ms\n",
      "126:\tlearn: 0.3589157\ttotal: 620ms\tremaining: 14.6ms\n",
      "127:\tlearn: 0.3584218\ttotal: 624ms\tremaining: 9.75ms\n",
      "128:\tlearn: 0.3580177\ttotal: 629ms\tremaining: 4.87ms\n",
      "129:\tlearn: 0.3571491\ttotal: 633ms\tremaining: 0us\n",
      "Training Score: 0.828266228430567\n",
      "Testing Score: 0.8132668711656442\n",
      "[1 0 1 ... 1 1 1]\n"
     ]
    }
   ],
   "source": [
    "from catboost import CatBoostClassifier\n",
    "\n",
    "cbc = CatBoostClassifier(iterations=130, learning_rate=0.1)\n",
    "cbc.fit(X_train, y_train)\n",
    "\n",
    "# Model Accuracy\n",
    "print(f'Training Score: {cbc.score(X_train, y_train)}')\n",
    "print(f'Testing Score: {cbc.score(X_test, y_test)}')\n",
    "y_pred_cbc  =  cbc.predict(test)\n",
    "print(y_pred_cbc)\n",
    "spaceship_df = pd.DataFrame({'PassengerId':test_df.PassengerId, 'Transported':y_pred_cbc})\n",
    "spaceship_df['Transported'] = spaceship_df.Transported.map({0:False, 1:True})\n",
    "# save predicted data in csv file\n",
    "spaceship_df.to_csv('spaceship_cbc.csv', index = False)\n",
    "\n",
    "# predicted score 80.360"
   ]
  },
  {
   "cell_type": "code",
   "execution_count": 114,
   "metadata": {},
   "outputs": [
    {
     "name": "stdout",
     "output_type": "stream",
     "text": [
      "[18:27:12] WARNING: ..\\src\\learner.cc:1115: Starting in XGBoost 1.3.0, the default evaluation metric used with the objective 'binary:logistic' was changed from 'error' to 'logloss'. Explicitly set eval_metric if you'd like to restore the old behavior.\n",
      "Training Score: 0.8238290879211175\n",
      "Testing Score: 0.8098159509202454\n"
     ]
    },
    {
     "data": {
      "text/plain": [
       "array([1, 0, 1, ..., 1, 1, 1], dtype=int64)"
      ]
     },
     "execution_count": 114,
     "metadata": {},
     "output_type": "execute_result"
    }
   ],
   "source": [
    "from xgboost import XGBClassifier\n",
    "\n",
    "xg_model = XGBClassifier(booster='gbtree',\n",
    "                        learning_rate =0.08, n_estimators = 100, max_depth=6,\n",
    "                        gamma=0.1, subsample = 0.7,colsample_bynode = 0.3,\n",
    "                        nthread=4,reg_lambda=11,\n",
    "                        scale_pos_weight = 1, seed = 27, num_parallel_tree=10\n",
    "                        ).fit(X_train, y_train)\n",
    "\n",
    "# from sklearn.metrics import mean_absolute_error\n",
    "print(f'Training Score: {xg_model.score(X_train, y_train)}')\n",
    "print(f'Testing Score: {xg_model.score(X_test, y_test)}')\n",
    "y_pred_xgb=xg_model.predict(test)\n",
    "spaceship_df = pd.DataFrame({'PassengerId':test_df.PassengerId, 'Transported':y_pred_xgb})\n",
    "spaceship_df['Transported'] = spaceship_df.Transported.map({0:False, 1:True})\n",
    "spaceship_df.to_csv('spaceship_xgb.csv', index = False)\n",
    "y_pred_xgb"
   ]
  },
  {
   "cell_type": "code",
   "execution_count": null,
   "metadata": {},
   "outputs": [],
   "source": []
  }
 ],
 "metadata": {
  "kernelspec": {
   "display_name": "Python 3",
   "language": "python",
   "name": "python3"
  },
  "language_info": {
   "codemirror_mode": {
    "name": "ipython",
    "version": 3
   },
   "file_extension": ".py",
   "mimetype": "text/x-python",
   "name": "python",
   "nbconvert_exporter": "python",
   "pygments_lexer": "ipython3",
   "version": "3.8.5"
  }
 },
 "nbformat": 4,
 "nbformat_minor": 4
}
