{
 "cells": [
  {
   "cell_type": "code",
   "execution_count": 10,
   "metadata": {},
   "outputs": [],
   "source": [
    "import warnings\n",
    "import pandas as pd\n",
    "warnings.simplefilter('ignore')"
   ]
  },
  {
   "cell_type": "code",
   "execution_count": 11,
   "metadata": {},
   "outputs": [],
   "source": [
    "# Load csv files into dataframe\n",
    "train = pd.read_csv(\"Resources/train.csv\")\n",
    "test = pd.read_csv(\"Resources/test.csv\")"
   ]
  },
  {
   "cell_type": "code",
   "execution_count": 12,
   "metadata": {},
   "outputs": [
    {
     "data": {
      "text/html": [
       "<div>\n",
       "<style scoped>\n",
       "    .dataframe tbody tr th:only-of-type {\n",
       "        vertical-align: middle;\n",
       "    }\n",
       "\n",
       "    .dataframe tbody tr th {\n",
       "        vertical-align: top;\n",
       "    }\n",
       "\n",
       "    .dataframe thead th {\n",
       "        text-align: right;\n",
       "    }\n",
       "</style>\n",
       "<table border=\"1\" class=\"dataframe\">\n",
       "  <thead>\n",
       "    <tr style=\"text-align: right;\">\n",
       "      <th></th>\n",
       "      <th>PassengerId</th>\n",
       "      <th>HomePlanet</th>\n",
       "      <th>CryoSleep</th>\n",
       "      <th>Cabin</th>\n",
       "      <th>Destination</th>\n",
       "      <th>Age</th>\n",
       "      <th>VIP</th>\n",
       "      <th>RoomService</th>\n",
       "      <th>FoodCourt</th>\n",
       "      <th>ShoppingMall</th>\n",
       "      <th>Spa</th>\n",
       "      <th>VRDeck</th>\n",
       "      <th>Name</th>\n",
       "      <th>Transported</th>\n",
       "    </tr>\n",
       "  </thead>\n",
       "  <tbody>\n",
       "    <tr>\n",
       "      <th>0</th>\n",
       "      <td>0001_01</td>\n",
       "      <td>Europa</td>\n",
       "      <td>False</td>\n",
       "      <td>B/0/P</td>\n",
       "      <td>TRAPPIST-1e</td>\n",
       "      <td>39.0</td>\n",
       "      <td>False</td>\n",
       "      <td>0.0</td>\n",
       "      <td>0.0</td>\n",
       "      <td>0.0</td>\n",
       "      <td>0.0</td>\n",
       "      <td>0.0</td>\n",
       "      <td>Maham Ofracculy</td>\n",
       "      <td>False</td>\n",
       "    </tr>\n",
       "    <tr>\n",
       "      <th>1</th>\n",
       "      <td>0002_01</td>\n",
       "      <td>Earth</td>\n",
       "      <td>False</td>\n",
       "      <td>F/0/S</td>\n",
       "      <td>TRAPPIST-1e</td>\n",
       "      <td>24.0</td>\n",
       "      <td>False</td>\n",
       "      <td>109.0</td>\n",
       "      <td>9.0</td>\n",
       "      <td>25.0</td>\n",
       "      <td>549.0</td>\n",
       "      <td>44.0</td>\n",
       "      <td>Juanna Vines</td>\n",
       "      <td>True</td>\n",
       "    </tr>\n",
       "    <tr>\n",
       "      <th>2</th>\n",
       "      <td>0003_01</td>\n",
       "      <td>Europa</td>\n",
       "      <td>False</td>\n",
       "      <td>A/0/S</td>\n",
       "      <td>TRAPPIST-1e</td>\n",
       "      <td>58.0</td>\n",
       "      <td>True</td>\n",
       "      <td>43.0</td>\n",
       "      <td>3576.0</td>\n",
       "      <td>0.0</td>\n",
       "      <td>6715.0</td>\n",
       "      <td>49.0</td>\n",
       "      <td>Altark Susent</td>\n",
       "      <td>False</td>\n",
       "    </tr>\n",
       "    <tr>\n",
       "      <th>3</th>\n",
       "      <td>0003_02</td>\n",
       "      <td>Europa</td>\n",
       "      <td>False</td>\n",
       "      <td>A/0/S</td>\n",
       "      <td>TRAPPIST-1e</td>\n",
       "      <td>33.0</td>\n",
       "      <td>False</td>\n",
       "      <td>0.0</td>\n",
       "      <td>1283.0</td>\n",
       "      <td>371.0</td>\n",
       "      <td>3329.0</td>\n",
       "      <td>193.0</td>\n",
       "      <td>Solam Susent</td>\n",
       "      <td>False</td>\n",
       "    </tr>\n",
       "    <tr>\n",
       "      <th>4</th>\n",
       "      <td>0004_01</td>\n",
       "      <td>Earth</td>\n",
       "      <td>False</td>\n",
       "      <td>F/1/S</td>\n",
       "      <td>TRAPPIST-1e</td>\n",
       "      <td>16.0</td>\n",
       "      <td>False</td>\n",
       "      <td>303.0</td>\n",
       "      <td>70.0</td>\n",
       "      <td>151.0</td>\n",
       "      <td>565.0</td>\n",
       "      <td>2.0</td>\n",
       "      <td>Willy Santantines</td>\n",
       "      <td>True</td>\n",
       "    </tr>\n",
       "  </tbody>\n",
       "</table>\n",
       "</div>"
      ],
      "text/plain": [
       "  PassengerId HomePlanet CryoSleep  Cabin  Destination   Age    VIP  \\\n",
       "0     0001_01     Europa     False  B/0/P  TRAPPIST-1e  39.0  False   \n",
       "1     0002_01      Earth     False  F/0/S  TRAPPIST-1e  24.0  False   \n",
       "2     0003_01     Europa     False  A/0/S  TRAPPIST-1e  58.0   True   \n",
       "3     0003_02     Europa     False  A/0/S  TRAPPIST-1e  33.0  False   \n",
       "4     0004_01      Earth     False  F/1/S  TRAPPIST-1e  16.0  False   \n",
       "\n",
       "   RoomService  FoodCourt  ShoppingMall     Spa  VRDeck               Name  \\\n",
       "0          0.0        0.0           0.0     0.0     0.0    Maham Ofracculy   \n",
       "1        109.0        9.0          25.0   549.0    44.0       Juanna Vines   \n",
       "2         43.0     3576.0           0.0  6715.0    49.0      Altark Susent   \n",
       "3          0.0     1283.0         371.0  3329.0   193.0       Solam Susent   \n",
       "4        303.0       70.0         151.0   565.0     2.0  Willy Santantines   \n",
       "\n",
       "   Transported  \n",
       "0        False  \n",
       "1         True  \n",
       "2        False  \n",
       "3        False  \n",
       "4         True  "
      ]
     },
     "execution_count": 12,
     "metadata": {},
     "output_type": "execute_result"
    }
   ],
   "source": [
    "train.head()"
   ]
  },
  {
   "cell_type": "code",
   "execution_count": 13,
   "metadata": {},
   "outputs": [
    {
     "data": {
      "text/html": [
       "<div>\n",
       "<style scoped>\n",
       "    .dataframe tbody tr th:only-of-type {\n",
       "        vertical-align: middle;\n",
       "    }\n",
       "\n",
       "    .dataframe tbody tr th {\n",
       "        vertical-align: top;\n",
       "    }\n",
       "\n",
       "    .dataframe thead th {\n",
       "        text-align: right;\n",
       "    }\n",
       "</style>\n",
       "<table border=\"1\" class=\"dataframe\">\n",
       "  <thead>\n",
       "    <tr style=\"text-align: right;\">\n",
       "      <th></th>\n",
       "      <th>PassengerId</th>\n",
       "      <th>HomePlanet</th>\n",
       "      <th>CryoSleep</th>\n",
       "      <th>Cabin</th>\n",
       "      <th>Destination</th>\n",
       "      <th>Age</th>\n",
       "      <th>VIP</th>\n",
       "      <th>RoomService</th>\n",
       "      <th>FoodCourt</th>\n",
       "      <th>ShoppingMall</th>\n",
       "      <th>Spa</th>\n",
       "      <th>VRDeck</th>\n",
       "      <th>Name</th>\n",
       "    </tr>\n",
       "  </thead>\n",
       "  <tbody>\n",
       "    <tr>\n",
       "      <th>0</th>\n",
       "      <td>0013_01</td>\n",
       "      <td>Earth</td>\n",
       "      <td>True</td>\n",
       "      <td>3</td>\n",
       "      <td>TRAPPIST-1e</td>\n",
       "      <td>27.0</td>\n",
       "      <td>False</td>\n",
       "      <td>0.0</td>\n",
       "      <td>0.0</td>\n",
       "      <td>0.0</td>\n",
       "      <td>0.0</td>\n",
       "      <td>0.0</td>\n",
       "      <td>Nelly Carsoning</td>\n",
       "    </tr>\n",
       "    <tr>\n",
       "      <th>1</th>\n",
       "      <td>0018_01</td>\n",
       "      <td>Earth</td>\n",
       "      <td>False</td>\n",
       "      <td>4</td>\n",
       "      <td>TRAPPIST-1e</td>\n",
       "      <td>19.0</td>\n",
       "      <td>False</td>\n",
       "      <td>0.0</td>\n",
       "      <td>9.0</td>\n",
       "      <td>0.0</td>\n",
       "      <td>2823.0</td>\n",
       "      <td>0.0</td>\n",
       "      <td>Lerome Peckers</td>\n",
       "    </tr>\n",
       "  </tbody>\n",
       "</table>\n",
       "</div>"
      ],
      "text/plain": [
       "  PassengerId HomePlanet CryoSleep Cabin  Destination   Age    VIP  \\\n",
       "0     0013_01      Earth      True     3  TRAPPIST-1e  27.0  False   \n",
       "1     0018_01      Earth     False     4  TRAPPIST-1e  19.0  False   \n",
       "\n",
       "   RoomService  FoodCourt  ShoppingMall     Spa  VRDeck             Name  \n",
       "0          0.0        0.0           0.0     0.0     0.0  Nelly Carsoning  \n",
       "1          0.0        9.0           0.0  2823.0     0.0   Lerome Peckers  "
      ]
     },
     "execution_count": 13,
     "metadata": {},
     "output_type": "execute_result"
    }
   ],
   "source": [
    "# Replace alphabets and '/' from the Cabin values\n",
    "train['Cabin'] = train['Cabin'].str.replace('[^0-9]','')\n",
    "test['Cabin'] = test['Cabin'].str.replace('[^0-9]','')\n",
    "test.head(2)"
   ]
  },
  {
   "cell_type": "code",
   "execution_count": 14,
   "metadata": {},
   "outputs": [
    {
     "name": "stdout",
     "output_type": "stream",
     "text": [
      "TRAPPIST-1e      0.694983\n",
      "55 Cancri e      0.211491\n",
      "PSO J318.5-22    0.093526\n",
      "Name: Destination, dtype: float64\n",
      "Earth     0.541922\n",
      "Europa    0.250942\n",
      "Mars      0.207136\n",
      "Name: HomePlanet, dtype: float64\n"
     ]
    }
   ],
   "source": [
    "# Count each values in Destination and Homeplanet\n",
    "print(train.Destination.value_counts(['TRAPPIST-1e']))\n",
    "print(train.HomePlanet.value_counts(['TRAPPIST-1e']))"
   ]
  },
  {
   "cell_type": "code",
   "execution_count": 15,
   "metadata": {},
   "outputs": [],
   "source": [
    "# Replace categorical Home planet values with 0 1 2 3\n",
    "train.HomePlanet.replace({'Europa':2,'Earth':3,'Mars':1,\n",
    "                             None:3}, inplace = True)\n",
    "\n",
    "# Replace categorical destination values with 0 1 2 3\n",
    "# train.Destination.replace({'TRAPPIST-1e':3, 'PSO J318.5-22':1, \n",
    "#                               '55 Cancri e':2,None:3}, inplace = True)\n",
    "\n",
    "age_mean = train.Age.mean()\n",
    "train.Age.fillna(age_mean, inplace = True)\n",
    "\n",
    "# Fill boolean values with 1, 0 in train_df features\n",
    "train.CryoSleep.replace({True:1,False:0}, inplace = True)\n",
    "train.Transported.replace({True:1,False:0}, inplace = True)\n",
    "\n",
    "train.dropna(inplace = True)\n",
    "# train.fillna(0,inplace = True)\n"
   ]
  },
  {
   "cell_type": "code",
   "execution_count": 16,
   "metadata": {},
   "outputs": [],
   "source": [
    "# Dropping features VIP as it has lesser dependency on target variable\n",
    "train.drop(columns=['Name','PassengerId','VIP', 'Destination'], inplace = True)\n",
    "test.drop(columns=['Name','PassengerId','VIP', 'Destination'], inplace = True)"
   ]
  },
  {
   "cell_type": "code",
   "execution_count": 17,
   "metadata": {},
   "outputs": [
    {
     "data": {
      "text/html": [
       "<div>\n",
       "<style scoped>\n",
       "    .dataframe tbody tr th:only-of-type {\n",
       "        vertical-align: middle;\n",
       "    }\n",
       "\n",
       "    .dataframe tbody tr th {\n",
       "        vertical-align: top;\n",
       "    }\n",
       "\n",
       "    .dataframe thead th {\n",
       "        text-align: right;\n",
       "    }\n",
       "</style>\n",
       "<table border=\"1\" class=\"dataframe\">\n",
       "  <thead>\n",
       "    <tr style=\"text-align: right;\">\n",
       "      <th></th>\n",
       "      <th>HomePlanet</th>\n",
       "      <th>CryoSleep</th>\n",
       "      <th>Cabin</th>\n",
       "      <th>Age</th>\n",
       "      <th>RoomService</th>\n",
       "      <th>FoodCourt</th>\n",
       "      <th>ShoppingMall</th>\n",
       "      <th>Spa</th>\n",
       "      <th>VRDeck</th>\n",
       "    </tr>\n",
       "  </thead>\n",
       "  <tbody>\n",
       "    <tr>\n",
       "      <th>0</th>\n",
       "      <td>3</td>\n",
       "      <td>1.0</td>\n",
       "      <td>3</td>\n",
       "      <td>27.0</td>\n",
       "      <td>0.0</td>\n",
       "      <td>0.0</td>\n",
       "      <td>0.0</td>\n",
       "      <td>0.0</td>\n",
       "      <td>0.0</td>\n",
       "    </tr>\n",
       "    <tr>\n",
       "      <th>1</th>\n",
       "      <td>3</td>\n",
       "      <td>0.0</td>\n",
       "      <td>4</td>\n",
       "      <td>19.0</td>\n",
       "      <td>0.0</td>\n",
       "      <td>9.0</td>\n",
       "      <td>0.0</td>\n",
       "      <td>2823.0</td>\n",
       "      <td>0.0</td>\n",
       "    </tr>\n",
       "    <tr>\n",
       "      <th>2</th>\n",
       "      <td>2</td>\n",
       "      <td>1.0</td>\n",
       "      <td>0</td>\n",
       "      <td>31.0</td>\n",
       "      <td>0.0</td>\n",
       "      <td>0.0</td>\n",
       "      <td>0.0</td>\n",
       "      <td>0.0</td>\n",
       "      <td>0.0</td>\n",
       "    </tr>\n",
       "    <tr>\n",
       "      <th>3</th>\n",
       "      <td>2</td>\n",
       "      <td>0.0</td>\n",
       "      <td>1</td>\n",
       "      <td>38.0</td>\n",
       "      <td>0.0</td>\n",
       "      <td>6652.0</td>\n",
       "      <td>0.0</td>\n",
       "      <td>181.0</td>\n",
       "      <td>585.0</td>\n",
       "    </tr>\n",
       "    <tr>\n",
       "      <th>4</th>\n",
       "      <td>3</td>\n",
       "      <td>0.0</td>\n",
       "      <td>5</td>\n",
       "      <td>20.0</td>\n",
       "      <td>10.0</td>\n",
       "      <td>0.0</td>\n",
       "      <td>635.0</td>\n",
       "      <td>0.0</td>\n",
       "      <td>0.0</td>\n",
       "    </tr>\n",
       "  </tbody>\n",
       "</table>\n",
       "</div>"
      ],
      "text/plain": [
       "   HomePlanet  CryoSleep Cabin   Age  RoomService  FoodCourt  ShoppingMall  \\\n",
       "0           3        1.0     3  27.0          0.0        0.0           0.0   \n",
       "1           3        0.0     4  19.0          0.0        9.0           0.0   \n",
       "2           2        1.0     0  31.0          0.0        0.0           0.0   \n",
       "3           2        0.0     1  38.0          0.0     6652.0           0.0   \n",
       "4           3        0.0     5  20.0         10.0        0.0         635.0   \n",
       "\n",
       "      Spa  VRDeck  \n",
       "0     0.0     0.0  \n",
       "1  2823.0     0.0  \n",
       "2     0.0     0.0  \n",
       "3   181.0   585.0  \n",
       "4     0.0     0.0  "
      ]
     },
     "execution_count": 17,
     "metadata": {},
     "output_type": "execute_result"
    }
   ],
   "source": [
    "# Fill boolean values with 1, 0 in train_df features\n",
    "test.CryoSleep.replace({True:1,False:0}, inplace = True)\n",
    "\n",
    "# Replace categorical destination values with 0 1 2 3\n",
    "# test.Destination.replace({'TRAPPIST-1e':3, 'PSO J318.5-22':1, \n",
    "#                               '55 Cancri e':2,None:3}, inplace = True)\n",
    "\n",
    "# Replace categorical Home planet values with 1 2 3\n",
    "test.HomePlanet.replace({'Europa':2,'Earth':3,'Mars':1,\n",
    "                             None:3}, inplace = True)\n",
    "test_age_mean = test.Age.mean()\n",
    "test.Age.fillna(test_age_mean, inplace = True)\n",
    "test.dropna(inplace = True)\n",
    "# test.fillna(0, inplace = True)\n",
    "test.head()"
   ]
  },
  {
   "cell_type": "code",
   "execution_count": 18,
   "metadata": {},
   "outputs": [],
   "source": [
    "# Split dependent and independent variable\n",
    "X = train.loc[:, train.columns !='Transported']\n",
    "y = train.loc[:, train.columns =='Transported']"
   ]
  },
  {
   "cell_type": "code",
   "execution_count": 19,
   "metadata": {},
   "outputs": [
    {
     "name": "stdout",
     "output_type": "stream",
     "text": [
      "(6921, 9)\n",
      "(3645, 9)\n",
      "HomePlanet      0\n",
      "CryoSleep       0\n",
      "Cabin           0\n",
      "Age             0\n",
      "RoomService     0\n",
      "FoodCourt       0\n",
      "ShoppingMall    0\n",
      "Spa             0\n",
      "VRDeck          0\n",
      "dtype: int64\n"
     ]
    }
   ],
   "source": [
    "# verify shape of train and test\n",
    "print(X.shape)\n",
    "print(test.shape)\n",
    "print(test.isna().sum())"
   ]
  },
  {
   "cell_type": "code",
   "execution_count": 20,
   "metadata": {},
   "outputs": [],
   "source": [
    "# split X, y using train_test_split\n",
    "from sklearn.model_selection import train_test_split\n",
    "X_train,X_test,y_train,y_test = train_test_split(X,y,train_size=0.50, random_state=100)"
   ]
  },
  {
   "cell_type": "code",
   "execution_count": 21,
   "metadata": {},
   "outputs": [
    {
     "data": {
      "text/plain": [
       "Transported\n",
       "0              0.500578\n",
       "1              0.499422\n",
       "dtype: float64"
      ]
     },
     "execution_count": 21,
     "metadata": {},
     "output_type": "execute_result"
    }
   ],
   "source": [
    "# Check distribution of labels\n",
    "y_train.value_counts(normalize = True)"
   ]
  },
  {
   "cell_type": "code",
   "execution_count": 22,
   "metadata": {},
   "outputs": [],
   "source": [
    "from sklearn.preprocessing import StandardScaler\n",
    " \n",
    "ss = StandardScaler()\n",
    "\n",
    "# Fit and transform the data\n",
    "X_train_scaled = ss.fit_transform(X_train)\n",
    "X_test_scaled = ss.fit_transform(X_test)"
   ]
  },
  {
   "cell_type": "markdown",
   "metadata": {},
   "source": [
    "## Logistic Regression Model"
   ]
  },
  {
   "cell_type": "code",
   "execution_count": 23,
   "metadata": {},
   "outputs": [
    {
     "name": "stdout",
     "output_type": "stream",
     "text": [
      "Training Data Score: 0.7884393063583816\n",
      "Testing Data Score: 0.7850332273909275\n"
     ]
    }
   ],
   "source": [
    "# Scaled Logistic Regression Model\n",
    "from sklearn.linear_model import LogisticRegression\n",
    "lr = LogisticRegression(class_weight = 'balanced', solver='saga')\n",
    "lr.fit(X_train, y_train)\n",
    "\n",
    "# Model Accuracy\n",
    "print(f\"Training Data Score: {lr.score(X_train, y_train)}\")\n",
    "print(f\"Testing Data Score: {lr.score(X_test, y_test)}\")\n",
    "y_pred = lr.predict(test)"
   ]
  },
  {
   "cell_type": "markdown",
   "metadata": {},
   "source": [
    "## Random Forest Classifier"
   ]
  },
  {
   "cell_type": "code",
   "execution_count": 24,
   "metadata": {},
   "outputs": [
    {
     "name": "stdout",
     "output_type": "stream",
     "text": [
      "Training score: 0.8338150289017341\n",
      "Testing score: 0.7960127130887027\n"
     ]
    },
    {
     "data": {
      "text/plain": [
       "array([1, 0, 1, ..., 1, 1, 1], dtype=int64)"
      ]
     },
     "execution_count": 24,
     "metadata": {},
     "output_type": "execute_result"
    }
   ],
   "source": [
    "from sklearn.ensemble import RandomForestClassifier\n",
    "\n",
    "# Train and fit the model\n",
    "rfc = RandomForestClassifier(n_estimators = 100,max_features = 'auto',\n",
    "                             min_samples_split=9, random_state=90,min_samples_leaf=13)\n",
    "\n",
    "rfc.fit(X_train, y_train)\n",
    "\n",
    "importance = rfc.feature_importances_\n",
    "\n",
    "print(f'Training score: {rfc.score(X_train, y_train)}')\n",
    "print(f'Testing score: {rfc.score(X_test, y_test)}')\n",
    "y_pred_rfc  =  rfc.predict(test)\n",
    "y_pred_rfc"
   ]
  },
  {
   "cell_type": "code",
   "execution_count": 26,
   "metadata": {},
   "outputs": [
    {
     "name": "stdout",
     "output_type": "stream",
     "text": [
      "Feature: 0, Score: 0.08464\n",
      "Feature: 1, Score: 0.21739\n",
      "Feature: 2, Score: 0.08001\n",
      "Feature: 3, Score: 0.07066\n",
      "Feature: 4, Score: 0.12682\n",
      "Feature: 5, Score: 0.10923\n",
      "Feature: 6, Score: 0.06747\n",
      "Feature: 7, Score: 0.12060\n",
      "Feature: 8, Score: 0.12317\n"
     ]
    },
    {
     "data": {
      "image/png": "[encoded data removed]",
      "text/plain": [
       "<Figure size 432x288 with 1 Axes>"
      ]
     },
     "metadata": {
      "needs_background": "light"
     },
     "output_type": "display_data"
    }
   ],
   "source": [
    "from matplotlib import pyplot as plt\n",
    "for i,v in enumerate(importance):\n",
    "    print('Feature: %0d, Score: %.5f' % (i,v))\n",
    "# plot feature importance\n",
    "plt.bar([x for x in range(len(importance))], importance)\n",
    "plt.show()"
   ]
  },
  {
   "cell_type": "code",
   "execution_count": 27,
   "metadata": {},
   "outputs": [
    {
     "name": "stdout",
     "output_type": "stream",
     "text": [
      "Training Score: 0.8453757225433526\n",
      "Testing Score: 0.777520947702976\n"
     ]
    },
    {
     "data": {
      "text/plain": [
       "array([1, 0, 1, ..., 1, 1, 1], dtype=int64)"
      ]
     },
     "execution_count": 27,
     "metadata": {},
     "output_type": "execute_result"
    }
   ],
   "source": [
    "from sklearn.ensemble import AdaBoostClassifier\n",
    "from sklearn.tree import DecisionTreeClassifier\n",
    "\n",
    "# Train and fit the model\n",
    "# abc = AdaBoostClassifier(random_state=19, n_estimators=76, \n",
    "#                          base_estimator=DecisionTreeClassifier(\n",
    "#                              max_depth=2,max_features = 'auto'))\n",
    "\n",
    "abc = AdaBoostClassifier(random_state=19, n_estimators=105, \n",
    "                         base_estimator=DecisionTreeClassifier(\n",
    "                             max_depth=2,max_features = 'auto', min_samples_leaf=12))\n",
    "abc.fit(X_train, y_train)\n",
    "\n",
    "# Model accuracy\n",
    "print(f'Training Score: {abc.score(X_train, y_train)}')\n",
    "print(f'Testing Score: {abc.score(X_test, y_test)}')\n",
    "y_pred_ada  =  abc.predict(test)\n",
    "y_pred_ada"
   ]
  },
  {
   "cell_type": "markdown",
   "metadata": {},
   "source": [
    "## Scaled logistic Regression Model"
   ]
  },
  {
   "cell_type": "code",
   "execution_count": 28,
   "metadata": {},
   "outputs": [
    {
     "name": "stdout",
     "output_type": "stream",
     "text": [
      "Training Data Score: 0.7901734104046243\n",
      "Testing Data Score: 0.7792545507078878\n"
     ]
    },
    {
     "data": {
      "text/plain": [
       "array([0, 0, 0, ..., 0, 1, 0], dtype=int64)"
      ]
     },
     "execution_count": 28,
     "metadata": {},
     "output_type": "execute_result"
    }
   ],
   "source": [
    "# Scaled Logistic Regression Model\n",
    "from sklearn.linear_model import LogisticRegression\n",
    "lr = LogisticRegression(class_weight = 'balanced', solver='saga')\n",
    "lr.fit(X_train_scaled, y_train)\n",
    "\n",
    "# Model Accuracy\n",
    "print(f\"Training Data Score: {lr.score(X_train_scaled, y_train)}\")\n",
    "print(f\"Testing Data Score: {lr.score(X_test_scaled, y_test)}\")\n",
    "y_pred_lr = lr.predict(test)\n",
    "y_pred_lr"
   ]
  },
  {
   "cell_type": "markdown",
   "metadata": {},
   "source": [
    "## Decision Tree Classifier"
   ]
  },
  {
   "cell_type": "code",
   "execution_count": 29,
   "metadata": {},
   "outputs": [
    {
     "name": "stdout",
     "output_type": "stream",
     "text": [
      "Training score: 0.8210982658959538\n",
      "Testing score: 0.7717422710199364\n"
     ]
    },
    {
     "data": {
      "text/plain": [
       "array([0, 0, 1, ..., 0, 0, 0], dtype=int64)"
      ]
     },
     "execution_count": 29,
     "metadata": {},
     "output_type": "execute_result"
    }
   ],
   "source": [
    "from sklearn.tree import DecisionTreeClassifier\n",
    "\n",
    "# Train and fit the model\n",
    "dtc = DecisionTreeClassifier(max_depth=9,min_samples_leaf=15)\n",
    "dtc.fit(X_train_scaled, y_train)\n",
    "\n",
    "# Model Accuracy\n",
    "print(f'Training score: {dtc.score(X_train_scaled, y_train)}')\n",
    "print(f'Testing score: {dtc.score(X_test_scaled, y_test)}')\n",
    "y_pred_dtc  =  dtc.predict(test)\n",
    "y_pred_dtc"
   ]
  },
  {
   "cell_type": "code",
   "execution_count": 30,
   "metadata": {},
   "outputs": [
    {
     "name": "stdout",
     "output_type": "stream",
     "text": [
      "Training Data Score: 0.8115606936416185\n",
      "Testing Data Score: 0.7890783010690552\n"
     ]
    },
    {
     "data": {
      "text/plain": [
       "array([0, 0, 0, ..., 0, 0, 0], dtype=int64)"
      ]
     },
     "execution_count": 30,
     "metadata": {},
     "output_type": "execute_result"
    }
   ],
   "source": [
    "from sklearn.svm import SVC, SVR \n",
    "# Train and fit the model\n",
    "svm_model = SVC(kernel='rbf', C=5, gamma='auto')\n",
    "svm_model.fit(X_train_scaled, y_train)\n",
    "\n",
    "# importance = svm_model.feature_importances_\n",
    "# Model Accuracy\n",
    "print(f\"Training Data Score: {svm_model.score(X_train_scaled, y_train)}\")\n",
    "print(f\"Testing Data Score: {svm_model.score(X_test_scaled, y_test)}\")\n",
    "y_pred_svm=svm_model.predict(test)\n",
    "y_pred_svm"
   ]
  },
  {
   "cell_type": "code",
   "execution_count": 34,
   "metadata": {},
   "outputs": [],
   "source": [
    "# Automated Neural Network Model\n",
    "import tensorflow as tf\n",
    "\n",
    "# Create a method that creates a new Sequential model with hyperparameter options\n",
    "def create_model(hp):\n",
    "    nn_model = tf.keras.models.Sequential()\n",
    "\n",
    "    # Allow kerastuner to decide which activation function to use in hidden layers\n",
    "    activation = hp.Choice('activation', ['relu','tanh', 'sigmoid'])\n",
    "    \n",
    "    # Allow kerastuner to decide number of neurons in first layer\n",
    "    nn_model.add(tf.keras.layers.Dense(units=hp.Int('first_units',\n",
    "        min_value=1,\n",
    "        max_value=30,\n",
    "        step=4), activation=activation, input_dim=9))\n",
    "\n",
    "    # Allow kerastuner to decide number of hidden layers and neurons in hidden layers\n",
    "    for i in range(hp.Int('num_layers', 1, 7)):\n",
    "        nn_model.add(tf.keras.layers.Dense(units=hp.Int('units_' + str(i),\n",
    "            min_value=1,\n",
    "            max_value=30,\n",
    "            step=4),\n",
    "            activation=activation))\n",
    "    \n",
    "    # Output layer\n",
    "    nn_model.add(tf.keras.layers.Dense(units=1, activation=\"sigmoid\"))\n",
    "\n",
    "    # Compile the model\n",
    "    nn_model.compile(loss=\"binary_crossentropy\", optimizer='adam', metrics=[\"accuracy\"])\n",
    "    \n",
    "    return nn_model\n"
   ]
  },
  {
   "cell_type": "code",
   "execution_count": 35,
   "metadata": {},
   "outputs": [],
   "source": [
    "# Import the kerastuner library\n",
    "import keras_tuner as kt\n",
    "\n",
    "tuner = kt.Hyperband(\n",
    "    create_model,\n",
    "    objective=\"val_accuracy\",\n",
    "    factor = 4,\n",
    "    max_epochs=20,\n",
    "    hyperband_iterations=6)"
   ]
  },
  {
   "cell_type": "code",
   "execution_count": 36,
   "metadata": {},
   "outputs": [
    {
     "name": "stdout",
     "output_type": "stream",
     "text": [
      "Trial 264 Complete [00h 00m 10s]\n",
      "val_accuracy: 0.7896561622619629\n",
      "\n",
      "Best val_accuracy So Far: 0.8009245991706848\n",
      "Total elapsed time: 00h 18m 23s\n",
      "INFO:tensorflow:Oracle triggered exit\n",
      "Results summary\n",
      "Results in .\\untitled_project\n",
      "Showing 10 best trials\n",
      "Objective(name='val_accuracy', direction='max')\n",
      "Trial summary\n",
      "Hyperparameters:\n",
      "activation: tanh\n",
      "first_units: 21\n",
      "num_layers: 6\n",
      "units_0: 25\n",
      "units_1: 17\n",
      "units_2: 13\n",
      "units_3: 25\n",
      "units_4: 25\n",
      "units_5: 21\n",
      "units_6: 21\n",
      "tuner/epochs: 20\n",
      "tuner/initial_epoch: 5\n",
      "tuner/bracket: 1\n",
      "tuner/round: 1\n",
      "tuner/trial_id: 19e0ee94bba0e3d2d428434e01bbfcc6\n",
      "Score: 0.8009245991706848\n",
      "Trial summary\n",
      "Hyperparameters:\n",
      "activation: tanh\n",
      "first_units: 25\n",
      "num_layers: 2\n",
      "units_0: 29\n",
      "units_1: 21\n",
      "units_2: 9\n",
      "units_3: 5\n",
      "units_4: 9\n",
      "units_5: 17\n",
      "units_6: 5\n",
      "tuner/epochs: 20\n",
      "tuner/initial_epoch: 0\n",
      "tuner/bracket: 0\n",
      "tuner/round: 0\n",
      "Score: 0.79976886510849\n",
      "Trial summary\n",
      "Hyperparameters:\n",
      "activation: relu\n",
      "first_units: 29\n",
      "num_layers: 6\n",
      "units_0: 25\n",
      "units_1: 5\n",
      "units_2: 25\n",
      "units_3: 21\n",
      "units_4: 13\n",
      "units_5: 9\n",
      "units_6: 13\n",
      "tuner/epochs: 20\n",
      "tuner/initial_epoch: 5\n",
      "tuner/bracket: 2\n",
      "tuner/round: 2\n",
      "tuner/trial_id: ded6a398e4804ce0e131afc773ab8cec\n",
      "Score: 0.7994799017906189\n",
      "Trial summary\n",
      "Hyperparameters:\n",
      "activation: tanh\n",
      "first_units: 17\n",
      "num_layers: 4\n",
      "units_0: 9\n",
      "units_1: 21\n",
      "units_2: 17\n",
      "units_3: 29\n",
      "units_4: 5\n",
      "units_5: 13\n",
      "units_6: 29\n",
      "tuner/epochs: 20\n",
      "tuner/initial_epoch: 0\n",
      "tuner/bracket: 0\n",
      "tuner/round: 0\n",
      "Score: 0.7989020347595215\n",
      "Trial summary\n",
      "Hyperparameters:\n",
      "activation: relu\n",
      "first_units: 25\n",
      "num_layers: 3\n",
      "units_0: 17\n",
      "units_1: 21\n",
      "units_2: 9\n",
      "units_3: 13\n",
      "units_4: 9\n",
      "units_5: 1\n",
      "units_6: 9\n",
      "tuner/epochs: 20\n",
      "tuner/initial_epoch: 0\n",
      "tuner/bracket: 0\n",
      "tuner/round: 0\n",
      "Score: 0.7986131310462952\n",
      "Trial summary\n",
      "Hyperparameters:\n",
      "activation: relu\n",
      "first_units: 17\n",
      "num_layers: 5\n",
      "units_0: 5\n",
      "units_1: 13\n",
      "units_2: 25\n",
      "units_3: 17\n",
      "units_4: 17\n",
      "units_5: 25\n",
      "units_6: 29\n",
      "tuner/epochs: 20\n",
      "tuner/initial_epoch: 0\n",
      "tuner/bracket: 0\n",
      "tuner/round: 0\n",
      "Score: 0.7980352640151978\n",
      "Trial summary\n",
      "Hyperparameters:\n",
      "activation: tanh\n",
      "first_units: 25\n",
      "num_layers: 4\n",
      "units_0: 17\n",
      "units_1: 5\n",
      "units_2: 21\n",
      "units_3: 9\n",
      "units_4: 21\n",
      "units_5: 17\n",
      "units_6: 21\n",
      "tuner/epochs: 20\n",
      "tuner/initial_epoch: 5\n",
      "tuner/bracket: 1\n",
      "tuner/round: 1\n",
      "tuner/trial_id: 7d5039bd7839cfea6d73b9ed8fa6d258\n",
      "Score: 0.7980352640151978\n",
      "Trial summary\n",
      "Hyperparameters:\n",
      "activation: relu\n",
      "first_units: 21\n",
      "num_layers: 2\n",
      "units_0: 13\n",
      "units_1: 25\n",
      "units_2: 29\n",
      "units_3: 9\n",
      "units_4: 13\n",
      "units_5: 17\n",
      "units_6: 21\n",
      "tuner/epochs: 20\n",
      "tuner/initial_epoch: 5\n",
      "tuner/bracket: 2\n",
      "tuner/round: 2\n",
      "tuner/trial_id: 782bc0a00b3d6e7b2b3ad0b7e45add70\n",
      "Score: 0.7977463006973267\n",
      "Trial summary\n",
      "Hyperparameters:\n",
      "activation: relu\n",
      "first_units: 29\n",
      "num_layers: 6\n",
      "units_0: 13\n",
      "units_1: 17\n",
      "units_2: 5\n",
      "units_3: 5\n",
      "units_4: 21\n",
      "units_5: 13\n",
      "units_6: 17\n",
      "tuner/epochs: 20\n",
      "tuner/initial_epoch: 0\n",
      "tuner/bracket: 0\n",
      "tuner/round: 0\n",
      "Score: 0.7974573969841003\n",
      "Trial summary\n",
      "Hyperparameters:\n",
      "activation: tanh\n",
      "first_units: 21\n",
      "num_layers: 3\n",
      "units_0: 21\n",
      "units_1: 17\n",
      "units_2: 5\n",
      "units_3: 13\n",
      "units_4: 5\n",
      "units_5: 9\n",
      "units_6: 9\n",
      "tuner/epochs: 20\n",
      "tuner/initial_epoch: 5\n",
      "tuner/bracket: 2\n",
      "tuner/round: 2\n",
      "tuner/trial_id: 135f0acc0d9ffdc790deb2c6804049a7\n",
      "Score: 0.7971684336662292\n"
     ]
    }
   ],
   "source": [
    "# # Run the kerastuner search for best hyperparameters\n",
    "tuner.search(X_train_scaled,y_train,epochs=20,validation_data=(X_test_scaled,y_test))\n",
    "tuner.results_summary()"
   ]
  },
  {
   "cell_type": "code",
   "execution_count": null,
   "metadata": {},
   "outputs": [],
   "source": []
  }
 ],
 "metadata": {
  "kernelspec": {
   "display_name": "Python 3",
   "language": "python",
   "name": "python3"
  },
  "language_info": {
   "codemirror_mode": {
    "name": "ipython",
    "version": 3
   },
   "file_extension": ".py",
   "mimetype": "text/x-python",
   "name": "python",
   "nbconvert_exporter": "python",
   "pygments_lexer": "ipython3",
   "version": "3.8.5"
  }
 },
 "nbformat": 4,
 "nbformat_minor": 4
}
